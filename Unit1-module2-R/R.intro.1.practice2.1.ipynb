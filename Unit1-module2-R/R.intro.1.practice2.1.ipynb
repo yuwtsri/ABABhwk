{
 "cells": [
  {
   "cell_type": "markdown",
   "metadata": {},
   "source": [
    "# R intro 1 - Practice 1.1"
   ]
  },
  {
   "cell_type": "markdown",
   "metadata": {},
   "source": [
    "### 1. Check your working directory, change directory to Unit1-module2-R, and list the files in the folder"
   ]
  },
  {
   "cell_type": "code",
   "execution_count": 1,
   "metadata": {},
   "outputs": [
    {
     "data": {
      "text/html": [
       "'/Users/yolandatiao/Documents/0_Bioinformatics2017/2018_Bioinformatics/Applied-Bioinformatics-Course/Unit1-module2-R'"
      ],
      "text/latex": [
       "'/Users/yolandatiao/Documents/0\\_Bioinformatics2017/2018\\_Bioinformatics/Applied-Bioinformatics-Course/Unit1-module2-R'"
      ],
      "text/markdown": [
       "'/Users/yolandatiao/Documents/0_Bioinformatics2017/2018_Bioinformatics/Applied-Bioinformatics-Course/Unit1-module2-R'"
      ],
      "text/plain": [
       "[1] \"/Users/yolandatiao/Documents/0_Bioinformatics2017/2018_Bioinformatics/Applied-Bioinformatics-Course/Unit1-module2-R\""
      ]
     },
     "metadata": {},
     "output_type": "display_data"
    }
   ],
   "source": [
    "getwd()\n",
    "setwd('/Users/yolandatiao/Documents/0_Bioinformatics2017/2018_Bioinformatics/Applied-Bioinformatics-Course/Unit1-module2-R')"
   ]
  },
  {
   "cell_type": "markdown",
   "metadata": {},
   "source": [
    "### 2. Create a vector containing names of 5 states and print it."
   ]
  },
  {
   "cell_type": "code",
   "execution_count": 2,
   "metadata": {},
   "outputs": [
    {
     "name": "stdout",
     "output_type": "stream",
     "text": [
      "[1] \"Florida\"        \"California\"     \"Texas\"          \"North Carolina\"\n",
      "[5] \"New York\"      \n"
     ]
    }
   ],
   "source": [
    "states <- c(\"Florida\", \"California\", \"Texas\", \"North Carolina\", \"New York\")\n",
    "print(states)"
   ]
  },
  {
   "cell_type": "markdown",
   "metadata": {},
   "source": [
    "### 3. Create a matrix with 100 numbers, with 10 column and 10 rows, and print it."
   ]
  },
  {
   "cell_type": "code",
   "execution_count": 3,
   "metadata": {},
   "outputs": [
    {
     "name": "stdout",
     "output_type": "stream",
     "text": [
      "      [,1] [,2] [,3] [,4] [,5] [,6] [,7] [,8] [,9] [,10]\n",
      " [1,]    1   11   21   31   41   51   61   71   81    91\n",
      " [2,]    2   12   22   32   42   52   62   72   82    92\n",
      " [3,]    3   13   23   33   43   53   63   73   83    93\n",
      " [4,]    4   14   24   34   44   54   64   74   84    94\n",
      " [5,]    5   15   25   35   45   55   65   75   85    95\n",
      " [6,]    6   16   26   36   46   56   66   76   86    96\n",
      " [7,]    7   17   27   37   47   57   67   77   87    97\n",
      " [8,]    8   18   28   38   48   58   68   78   88    98\n",
      " [9,]    9   19   29   39   49   59   69   79   89    99\n",
      "[10,]   10   20   30   40   50   60   70   80   90   100\n"
     ]
    }
   ],
   "source": [
    "my.matrix <- matrix(1:100, nrow=10, ncol=10)\n",
    "print(my.matrix)"
   ]
  },
  {
   "cell_type": "code",
   "execution_count": 2,
   "metadata": {},
   "outputs": [
    {
     "name": "stdout",
     "output_type": "stream",
     "text": [
      "      [,1] [,2] [,3] [,4] [,5] [,6] [,7] [,8] [,9] [,10]\n",
      " [1,]    1    2    3    4    5    6    7    8    9    10\n",
      " [2,]   11   12   13   14   15   16   17   18   19    20\n",
      " [3,]   21   22   23   24   25   26   27   28   29    30\n",
      " [4,]   31   32   33   34   35   36   37   38   39    40\n",
      " [5,]   41   42   43   44   45   46   47   48   49    50\n",
      " [6,]   51   52   53   54   55   56   57   58   59    60\n",
      " [7,]   61   62   63   64   65   66   67   68   69    70\n",
      " [8,]   71   72   73   74   75   76   77   78   79    80\n",
      " [9,]   81   82   83   84   85   86   87   88   89    90\n",
      "[10,]   91   92   93   94   95   96   97   98   99   100\n"
     ]
    }
   ],
   "source": [
    "my.matrix.2 <- matrix(1:100, byrow=TRUE, nrow=10, ncol=10) # By using \"byrow\" option, the arrangement of number changed\n",
    "print(my.matrix.2)"
   ]
  },
  {
   "cell_type": "markdown",
   "metadata": {},
   "source": [
    "### 2. Create a dataframe for experiment animals to record their information. Name the dataframe's columns. Make gender of animals a nominal variable."
   ]
  },
  {
   "cell_type": "code",
   "execution_count": 4,
   "metadata": {},
   "outputs": [
    {
     "data": {
      "text/html": [
       "<dl class=dl-horizontal>\n",
       "\t<dt>Female</dt>\n",
       "\t\t<dd>4</dd>\n",
       "\t<dt>Male</dt>\n",
       "\t\t<dd>4</dd>\n",
       "</dl>\n"
      ],
      "text/latex": [
       "\\begin{description*}\n",
       "\\item[Female] 4\n",
       "\\item[Male] 4\n",
       "\\end{description*}\n"
      ],
      "text/markdown": [
       "Female\n",
       ":   4Male\n",
       ":   4\n",
       "\n"
      ],
      "text/plain": [
       "Female   Male \n",
       "     4      4 "
      ]
     },
     "metadata": {},
     "output_type": "display_data"
    },
    {
     "data": {
      "text/html": [
       "<table>\n",
       "<thead><tr><th scope=col>Name</th><th scope=col>Number</th><th scope=col>Weight</th><th scope=col>Treatment</th><th scope=col>Gender</th></tr></thead>\n",
       "<tbody>\n",
       "\t<tr><td>Fluf1 </td><td>7103  </td><td>19    </td><td> TRUE </td><td>Female</td></tr>\n",
       "\t<tr><td>Fluf2 </td><td>7104  </td><td>18    </td><td> TRUE </td><td>Female</td></tr>\n",
       "\t<tr><td>Fluf3 </td><td>7105  </td><td>23    </td><td>FALSE </td><td>Male  </td></tr>\n",
       "\t<tr><td>Fluf4 </td><td>7106  </td><td>22    </td><td>FALSE </td><td>Male  </td></tr>\n",
       "\t<tr><td>Fluf5 </td><td>7107  </td><td>17    </td><td> TRUE </td><td>Female</td></tr>\n",
       "\t<tr><td>Fluf6 </td><td>7108  </td><td>18    </td><td>FALSE </td><td>Female</td></tr>\n",
       "\t<tr><td>Fluf7 </td><td>7109  </td><td>21    </td><td> TRUE </td><td>Male  </td></tr>\n",
       "\t<tr><td>Fluf8 </td><td>7110  </td><td>20    </td><td>FALSE </td><td>Male  </td></tr>\n",
       "</tbody>\n",
       "</table>\n"
      ],
      "text/latex": [
       "\\begin{tabular}{r|lllll}\n",
       " Name & Number & Weight & Treatment & Gender\\\\\n",
       "\\hline\n",
       "\t Fluf1  & 7103   & 19     &  TRUE  & Female\\\\\n",
       "\t Fluf2  & 7104   & 18     &  TRUE  & Female\\\\\n",
       "\t Fluf3  & 7105   & 23     & FALSE  & Male  \\\\\n",
       "\t Fluf4  & 7106   & 22     & FALSE  & Male  \\\\\n",
       "\t Fluf5  & 7107   & 17     &  TRUE  & Female\\\\\n",
       "\t Fluf6  & 7108   & 18     & FALSE  & Female\\\\\n",
       "\t Fluf7  & 7109   & 21     &  TRUE  & Male  \\\\\n",
       "\t Fluf8  & 7110   & 20     & FALSE  & Male  \\\\\n",
       "\\end{tabular}\n"
      ],
      "text/markdown": [
       "\n",
       "Name | Number | Weight | Treatment | Gender | \n",
       "|---|---|---|---|---|---|---|---|\n",
       "| Fluf1  | 7103   | 19     |  TRUE  | Female | \n",
       "| Fluf2  | 7104   | 18     |  TRUE  | Female | \n",
       "| Fluf3  | 7105   | 23     | FALSE  | Male   | \n",
       "| Fluf4  | 7106   | 22     | FALSE  | Male   | \n",
       "| Fluf5  | 7107   | 17     |  TRUE  | Female | \n",
       "| Fluf6  | 7108   | 18     | FALSE  | Female | \n",
       "| Fluf7  | 7109   | 21     |  TRUE  | Male   | \n",
       "| Fluf8  | 7110   | 20     | FALSE  | Male   | \n",
       "\n",
       "\n"
      ],
      "text/plain": [
       "  Name  Number Weight Treatment Gender\n",
       "1 Fluf1 7103   19      TRUE     Female\n",
       "2 Fluf2 7104   18      TRUE     Female\n",
       "3 Fluf3 7105   23     FALSE     Male  \n",
       "4 Fluf4 7106   22     FALSE     Male  \n",
       "5 Fluf5 7107   17      TRUE     Female\n",
       "6 Fluf6 7108   18     FALSE     Female\n",
       "7 Fluf7 7109   21      TRUE     Male  \n",
       "8 Fluf8 7110   20     FALSE     Male  "
      ]
     },
     "metadata": {},
     "output_type": "display_data"
    }
   ],
   "source": [
    "#Animal info:\n",
    "#Names: Fluf1, Fluf2, Fluf3, Fluf4, Fluf5, Fluf6, Fluf7, Fluf8\n",
    "#Number: 7103, 7104, 7105, 7106, 7107, 7108, 7109, 7110\n",
    "#Weight: 19, 18, 23, 22, 17, 18, 21, 20 \n",
    "#Treated: TRUE, TRUE, FALSE, FALSE, TRUE, FALSE, TRUE, FALSE\n",
    "#Gender: Female, Female, Male, Male, Female, Female, Male, Male\n",
    "\n",
    "names <- paste(rep(\"Fluf\", each=8), 1:8, sep=\"\")\n",
    "numbers <- c(7103:7110)\n",
    "weights <- c(19, 18, 23, 22, 17, 18, 21, 20)\n",
    "treatments <- c(TRUE, TRUE, FALSE, FALSE, TRUE, FALSE, TRUE, FALSE)\n",
    "genders <- c(\"Female\", \"Female\", \"Male\", \"Male\",\"Female\", \"Female\", \"Male\", \"Male\")\n",
    "genders <- factor(genders)\n",
    "summary(genders)\n",
    "exp.animals <- data.frame(Name=names, Number=numbers, Weight=weights, Treatment=treatments, Gender=genders)\n",
    "exp.animals"
   ]
  },
  {
   "cell_type": "code",
   "execution_count": 3,
   "metadata": {},
   "outputs": [
    {
     "data": {
      "text/html": [
       "<ol class=list-inline>\n",
       "\t<li>'Foo'</li>\n",
       "\t<li>'Foo'</li>\n",
       "\t<li>'Foo'</li>\n",
       "\t<li>'Foo'</li>\n",
       "\t<li>'Foo'</li>\n",
       "\t<li>'Foo'</li>\n",
       "\t<li>'Foo'</li>\n",
       "\t<li>'Foo'</li>\n",
       "\t<li>'Foo'</li>\n",
       "\t<li>'Foo'</li>\n",
       "</ol>\n"
      ],
      "text/latex": [
       "\\begin{enumerate*}\n",
       "\\item 'Foo'\n",
       "\\item 'Foo'\n",
       "\\item 'Foo'\n",
       "\\item 'Foo'\n",
       "\\item 'Foo'\n",
       "\\item 'Foo'\n",
       "\\item 'Foo'\n",
       "\\item 'Foo'\n",
       "\\item 'Foo'\n",
       "\\item 'Foo'\n",
       "\\end{enumerate*}\n"
      ],
      "text/markdown": [
       "1. 'Foo'\n",
       "2. 'Foo'\n",
       "3. 'Foo'\n",
       "4. 'Foo'\n",
       "5. 'Foo'\n",
       "6. 'Foo'\n",
       "7. 'Foo'\n",
       "8. 'Foo'\n",
       "9. 'Foo'\n",
       "10. 'Foo'\n",
       "\n",
       "\n"
      ],
      "text/plain": [
       " [1] \"Foo\" \"Foo\" \"Foo\" \"Foo\" \"Foo\" \"Foo\" \"Foo\" \"Foo\" \"Foo\" \"Foo\""
      ]
     },
     "metadata": {},
     "output_type": "display_data"
    }
   ],
   "source": [
    "# Using rep to create vector with repetitive elements\n",
    "rep(\"Foo\", each = 10)"
   ]
  },
  {
   "cell_type": "code",
   "execution_count": 5,
   "metadata": {},
   "outputs": [
    {
     "data": {
      "text/html": [
       "<ol class=list-inline>\n",
       "\t<li>1</li>\n",
       "\t<li>1</li>\n",
       "\t<li>2</li>\n",
       "\t<li>2</li>\n",
       "\t<li>3</li>\n",
       "\t<li>3</li>\n",
       "\t<li>4</li>\n",
       "\t<li>4</li>\n",
       "</ol>\n"
      ],
      "text/latex": [
       "\\begin{enumerate*}\n",
       "\\item 1\n",
       "\\item 1\n",
       "\\item 2\n",
       "\\item 2\n",
       "\\item 3\n",
       "\\item 3\n",
       "\\item 4\n",
       "\\item 4\n",
       "\\end{enumerate*}\n"
      ],
      "text/markdown": [
       "1. 1\n",
       "2. 1\n",
       "3. 2\n",
       "4. 2\n",
       "5. 3\n",
       "6. 3\n",
       "7. 4\n",
       "8. 4\n",
       "\n",
       "\n"
      ],
      "text/plain": [
       "[1] 1 1 2 2 3 3 4 4"
      ]
     },
     "metadata": {},
     "output_type": "display_data"
    },
    {
     "data": {
      "text/html": [
       "<ol class=list-inline>\n",
       "\t<li>'apple'</li>\n",
       "\t<li>'apple'</li>\n",
       "\t<li>'apple'</li>\n",
       "\t<li>'banana'</li>\n",
       "\t<li>'banana'</li>\n",
       "\t<li>'banana'</li>\n",
       "\t<li>'cranberry'</li>\n",
       "\t<li>'cranberry'</li>\n",
       "\t<li>'cranberry'</li>\n",
       "</ol>\n"
      ],
      "text/latex": [
       "\\begin{enumerate*}\n",
       "\\item 'apple'\n",
       "\\item 'apple'\n",
       "\\item 'apple'\n",
       "\\item 'banana'\n",
       "\\item 'banana'\n",
       "\\item 'banana'\n",
       "\\item 'cranberry'\n",
       "\\item 'cranberry'\n",
       "\\item 'cranberry'\n",
       "\\end{enumerate*}\n"
      ],
      "text/markdown": [
       "1. 'apple'\n",
       "2. 'apple'\n",
       "3. 'apple'\n",
       "4. 'banana'\n",
       "5. 'banana'\n",
       "6. 'banana'\n",
       "7. 'cranberry'\n",
       "8. 'cranberry'\n",
       "9. 'cranberry'\n",
       "\n",
       "\n"
      ],
      "text/plain": [
       "[1] \"apple\"     \"apple\"     \"apple\"     \"banana\"    \"banana\"    \"banana\"   \n",
       "[7] \"cranberry\" \"cranberry\" \"cranberry\""
      ]
     },
     "metadata": {},
     "output_type": "display_data"
    }
   ],
   "source": [
    "# Using rep to repeat elements of a vector\n",
    "rep(1:4, each = 2)\n",
    "rep(c(\"apple\",\"banana\",\"cranberry\"), each = 3)"
   ]
  },
  {
   "cell_type": "code",
   "execution_count": 13,
   "metadata": {},
   "outputs": [
    {
     "data": {
      "text/html": [
       "<ol class=list-inline>\n",
       "\t<li>'Foo-1'</li>\n",
       "\t<li>'Foo-2'</li>\n",
       "\t<li>'Foo-3'</li>\n",
       "\t<li>'Foo-4'</li>\n",
       "\t<li>'Foo-5'</li>\n",
       "\t<li>'Foo-6'</li>\n",
       "\t<li>'Foo-7'</li>\n",
       "\t<li>'Foo-8'</li>\n",
       "\t<li>'Foo-9'</li>\n",
       "\t<li>'Foo-10'</li>\n",
       "</ol>\n"
      ],
      "text/latex": [
       "\\begin{enumerate*}\n",
       "\\item 'Foo-1'\n",
       "\\item 'Foo-2'\n",
       "\\item 'Foo-3'\n",
       "\\item 'Foo-4'\n",
       "\\item 'Foo-5'\n",
       "\\item 'Foo-6'\n",
       "\\item 'Foo-7'\n",
       "\\item 'Foo-8'\n",
       "\\item 'Foo-9'\n",
       "\\item 'Foo-10'\n",
       "\\end{enumerate*}\n"
      ],
      "text/markdown": [
       "1. 'Foo-1'\n",
       "2. 'Foo-2'\n",
       "3. 'Foo-3'\n",
       "4. 'Foo-4'\n",
       "5. 'Foo-5'\n",
       "6. 'Foo-6'\n",
       "7. 'Foo-7'\n",
       "8. 'Foo-8'\n",
       "9. 'Foo-9'\n",
       "10. 'Foo-10'\n",
       "\n",
       "\n"
      ],
      "text/plain": [
       " [1] \"Foo-1\"  \"Foo-2\"  \"Foo-3\"  \"Foo-4\"  \"Foo-5\"  \"Foo-6\"  \"Foo-7\"  \"Foo-8\" \n",
       " [9] \"Foo-9\"  \"Foo-10\""
      ]
     },
     "metadata": {},
     "output_type": "display_data"
    },
    {
     "data": {
      "text/html": [
       "<ol class=list-inline>\n",
       "\t<li>'Foo-1-Bar'</li>\n",
       "\t<li>'Foo-2-Bar'</li>\n",
       "\t<li>'Foo-3-Bar'</li>\n",
       "\t<li>'Foo-4-Bar'</li>\n",
       "\t<li>'Foo-5-Bar'</li>\n",
       "\t<li>'Foo-6-Bar'</li>\n",
       "\t<li>'Foo-7-Bar'</li>\n",
       "\t<li>'Foo-8-Bar'</li>\n",
       "\t<li>'Foo-9-Bar'</li>\n",
       "\t<li>'Foo-10-Bar'</li>\n",
       "</ol>\n"
      ],
      "text/latex": [
       "\\begin{enumerate*}\n",
       "\\item 'Foo-1-Bar'\n",
       "\\item 'Foo-2-Bar'\n",
       "\\item 'Foo-3-Bar'\n",
       "\\item 'Foo-4-Bar'\n",
       "\\item 'Foo-5-Bar'\n",
       "\\item 'Foo-6-Bar'\n",
       "\\item 'Foo-7-Bar'\n",
       "\\item 'Foo-8-Bar'\n",
       "\\item 'Foo-9-Bar'\n",
       "\\item 'Foo-10-Bar'\n",
       "\\end{enumerate*}\n"
      ],
      "text/markdown": [
       "1. 'Foo-1-Bar'\n",
       "2. 'Foo-2-Bar'\n",
       "3. 'Foo-3-Bar'\n",
       "4. 'Foo-4-Bar'\n",
       "5. 'Foo-5-Bar'\n",
       "6. 'Foo-6-Bar'\n",
       "7. 'Foo-7-Bar'\n",
       "8. 'Foo-8-Bar'\n",
       "9. 'Foo-9-Bar'\n",
       "10. 'Foo-10-Bar'\n",
       "\n",
       "\n"
      ],
      "text/plain": [
       " [1] \"Foo-1-Bar\"  \"Foo-2-Bar\"  \"Foo-3-Bar\"  \"Foo-4-Bar\"  \"Foo-5-Bar\" \n",
       " [6] \"Foo-6-Bar\"  \"Foo-7-Bar\"  \"Foo-8-Bar\"  \"Foo-9-Bar\"  \"Foo-10-Bar\""
      ]
     },
     "metadata": {},
     "output_type": "display_data"
    }
   ],
   "source": [
    "# Using rep and paste to create vector with repetition and combination\n",
    "vector.foo <- paste(rep(\"Foo\", each=10), c(1:10), sep=\"-\")\n",
    "vector.bar <- paste(vector.foo, rep(\"Bar\", each=10), sep=\"-\")\n",
    "vector.foo\n",
    "vector.bar"
   ]
  },
  {
   "cell_type": "code",
   "execution_count": 5,
   "metadata": {},
   "outputs": [
    {
     "name": "stdout",
     "output_type": "stream",
     "text": [
      "'data.frame':\t8 obs. of  5 variables:\n",
      " $ Name     : Factor w/ 8 levels \"Fluf1\",\"Fluf2\",..: 1 2 3 4 5 6 7 8\n",
      " $ Number   : int  7103 7104 7105 7106 7107 7108 7109 7110\n",
      " $ Weight   : num  19 18 23 22 17 18 21 20\n",
      " $ Treatment: logi  TRUE TRUE FALSE FALSE TRUE FALSE ...\n",
      " $ Gender   : Factor w/ 2 levels \"Female\",\"Male\": 1 1 2 2 1 1 2 2\n"
     ]
    },
    {
     "data": {
      "text/html": [
       "'factor'"
      ],
      "text/latex": [
       "'factor'"
      ],
      "text/markdown": [
       "'factor'"
      ],
      "text/plain": [
       "[1] \"factor\""
      ]
     },
     "metadata": {},
     "output_type": "display_data"
    },
    {
     "data": {
      "text/html": [
       "'integer'"
      ],
      "text/latex": [
       "'integer'"
      ],
      "text/markdown": [
       "'integer'"
      ],
      "text/plain": [
       "[1] \"integer\""
      ]
     },
     "metadata": {},
     "output_type": "display_data"
    },
    {
     "data": {
      "text/html": [
       "'numeric'"
      ],
      "text/latex": [
       "'numeric'"
      ],
      "text/markdown": [
       "'numeric'"
      ],
      "text/plain": [
       "[1] \"numeric\""
      ]
     },
     "metadata": {},
     "output_type": "display_data"
    },
    {
     "data": {
      "text/html": [
       "'logical'"
      ],
      "text/latex": [
       "'logical'"
      ],
      "text/markdown": [
       "'logical'"
      ],
      "text/plain": [
       "[1] \"logical\""
      ]
     },
     "metadata": {},
     "output_type": "display_data"
    },
    {
     "data": {
      "text/html": [
       "'factor'"
      ],
      "text/latex": [
       "'factor'"
      ],
      "text/markdown": [
       "'factor'"
      ],
      "text/plain": [
       "[1] \"factor\""
      ]
     },
     "metadata": {},
     "output_type": "display_data"
    }
   ],
   "source": [
    "str(exp.animals)\n",
    "class(exp.animals$Name)\n",
    "class(exp.animals$Number)\n",
    "class(exp.animals$Weight)\n",
    "class(exp.animals$Treatment)\n",
    "class(exp.animals$Gender)"
   ]
  },
  {
   "cell_type": "code",
   "execution_count": null,
   "metadata": {
    "collapsed": true
   },
   "outputs": [],
   "source": []
  }
 ],
 "metadata": {
  "kernelspec": {
   "display_name": "R",
   "language": "R",
   "name": "ir"
  },
  "language_info": {
   "codemirror_mode": "r",
   "file_extension": ".r",
   "mimetype": "text/x-r-source",
   "name": "R",
   "pygments_lexer": "r",
   "version": "3.5.0"
  }
 },
 "nbformat": 4,
 "nbformat_minor": 2
}
