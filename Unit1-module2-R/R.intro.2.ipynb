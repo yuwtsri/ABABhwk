{
 "cells": [
  {
   "cell_type": "markdown",
   "metadata": {},
   "source": [
    "# R intro\n",
    "Huitian Diao\n",
    "* Reference: \n",
    "* Quick-R by DataCamp\n",
    "* R for Beginners by emmanuel Paradis"
   ]
  },
  {
   "cell_type": "markdown",
   "metadata": {},
   "source": [
    "## Data operations"
   ]
  },
  {
   "cell_type": "markdown",
   "metadata": {},
   "source": [
    "### 1. Operators"
   ]
  },
  {
   "cell_type": "markdown",
   "metadata": {},
   "source": [
    "#### 1.1 Arithemetic operators\n",
    "```\n",
    "x+y\n",
    "x-y\n",
    "x*y\n",
    "x/y\n",
    "x**y # exponentiation\n",
    "x%%y # modulus\n",
    "x%/%y # integer division\n",
    "```"
   ]
  },
  {
   "cell_type": "code",
   "execution_count": 6,
   "metadata": {},
   "outputs": [
    {
     "data": {
      "text/html": [
       "8"
      ],
      "text/latex": [
       "8"
      ],
      "text/markdown": [
       "8"
      ],
      "text/plain": [
       "[1] 8"
      ]
     },
     "metadata": {},
     "output_type": "display_data"
    }
   ],
   "source": [
    "# Try the calculations!\n",
    "x <- 3\n",
    "y <- 5\n",
    "z <- x + y\n",
    "z"
   ]
  },
  {
   "cell_type": "markdown",
   "metadata": {},
   "source": [
    "#### 1.2 Logical operators\n",
    "##### Comparisons:\n",
    "```\n",
    "<\n",
    ">\n",
    "<=\n",
    ">=\n",
    "==\n",
    "!=\n",
    "```"
   ]
  },
  {
   "cell_type": "code",
   "execution_count": 11,
   "metadata": {},
   "outputs": [
    {
     "data": {
      "text/html": [
       "FALSE"
      ],
      "text/latex": [
       "FALSE"
      ],
      "text/markdown": [
       "FALSE"
      ],
      "text/plain": [
       "[1] FALSE"
      ]
     },
     "metadata": {},
     "output_type": "display_data"
    }
   ],
   "source": [
    "# Try comparisons!\n",
    "x <- 5\n",
    "y <- 11\n",
    "z <- x > y\n",
    "z"
   ]
  },
  {
   "cell_type": "markdown",
   "metadata": {},
   "source": [
    "##### Logical operations:\n",
    "```\n",
    "!\n",
    "|\n",
    "&\n",
    "isTRUE()\n",
    "```"
   ]
  },
  {
   "cell_type": "code",
   "execution_count": 13,
   "metadata": {},
   "outputs": [
    {
     "data": {
      "text/html": [
       "FALSE"
      ],
      "text/latex": [
       "FALSE"
      ],
      "text/markdown": [
       "FALSE"
      ],
      "text/plain": [
       "[1] FALSE"
      ]
     },
     "metadata": {},
     "output_type": "display_data"
    }
   ],
   "source": [
    "# Try logical operators!\n",
    "like.chocolate <- TRUE\n",
    "like.spam <- FALSE\n",
    "!like.chocolate"
   ]
  },
  {
   "cell_type": "markdown",
   "metadata": {},
   "source": [
    "#### 1.3 Built-in functions"
   ]
  },
  {
   "cell_type": "markdown",
   "metadata": {},
   "source": [
    "##### Math built-in functions"
   ]
  },
  {
   "cell_type": "code",
   "execution_count": 15,
   "metadata": {},
   "outputs": [
    {
     "data": {
      "text/html": [
       "16"
      ],
      "text/latex": [
       "16"
      ],
      "text/markdown": [
       "16"
      ],
      "text/plain": [
       "[1] 16"
      ]
     },
     "metadata": {},
     "output_type": "display_data"
    },
    {
     "data": {
      "text/html": [
       "4"
      ],
      "text/latex": [
       "4"
      ],
      "text/markdown": [
       "4"
      ],
      "text/plain": [
       "[1] 4"
      ]
     },
     "metadata": {},
     "output_type": "display_data"
    },
    {
     "data": {
      "text/html": [
       "2"
      ],
      "text/latex": [
       "2"
      ],
      "text/markdown": [
       "2"
      ],
      "text/plain": [
       "[1] 2"
      ]
     },
     "metadata": {},
     "output_type": "display_data"
    },
    {
     "data": {
      "text/html": [
       "-3"
      ],
      "text/latex": [
       "-3"
      ],
      "text/markdown": [
       "-3"
      ],
      "text/plain": [
       "[1] -3"
      ]
     },
     "metadata": {},
     "output_type": "display_data"
    },
    {
     "data": {
      "text/html": [
       "-2"
      ],
      "text/latex": [
       "-2"
      ],
      "text/markdown": [
       "-2"
      ],
      "text/plain": [
       "[1] -2"
      ]
     },
     "metadata": {},
     "output_type": "display_data"
    },
    {
     "data": {
      "text/html": [
       "1.24"
      ],
      "text/latex": [
       "1.24"
      ],
      "text/markdown": [
       "1.24"
      ],
      "text/plain": [
       "[1] 1.24"
      ]
     },
     "metadata": {},
     "output_type": "display_data"
    },
    {
     "data": {
      "text/html": [
       "1.2"
      ],
      "text/latex": [
       "1.2"
      ],
      "text/markdown": [
       "1.2"
      ],
      "text/plain": [
       "[1] 1.2"
      ]
     },
     "metadata": {},
     "output_type": "display_data"
    },
    {
     "data": {
      "text/html": [
       "-0.957659480323385"
      ],
      "text/latex": [
       "-0.957659480323385"
      ],
      "text/markdown": [
       "-0.957659480323385"
      ],
      "text/plain": [
       "[1] -0.9576595"
      ]
     },
     "metadata": {},
     "output_type": "display_data"
    },
    {
     "data": {
      "text/html": [
       "0.287903316665065"
      ],
      "text/latex": [
       "0.287903316665065"
      ],
      "text/markdown": [
       "0.287903316665065"
      ],
      "text/plain": [
       "[1] 0.2879033"
      ]
     },
     "metadata": {},
     "output_type": "display_data"
    },
    {
     "data": {
      "text/html": [
       "-0.300632242023903"
      ],
      "text/latex": [
       "-0.300632242023903"
      ],
      "text/markdown": [
       "-0.300632242023903"
      ],
      "text/plain": [
       "[1] -0.3006322"
      ]
     },
     "metadata": {},
     "output_type": "display_data"
    },
    {
     "data": {
      "text/html": [
       "0.214304602647005"
      ],
      "text/latex": [
       "0.214304602647005"
      ],
      "text/markdown": [
       "0.214304602647005"
      ],
      "text/plain": [
       "[1] 0.2143046"
      ]
     },
     "metadata": {},
     "output_type": "display_data"
    },
    {
     "data": {
      "text/html": [
       "0.0930713063760635"
      ],
      "text/latex": [
       "0.0930713063760635"
      ],
      "text/markdown": [
       "0.0930713063760635"
      ],
      "text/plain": [
       "[1] 0.09307131"
      ]
     },
     "metadata": {},
     "output_type": "display_data"
    },
    {
     "data": {
      "text/html": [
       "1.12535174719259e-07"
      ],
      "text/latex": [
       "1.12535174719259e-07"
      ],
      "text/markdown": [
       "1.12535174719259e-07"
      ],
      "text/plain": [
       "[1] 1.125352e-07"
      ]
     },
     "metadata": {},
     "output_type": "display_data"
    }
   ],
   "source": [
    "# Have fun with math!\n",
    "x <- -16\n",
    "y <- 1.239\n",
    "z <- -2.251\n",
    "abs(x)\n",
    "sqrt(-x)\n",
    "ceiling(y)\n",
    "floor(z)\n",
    "trunc(z)\n",
    "round(y, digits=2)\n",
    "signif(y, digits=2)\n",
    "cos(x)\n",
    "sin(x)\n",
    "tan(x)\n",
    "log(y)\n",
    "log10(y)\n",
    "exp(x)"
   ]
  },
  {
   "cell_type": "markdown",
   "metadata": {},
   "source": [
    "##### Other useful built-in operators\n",
    "```\n",
    "substr() # Extract part of the string\n",
    "grep() # Search for pattern (It is different from Bash grep!!!)\n",
    "sub() # Replace pattern\n",
    "strsplit() # Split elements fro a string\n",
    "paste() # Concatenate strings\n",
    "toupper() # Convert to upper case\n",
    "tolower() # Convert to lower case\n",
    "```"
   ]
  },
  {
   "cell_type": "code",
   "execution_count": 16,
   "metadata": {},
   "outputs": [
    {
     "data": {
      "text/html": [
       "'Nutel'"
      ],
      "text/latex": [
       "'Nutel'"
      ],
      "text/markdown": [
       "'Nutel'"
      ],
      "text/plain": [
       "[1] \"Nutel\""
      ]
     },
     "metadata": {},
     "output_type": "display_data"
    },
    {
     "data": {
      "text/html": [
       "3"
      ],
      "text/latex": [
       "3"
      ],
      "text/markdown": [
       "3"
      ],
      "text/plain": [
       "[1] 3"
      ]
     },
     "metadata": {},
     "output_type": "display_data"
    },
    {
     "data": {
      "text/html": [
       "'I love cheese. --Nutella'"
      ],
      "text/latex": [
       "'I love cheese. --Nutella'"
      ],
      "text/markdown": [
       "'I love cheese. --Nutella'"
      ],
      "text/plain": [
       "[1] \"I love cheese. --Nutella\""
      ]
     },
     "metadata": {},
     "output_type": "display_data"
    },
    {
     "data": {
      "text/html": [
       "<ol>\n",
       "\t<li><ol class=list-inline>\n",
       "\t<li>'I'</li>\n",
       "\t<li>'love'</li>\n",
       "\t<li>'chocolate.'</li>\n",
       "\t<li>'--Nutella'</li>\n",
       "</ol>\n",
       "</li>\n",
       "</ol>\n"
      ],
      "text/latex": [
       "\\begin{enumerate}\n",
       "\\item \\begin{enumerate*}\n",
       "\\item 'I'\n",
       "\\item 'love'\n",
       "\\item 'chocolate.'\n",
       "\\item '--Nutella'\n",
       "\\end{enumerate*}\n",
       "\n",
       "\\end{enumerate}\n"
      ],
      "text/markdown": [
       "1. 1. 'I'\n",
       "2. 'love'\n",
       "3. 'chocolate.'\n",
       "4. '--Nutella'\n",
       "\n",
       "\n",
       "\n",
       "\n",
       "\n"
      ],
      "text/plain": [
       "[[1]]\n",
       "[1] \"I\"          \"love\"       \"chocolate.\" \"--Nutella\" \n"
      ]
     },
     "metadata": {},
     "output_type": "display_data"
    },
    {
     "data": {
      "text/html": [
       "<ol class=list-inline>\n",
       "\t<li>'1: chocolate'</li>\n",
       "\t<li>'2: peanut'</li>\n",
       "\t<li>'3: cheese'</li>\n",
       "</ol>\n"
      ],
      "text/latex": [
       "\\begin{enumerate*}\n",
       "\\item '1: chocolate'\n",
       "\\item '2: peanut'\n",
       "\\item '3: cheese'\n",
       "\\end{enumerate*}\n"
      ],
      "text/markdown": [
       "1. '1: chocolate'\n",
       "2. '2: peanut'\n",
       "3. '3: cheese'\n",
       "\n",
       "\n"
      ],
      "text/plain": [
       "[1] \"1: chocolate\" \"2: peanut\"    \"3: cheese\"   "
      ]
     },
     "metadata": {},
     "output_type": "display_data"
    },
    {
     "data": {
      "text/html": [
       "'I LOVE CHOCOLATE. --NUTELLA'"
      ],
      "text/latex": [
       "'I LOVE CHOCOLATE. --NUTELLA'"
      ],
      "text/markdown": [
       "'I LOVE CHOCOLATE. --NUTELLA'"
      ],
      "text/plain": [
       "[1] \"I LOVE CHOCOLATE. --NUTELLA\""
      ]
     },
     "metadata": {},
     "output_type": "display_data"
    },
    {
     "data": {
      "text/html": [
       "'i love chocolate. --nutella'"
      ],
      "text/latex": [
       "'i love chocolate. --nutella'"
      ],
      "text/markdown": [
       "'i love chocolate. --nutella'"
      ],
      "text/plain": [
       "[1] \"i love chocolate. --nutella\""
      ]
     },
     "metadata": {},
     "output_type": "display_data"
    }
   ],
   "source": [
    "# Try it out!\n",
    "my.name <- \"Nutella\"\n",
    "my.fav <- c(\"chocolate\", \"peanut\", \"cheese\")\n",
    "my.motto <- \"I love chocolate. --Nutella\"\n",
    "substr(my.name, start=1, stop=5) # Extract from 1st character to 5th character\n",
    "grep(\"cheese\", my.fav) # Find the position of \"cheese\" in the vector\n",
    "sub(\"chocolate\", \"cheese\", my.motto) # Replace \"chocolate\" by \"cheese\" in my.motto\n",
    "strsplit(my.motto, \" \") # Split my.motto by space\n",
    "paste(1:3, my.fav, sep=\": \") # Concatenate elements in vector c(1, 2, 3) with elements in vector my.fav, seprate by \": \"\n",
    "toupper(my.motto)\n",
    "tolower(my.motto)"
   ]
  },
  {
   "cell_type": "markdown",
   "metadata": {},
   "source": [
    "### 2. Control structures"
   ]
  },
  {
   "cell_type": "markdown",
   "metadata": {},
   "source": [
    "#### 2.1 If-else\n",
    "```\n",
    "# if ... else ...\n",
    "like.peanut <- TRUE\n",
    "if (like.peanut){\n",
    "    print(\"I like peanuts!\")\n",
    "} else {\n",
    "    print(\"What do I like?\")\n",
    "}\n",
    "```"
   ]
  },
  {
   "cell_type": "code",
   "execution_count": 26,
   "metadata": {},
   "outputs": [],
   "source": [
    "# Try if... else ... !"
   ]
  },
  {
   "cell_type": "markdown",
   "metadata": {},
   "source": [
    "```\n",
    "# if .. else if ... else ...\n",
    "like.hay <- FALSE\n",
    "like.cotton <- TRUE\n",
    "if (like.hay){\n",
    "    print(\"I like to build my nest with hay!\")\n",
    "} else if (like.cotton){\n",
    "    print(\"I like to build my nest with cotton!\")\n",
    "} else {\n",
    "    print(\"Ummm.... what should I use...?\")\n",
    "}\n",
    "```"
   ]
  },
  {
   "cell_type": "code",
   "execution_count": 27,
   "metadata": {},
   "outputs": [],
   "source": [
    "# Try if ... else if ... else ... !"
   ]
  },
  {
   "cell_type": "markdown",
   "metadata": {},
   "source": [
    "#### 2.2 for\n",
    "```\n",
    "# Looping a numeric vector\n",
    "for (i in c(1:10)) {\n",
    "    print(\"More chocolate please!\")\n",
    "}\n",
    "```"
   ]
  },
  {
   "cell_type": "code",
   "execution_count": 23,
   "metadata": {},
   "outputs": [],
   "source": [
    "# Try numeric vector for loop!"
   ]
  },
  {
   "cell_type": "markdown",
   "metadata": {},
   "source": [
    "```\n",
    "# Looping a character vector\n",
    "my.fav <- c(\"chocolate\", \"peanut\", \"cheese\")\n",
    "for (i in my.fav) {\n",
    "    out.put <- paste(\"More\", i, \"please!\") # Paste 3 elements into a single string\n",
    "    print(out.put)\n",
    "}\n",
    "```"
   ]
  },
  {
   "cell_type": "code",
   "execution_count": 28,
   "metadata": {},
   "outputs": [],
   "source": [
    "# Try character vector for loop!"
   ]
  },
  {
   "cell_type": "markdown",
   "metadata": {},
   "source": [
    "#### 2.3 while\n",
    "```\n",
    "i <- 0\n",
    "while (i < 10) {\n",
    "    print(\"More chocolate please!\")\n",
    "    i <- i+1 # Super important! Or your while loop will never end...\n",
    "}\n",
    "```"
   ]
  },
  {
   "cell_type": "code",
   "execution_count": 30,
   "metadata": {},
   "outputs": [],
   "source": [
    "# Try while!"
   ]
  },
  {
   "cell_type": "markdown",
   "metadata": {},
   "source": [
    "### 3. Import data\n",
    "##### read.csv()\n",
    "```\n",
    "setwd(\"YOUR/DIRECTORY/TO/Unit1-module2-R\")\n",
    "nav.d14 <- read.csv(\"NAV-D14_DEseq2.csv\", header=TRUE)\n",
    "nav.d14\n",
    "class(nav.d14)\n",
    "```"
   ]
  },
  {
   "cell_type": "code",
   "execution_count": 32,
   "metadata": {},
   "outputs": [],
   "source": [
    "# Try read.csv!"
   ]
  },
  {
   "cell_type": "markdown",
   "metadata": {},
   "source": [
    "### 4. View data\n",
    "```\n",
    "str(nav.d14) # Structure\n",
    "dim(nav.d14) # Dimensions\n",
    "head(nav.d14, n=5) # Top 5 rows\n",
    "tail(nav.d14, n=10) # Bottom 5 rows\n",
    "#levels() # List of levels in a factor vector\n",
    "```"
   ]
  },
  {
   "cell_type": "code",
   "execution_count": 34,
   "metadata": {
    "scrolled": true
   },
   "outputs": [],
   "source": [
    "# Try viewing data!"
   ]
  },
  {
   "cell_type": "markdown",
   "metadata": {},
   "source": [
    "### 3. Subsetting / Merging data"
   ]
  },
  {
   "cell_type": "markdown",
   "metadata": {
    "collapsed": true
   },
   "source": [
    "#### 3.1 Subsetting by column names\n",
    "```\n",
    "nav.d14.sub <- nav.d14[c(\"gene.name\", \"log2FoldChange\", \"pvalue\")]\n",
    "head(nav.d14.sub)\n",
    "```"
   ]
  },
  {
   "cell_type": "code",
   "execution_count": 37,
   "metadata": {},
   "outputs": [],
   "source": [
    "# Try subsetting by column names!"
   ]
  },
  {
   "cell_type": "markdown",
   "metadata": {},
   "source": [
    "#### 3.2  cbind(): merging dataframe vertically\n",
    "```\n",
    "# cbind -- column-bind\n",
    "nav.d14.sub <- cbind(nav.d14.sub, nav.d14[\"baseMean\"]) # For instance you forgot you need baseMean too...\n",
    "head(nav.d14.sub)\n",
    "```"
   ]
  },
  {
   "cell_type": "code",
   "execution_count": 38,
   "metadata": {},
   "outputs": [],
   "source": [
    "# Try cbind()!"
   ]
  },
  {
   "cell_type": "markdown",
   "metadata": {},
   "source": [
    "#### 3.3 subset()\n",
    "```\n",
    "nav.d14.sub.sig.less <- subset(nav.d14.sub, pvalue <= 0.05 & log2FoldChange < 0) # Subsetting by value\n",
    "nav.d14.sub.sig.more <- subset(nav.d14.sub, pvalue <= 0.05 & log2FoldChange > 0)\n",
    "```"
   ]
  },
  {
   "cell_type": "code",
   "execution_count": 39,
   "metadata": {},
   "outputs": [],
   "source": [
    "# Try subset()!"
   ]
  },
  {
   "cell_type": "markdown",
   "metadata": {},
   "source": [
    "#### 3.4 rbind(): merging dataframe horizontally\n",
    "```\n",
    "# rbind -- row-bind\n",
    "nav.d14.sub.sig.all <- rbind(nav.d14.sub.sig.less, nav.d14.sub.sig.more) # Merging rows\n",
    "dim(nav.d14.sub.sig.less)\n",
    "dim(nav.d14.sub.sig.more)\n",
    "dim(nav.d14.sub.sig.all)\n",
    "```"
   ]
  },
  {
   "cell_type": "code",
   "execution_count": 40,
   "metadata": {},
   "outputs": [],
   "source": [
    "# Try rbind()!"
   ]
  },
  {
   "cell_type": "markdown",
   "metadata": {},
   "source": [
    "#### * Change column names\n",
    "```\n",
    "colnames(nav.d14.sub.sig.all) <- c(\"gn\",\"fc\",\"pval\",\"bm\")\n",
    "head(nav.d14.sub.sig.all)\n",
    "```"
   ]
  },
  {
   "cell_type": "code",
   "execution_count": 41,
   "metadata": {},
   "outputs": [],
   "source": [
    "# Try change colnames()!"
   ]
  },
  {
   "cell_type": "markdown",
   "metadata": {},
   "source": [
    "### 4. Sort data: order()\n",
    "```\n",
    "nav.d14.sub.sig.all.srt <- nav.d14.sub.sig.all[order(nav.d14.sub.sig.all$bm),]\n",
    "head(nav.d14.sub.sig.all, n=5)\n",
    "head(nav.d14.sub.sig.all.srt, n=5)\n",
    "```"
   ]
  },
  {
   "cell_type": "code",
   "execution_count": 1,
   "metadata": {
    "scrolled": true
   },
   "outputs": [],
   "source": [
    "# Try order()!"
   ]
  },
  {
   "cell_type": "markdown",
   "metadata": {},
   "source": [
    "### 5. User defined function and apply"
   ]
  },
  {
   "cell_type": "markdown",
   "metadata": {},
   "source": [
    "#### 5.1 User defined function\n",
    "```\n",
    "function.name <- function(x) {\n",
    "...\n",
    "return()\n",
    "}\n",
    "```"
   ]
  },
  {
   "cell_type": "code",
   "execution_count": 1,
   "metadata": {},
   "outputs": [
    {
     "name": "stdout",
     "output_type": "stream",
     "text": [
      "[1] \"Chocolate please!\"\n"
     ]
    }
   ],
   "source": [
    "# Simple function that does only print()\n",
    "requestChocolate <- function(x) {\n",
    "    print(\"Chocolate please!\")\n",
    "}\n",
    "requestChocolate()"
   ]
  },
  {
   "cell_type": "code",
   "execution_count": 2,
   "metadata": {},
   "outputs": [
    {
     "name": "stdout",
     "output_type": "stream",
     "text": [
      "[1] \"Cheese please!\"\n"
     ]
    }
   ],
   "source": [
    "# Function that take a input to print()\n",
    "requestFood <- function(x) {\n",
    "    requested <- paste(x, \" please!\", sep=\"\")\n",
    "    print(requested)\n",
    "}\n",
    "requestFood(\"Cheese\")"
   ]
  },
  {
   "cell_type": "code",
   "execution_count": 3,
   "metadata": {},
   "outputs": [
    {
     "name": "stdout",
     "output_type": "stream",
     "text": [
      "[1] \"Food please!\"\n"
     ]
    },
    {
     "data": {
      "text/html": [
       "TRUE"
      ],
      "text/latex": [
       "TRUE"
      ],
      "text/markdown": [
       "TRUE"
      ],
      "text/plain": [
       "[1] TRUE"
      ]
     },
     "metadata": {},
     "output_type": "display_data"
    }
   ],
   "source": [
    "# Function that take a input and contain if ..., and return a result.\n",
    "needMoreFood <- function(food.weight) {\n",
    "    if (food.weight<10){\n",
    "        print(\"Food please!\")\n",
    "    }\n",
    "    return(TRUE)\n",
    "}\n",
    "food.weight.eval <- needMoreFood(8)\n",
    "food.weight.eval"
   ]
  },
  {
   "cell_type": "markdown",
   "metadata": {
    "collapsed": true
   },
   "source": [
    "##### A function that contain if ... else if ... else ...\n",
    "```\n",
    "# Define a function to evaluate fold change, up-regulation/ down-regulation / no fold change\n",
    "fcEval <- function(x) {\n",
    "    if(x>0){\n",
    "        return(\"UP\")\n",
    "    }\n",
    "    else if(x<0){\n",
    "        return(\"DOWN\")\n",
    "    }\n",
    "    else{\n",
    "        return(\"NONE\")\n",
    "    }\n",
    "}\n",
    "```"
   ]
  },
  {
   "cell_type": "code",
   "execution_count": 17,
   "metadata": {},
   "outputs": [],
   "source": [
    "# Try define the function above!"
   ]
  },
  {
   "cell_type": "markdown",
   "metadata": {},
   "source": [
    "#### 5.2 lapply(): give function to every element of a list and return a list as result\n",
    "Read more about apply: https://www.datacamp.com/community/tutorials/r-tutorial-apply-family\n",
    "```\n",
    "fc.eval.results <- lapply(nav.d14.sub.sig.all$fc,fcEval) # Use lapply to process all the \n",
    "fc.eval.results <- factor(unlist(fc.eval.results)) # Convert list to vector\n",
    "summary(fc.eval.results)\n",
    "```"
   ]
  },
  {
   "cell_type": "code",
   "execution_count": 18,
   "metadata": {},
   "outputs": [],
   "source": [
    "# Try to use your function by apply!"
   ]
  },
  {
   "cell_type": "markdown",
   "metadata": {
    "collapsed": true
   },
   "source": [
    "### 6. Export data"
   ]
  },
  {
   "cell_type": "markdown",
   "metadata": {
    "collapsed": true
   },
   "source": [
    "```\n",
    "write.table(nav.d14.sub.sig.all.srt,row.names=FALSE, \"nav.d14.sub.sig.all.srt.csv\", sep=\",\")\n",
    "```"
   ]
  },
  {
   "cell_type": "code",
   "execution_count": 19,
   "metadata": {},
   "outputs": [],
   "source": [
    "# Try export data!"
   ]
  },
  {
   "cell_type": "markdown",
   "metadata": {},
   "source": [
    "## Homework"
   ]
  },
  {
   "cell_type": "markdown",
   "metadata": {},
   "source": [
    "## 1. Hello world everyday!\n",
    "### 1.1 Make a vector containing days of the week, from Monday to Sunday.\n",
    "### 1.2 Use a for loop to pring \"Hello world XXXday!\" for each day of the week."
   ]
  },
  {
   "cell_type": "code",
   "execution_count": 1,
   "metadata": {},
   "outputs": [
    {
     "name": "stdout",
     "output_type": "stream",
     "text": [
      "[1] \"Hello world Monday!\"\n",
      "[1] \"Hello world Tuesday!\"\n",
      "[1] \"Hello world Wednesday!\"\n",
      "[1] \"Hello world Thursday!\"\n",
      "[1] \"Hello world Friday!\"\n",
      "[1] \"Hello world Saturday!\"\n",
      "[1] \"Hello world Sunday!\"\n"
     ]
    }
   ],
   "source": [
    "week.days <- c(\"Monday\", \"Tuesday\", \"Wednesday\", \"Thursday\", \"Friday\", \"Saturday\", \"Sunday\")\n",
    "for (i in week.days){\n",
    "    output<-paste(\"Hello world\", i, \"!\")\n",
    "    print(gsub(\" !\",\"!\", output))\n",
    "}"
   ]
  },
  {
   "cell_type": "markdown",
   "metadata": {},
   "source": [
    "## 2. The Pie\n",
    "### 2.1 In the first 100 digits of pie, count how many numbers are even. \n",
    "### 2.2 Convert the first 200 digits of pie into a 20x10 matrix\n",
    "https://www.piday.org/million/"
   ]
  },
  {
   "cell_type": "code",
   "execution_count": 2,
   "metadata": {},
   "outputs": [],
   "source": [
    "pi <- \"3.14159265358979323846264338327950288419716939937510582097494459230781640628620899862803482534211706798214808651328230664709384460955058223172535940812848111745028410270193852110555964462294895493038196442881097566593344612847564823378678316527120190914564856692346034861045432664821339360726024914127372458700660631558817488152092096282925409171536436789259036001133053054882046652138414695194151160943305727036575959195309218611738193261179310511854807446237996274956735188575272489122793818301194912983367336244065664308602139494639522473719070217986094370277053921717629317675238467481846766940513200056812714526356082778577134275778960917363717872146844090122495343014654958537105079227968925892354201995611212902196086403441815981362977477130996051870721134999999837297804995105973173281609631859502445945534690830264252230825334468503\""
   ]
  },
  {
   "cell_type": "code",
   "execution_count": 3,
   "metadata": {},
   "outputs": [
    {
     "name": "stdout",
     "output_type": "stream",
     "text": [
      "  [1] 3 1 4 1 5 9 2 6 5 3 5 8 9 7 9 3 2 3 8 4 6 2 6 4 3 3 8 3 2 7 9 5 2 8 8 4 1\n",
      " [38] 9 7 1 6 9 3 9 9 3 7 5 1 5 8 2 9 7 4 9 4 4 5 9 2 3 7 8 1 6 4 6 2 8 6 2 8 9\n",
      " [75] 9 8 6 2 8 3 4 8 2 5 3 4 2 1 1 7 6 7 9 8 2 1 4 8 8 6\n"
     ]
    },
    {
     "data": {
      "text/html": [
       "49"
      ],
      "text/latex": [
       "49"
      ],
      "text/markdown": [
       "49"
      ],
      "text/plain": [
       "[1] 49"
      ]
     },
     "metadata": {},
     "output_type": "display_data"
    }
   ],
   "source": [
    "pi.vec <- strsplit(pi, \"\")[[1]]\n",
    "pi.vec <- as.numeric(pi.vec[pi.vec %in% c(1:9)])\n",
    "pi.100 <- pi.vec[1:100]\n",
    "print(pi.100)\n",
    "sum(pi.100%%2==0)"
   ]
  },
  {
   "cell_type": "code",
   "execution_count": 4,
   "metadata": {},
   "outputs": [
    {
     "name": "stdout",
     "output_type": "stream",
     "text": [
      ", , 1\n",
      "\n",
      "      [,1] [,2] [,3] [,4] [,5] [,6] [,7] [,8] [,9] [,10]\n",
      " [1,]    3    6    6    2    4    5    5    1    5     9\n",
      " [2,]    1    2    9    3    8    1    8    1    5     6\n",
      " [3,]    4    6    3    7    2    3    2    7    9     4\n",
      " [4,]    1    4    9    8    5    2    2    4    6     4\n",
      " [5,]    5    3    9    1    3    8    3    5    4     2\n",
      " [6,]    9    3    3    6    4    2    1    2    4     8\n",
      " [7,]    2    8    7    4    2    3    7    8    6     8\n",
      " [8,]    6    3    5    6    1    6    2    4    2     1\n",
      " [9,]    5    2    1    2    1    6    5    1    2     9\n",
      "[10,]    3    7    5    8    7    4    3    2    9     7\n",
      "[11,]    5    9    8    6    6    7    5    7    4     5\n",
      "[12,]    8    5    2    2    7    9    9    1    8     6\n",
      "[13,]    9    2    9    8    9    3    4    9    9     6\n",
      "[14,]    7    8    7    9    8    8    8    3    5     5\n",
      "[15,]    9    8    4    9    2    4    1    8    4     9\n",
      "[16,]    3    4    9    8    1    4    2    5    9     3\n",
      "[17,]    2    1    4    6    4    6    8    2    3     3\n",
      "[18,]    3    9    4    2    8    9    4    1    3     4\n",
      "[19,]    8    7    5    8    8    5    8    1    8     4\n",
      "[20,]    4    1    9    3    6    5    1    5    1     6\n",
      "\n"
     ]
    }
   ],
   "source": [
    "pi.200 <- pi.vec[1:200]\n",
    "pi.200.array <- array(pi.200, dim=c(20,10,1))\n",
    "print(pi.200.array)"
   ]
  },
  {
   "cell_type": "markdown",
   "metadata": {},
   "source": [
    "## 3. Prime numbers\n",
    "### Find first 500 prime numbers. What is the 500th prime number?"
   ]
  },
  {
   "cell_type": "code",
   "execution_count": 10,
   "metadata": {
    "scrolled": true
   },
   "outputs": [
    {
     "name": "stdout",
     "output_type": "stream",
     "text": [
      "  [1]    2    3    5    7   11   13   17   19   23   29   31   37   41   43   47\n",
      " [16]   53   59   61   67   71   73   79   83   89   97  101  103  107  109  113\n",
      " [31]  127  131  137  139  149  151  157  163  167  173  179  181  191  193  197\n",
      " [46]  199  211  223  227  229  233  239  241  251  257  263  269  271  277  281\n",
      " [61]  283  293  307  311  313  317  331  337  347  349  353  359  367  373  379\n",
      " [76]  383  389  397  401  409  419  421  431  433  439  443  449  457  461  463\n",
      " [91]  467  479  487  491  499  503  509  521  523  541  547  557  563  569  571\n",
      "[106]  577  587  593  599  601  607  613  617  619  631  641  643  647  653  659\n",
      "[121]  661  673  677  683  691  701  709  719  727  733  739  743  751  757  761\n",
      "[136]  769  773  787  797  809  811  821  823  827  829  839  853  857  859  863\n",
      "[151]  877  881  883  887  907  911  919  929  937  941  947  953  967  971  977\n",
      "[166]  983  991  997 1009 1013 1019 1021 1031 1033 1039 1049 1051 1061 1063 1069\n",
      "[181] 1087 1091 1093 1097 1103 1109 1117 1123 1129 1151 1153 1163 1171 1181 1187\n",
      "[196] 1193 1201 1213 1217 1223 1229 1231 1237 1249 1259 1277 1279 1283 1289 1291\n",
      "[211] 1297 1301 1303 1307 1319 1321 1327 1361 1367 1373 1381 1399 1409 1423 1427\n",
      "[226] 1429 1433 1439 1447 1451 1453 1459 1471 1481 1483 1487 1489 1493 1499 1511\n",
      "[241] 1523 1531 1543 1549 1553 1559 1567 1571 1579 1583 1597 1601 1607 1609 1613\n",
      "[256] 1619 1621 1627 1637 1657 1663 1667 1669 1693 1697 1699 1709 1721 1723 1733\n",
      "[271] 1741 1747 1753 1759 1777 1783 1787 1789 1801 1811 1823 1831 1847 1861 1867\n",
      "[286] 1871 1873 1877 1879 1889 1901 1907 1913 1931 1933 1949 1951 1973 1979 1987\n",
      "[301] 1993 1997 1999 2003 2011 2017 2027 2029 2039 2053 2063 2069 2081 2083 2087\n",
      "[316] 2089 2099 2111 2113 2129 2131 2137 2141 2143 2153 2161 2179 2203 2207 2213\n",
      "[331] 2221 2237 2239 2243 2251 2267 2269 2273 2281 2287 2293 2297 2309 2311 2333\n",
      "[346] 2339 2341 2347 2351 2357 2371 2377 2381 2383 2389 2393 2399 2411 2417 2423\n",
      "[361] 2437 2441 2447 2459 2467 2473 2477 2503 2521 2531 2539 2543 2549 2551 2557\n",
      "[376] 2579 2591 2593 2609 2617 2621 2633 2647 2657 2659 2663 2671 2677 2683 2687\n",
      "[391] 2689 2693 2699 2707 2711 2713 2719 2729 2731 2741 2749 2753 2767 2777 2789\n",
      "[406] 2791 2797 2801 2803 2819 2833 2837 2843 2851 2857 2861 2879 2887 2897 2903\n",
      "[421] 2909 2917 2927 2939 2953 2957 2963 2969 2971 2999 3001 3011 3019 3023 3037\n",
      "[436] 3041 3049 3061 3067 3079 3083 3089 3109 3119 3121 3137 3163 3167 3169 3181\n",
      "[451] 3187 3191 3203 3209 3217 3221 3229 3251 3253 3257 3259 3271 3299 3301 3307\n",
      "[466] 3313 3319 3323 3329 3331 3343 3347 3359 3361 3371 3373 3389 3391 3407 3413\n",
      "[481] 3433 3449 3457 3461 3463 3467 3469 3491 3499 3511 3517 3527 3529 3533 3539\n",
      "[496] 3541 3547 3557 3559 3571 3581\n"
     ]
    }
   ],
   "source": [
    "is.prime <- function(num) {\n",
    "   if (num == 2) {\n",
    "      TRUE\n",
    "   } else if (any(num %% 2:(num-1) == 0)) {\n",
    "      FALSE\n",
    "   } else { \n",
    "      TRUE\n",
    "   }\n",
    "}\n",
    "i<-1\n",
    "sum <- 0\n",
    "v <- c()\n",
    "while (sum <= 500){\n",
    "    if (is.prime(i)){\n",
    "            sum <- sum+1\n",
    "            v[sum] <- i\n",
    "    }else{\n",
    "    }\n",
    "    i <- i+1\n",
    "}\n",
    "print(v)"
   ]
  },
  {
   "cell_type": "markdown",
   "metadata": {},
   "source": [
    "## 5. Read both NAV-D14_DEseq2.csv and NAV-MEM-DEseq2.csv into dataframes: df.nav.d14 and df.nav.mem .\n",
    "### 5.1 Subset both dataframes to include only \"baseMean\", \"log2FoldChange\" and \"padj\""
   ]
  },
  {
   "cell_type": "code",
   "execution_count": 30,
   "metadata": {},
   "outputs": [],
   "source": [
    "df.nav.d14 <- read.csv(\"NAV-D14_DEseq2.csv\")\n",
    "df.nav.mem <- read.csv(\"NAV-MEM_DEseq2.csv\")"
   ]
  },
  {
   "cell_type": "code",
   "execution_count": 32,
   "metadata": {},
   "outputs": [
    {
     "name": "stdout",
     "output_type": "stream",
     "text": [
      "[1] \"subset of Nav-D14\"\n"
     ]
    },
    {
     "data": {
      "text/html": [
       "<table>\n",
       "<thead><tr><th scope=col>baseMean</th><th scope=col>log2FoldChange</th><th scope=col>padj</th></tr></thead>\n",
       "<tbody>\n",
       "\t<tr><td> 25.256745  </td><td> 1.30246882 </td><td>8.209295e-03</td></tr>\n",
       "\t<tr><td>  0.288508  </td><td>-0.05077872 </td><td>          NA</td></tr>\n",
       "\t<tr><td>163.507773  </td><td>-0.05502833 </td><td>9.144493e-01</td></tr>\n",
       "\t<tr><td>296.461713  </td><td> 0.27370099 </td><td>3.312390e-01</td></tr>\n",
       "\t<tr><td>199.011986  </td><td>-1.62012005 </td><td>1.590000e-07</td></tr>\n",
       "\t<tr><td>122.792530  </td><td>-5.60936805 </td><td>7.150000e-17</td></tr>\n",
       "</tbody>\n",
       "</table>\n"
      ],
      "text/latex": [
       "\\begin{tabular}{r|lll}\n",
       " baseMean & log2FoldChange & padj\\\\\n",
       "\\hline\n",
       "\t  25.256745   &  1.30246882  & 8.209295e-03\\\\\n",
       "\t   0.288508   & -0.05077872  &           NA\\\\\n",
       "\t 163.507773   & -0.05502833  & 9.144493e-01\\\\\n",
       "\t 296.461713   &  0.27370099  & 3.312390e-01\\\\\n",
       "\t 199.011986   & -1.62012005  & 1.590000e-07\\\\\n",
       "\t 122.792530   & -5.60936805  & 7.150000e-17\\\\\n",
       "\\end{tabular}\n"
      ],
      "text/markdown": [
       "\n",
       "baseMean | log2FoldChange | padj | \n",
       "|---|---|---|---|---|---|\n",
       "|  25.256745   |  1.30246882  | 8.209295e-03 | \n",
       "|   0.288508   | -0.05077872  |           NA | \n",
       "| 163.507773   | -0.05502833  | 9.144493e-01 | \n",
       "| 296.461713   |  0.27370099  | 3.312390e-01 | \n",
       "| 199.011986   | -1.62012005  | 1.590000e-07 | \n",
       "| 122.792530   | -5.60936805  | 7.150000e-17 | \n",
       "\n",
       "\n"
      ],
      "text/plain": [
       "  baseMean   log2FoldChange padj        \n",
       "1  25.256745  1.30246882    8.209295e-03\n",
       "2   0.288508 -0.05077872              NA\n",
       "3 163.507773 -0.05502833    9.144493e-01\n",
       "4 296.461713  0.27370099    3.312390e-01\n",
       "5 199.011986 -1.62012005    1.590000e-07\n",
       "6 122.792530 -5.60936805    7.150000e-17"
      ]
     },
     "metadata": {},
     "output_type": "display_data"
    },
    {
     "name": "stdout",
     "output_type": "stream",
     "text": [
      "[1] \"subset of Nav-mem\"\n"
     ]
    },
    {
     "data": {
      "text/html": [
       "<table>\n",
       "<thead><tr><th scope=col>baseMean</th><th scope=col>log2FoldChange</th><th scope=col>padj</th></tr></thead>\n",
       "<tbody>\n",
       "\t<tr><td> 25.256745  </td><td> 0.79648366 </td><td>1.592970e-01</td></tr>\n",
       "\t<tr><td>  0.288508  </td><td> 0.11136908 </td><td>          NA</td></tr>\n",
       "\t<tr><td>163.507773  </td><td>-0.35399129 </td><td>3.222973e-01</td></tr>\n",
       "\t<tr><td>296.461713  </td><td> 0.07204111 </td><td>8.587087e-01</td></tr>\n",
       "\t<tr><td>199.011986  </td><td> 0.20171786 </td><td>6.914181e-01</td></tr>\n",
       "\t<tr><td>122.792530  </td><td>-3.99706084 </td><td>1.250000e-09</td></tr>\n",
       "</tbody>\n",
       "</table>\n"
      ],
      "text/latex": [
       "\\begin{tabular}{r|lll}\n",
       " baseMean & log2FoldChange & padj\\\\\n",
       "\\hline\n",
       "\t  25.256745   &  0.79648366  & 1.592970e-01\\\\\n",
       "\t   0.288508   &  0.11136908  &           NA\\\\\n",
       "\t 163.507773   & -0.35399129  & 3.222973e-01\\\\\n",
       "\t 296.461713   &  0.07204111  & 8.587087e-01\\\\\n",
       "\t 199.011986   &  0.20171786  & 6.914181e-01\\\\\n",
       "\t 122.792530   & -3.99706084  & 1.250000e-09\\\\\n",
       "\\end{tabular}\n"
      ],
      "text/markdown": [
       "\n",
       "baseMean | log2FoldChange | padj | \n",
       "|---|---|---|---|---|---|\n",
       "|  25.256745   |  0.79648366  | 1.592970e-01 | \n",
       "|   0.288508   |  0.11136908  |           NA | \n",
       "| 163.507773   | -0.35399129  | 3.222973e-01 | \n",
       "| 296.461713   |  0.07204111  | 8.587087e-01 | \n",
       "| 199.011986   |  0.20171786  | 6.914181e-01 | \n",
       "| 122.792530   | -3.99706084  | 1.250000e-09 | \n",
       "\n",
       "\n"
      ],
      "text/plain": [
       "  baseMean   log2FoldChange padj        \n",
       "1  25.256745  0.79648366    1.592970e-01\n",
       "2   0.288508  0.11136908              NA\n",
       "3 163.507773 -0.35399129    3.222973e-01\n",
       "4 296.461713  0.07204111    8.587087e-01\n",
       "5 199.011986  0.20171786    6.914181e-01\n",
       "6 122.792530 -3.99706084    1.250000e-09"
      ]
     },
     "metadata": {},
     "output_type": "display_data"
    }
   ],
   "source": [
    "df.nav.d14.subset <- subset(df.nav.d14, select=c(\"baseMean\", \"log2FoldChange\", \"padj\"))\n",
    "print(\"subset of Nav-D14\")\n",
    "head(df.nav.d14.subset)\n",
    "df.nav.mem.subset <- subset(df.nav.mem, select=c(\"baseMean\", \"log2FoldChange\", \"padj\"))\n",
    "print(\"subset of Nav-mem\")\n",
    "head(df.nav.mem.subset)"
   ]
  },
  {
   "cell_type": "markdown",
   "metadata": {},
   "source": [
    "### 5.2 Merge the two dataframes (Change column names so that there are no repetative column names. The base mean in two spreadsheets are the same so delete the extra one.) into a dataframe df.nav.d14.mem."
   ]
  },
  {
   "cell_type": "code",
   "execution_count": 11,
   "metadata": {},
   "outputs": [
    {
     "data": {
      "text/html": [
       "<table>\n",
       "<thead><tr><th></th><th scope=col>gene.name</th><th scope=col>baseMean</th><th scope=col>log2FoldChange-d14</th><th scope=col>lfcSE-d14</th><th scope=col>stat-d14</th><th scope=col>pvalue-d14</th><th scope=col>padj-d14</th><th scope=col>log2FoldChange-mem</th><th scope=col>lfcSE-mem</th><th scope=col>stat-mem</th><th scope=col>pvalue-mem</th><th scope=col>padj-mem</th></tr></thead>\n",
       "<tbody>\n",
       "\t<tr><th scope=row>TSPAN6</th><td>TSPAN6      </td><td> 25.256745  </td><td> 1.30246882 </td><td>0.4166710   </td><td> 3.1258926  </td><td>1.772662e-03</td><td>8.209295e-03</td><td> 0.79648366 </td><td>0.3778646   </td><td> 2.1078545  </td><td>3.504358e-02</td><td>1.592970e-01</td></tr>\n",
       "\t<tr><th scope=row>TNMD</th><td>TNMD        </td><td>  0.288508  </td><td>-0.05077872 </td><td>0.4875003   </td><td>-0.1041614  </td><td>9.170413e-01</td><td>          NA</td><td> 0.11136908 </td><td>0.5380579   </td><td> 0.2069835  </td><td>8.360228e-01</td><td>          NA</td></tr>\n",
       "\t<tr><th scope=row>DPM1</th><td>DPM1        </td><td>163.507773  </td><td>-0.05502833 </td><td>0.2492486   </td><td>-0.2207769  </td><td>8.252662e-01</td><td>9.144493e-01</td><td>-0.35399129 </td><td>0.2170358   </td><td>-1.6310274  </td><td>1.028845e-01</td><td>3.222973e-01</td></tr>\n",
       "\t<tr><th scope=row>SCYL3</th><td>SCYL3       </td><td>296.461713  </td><td> 0.27370099 </td><td>0.1964251   </td><td> 1.3934117  </td><td>1.634953e-01</td><td>3.312390e-01</td><td> 0.07204111 </td><td>0.1698354   </td><td> 0.4241819  </td><td>6.714331e-01</td><td>8.587087e-01</td></tr>\n",
       "\t<tr><th scope=row>C1orf112</th><td>C1orf112    </td><td>199.011986  </td><td>-1.62012005 </td><td>0.2833121   </td><td>-5.7184998  </td><td>1.070000e-08</td><td>1.590000e-07</td><td> 0.20171786 </td><td>0.2517235   </td><td> 0.8013470  </td><td>4.229308e-01</td><td>6.914181e-01</td></tr>\n",
       "\t<tr><th scope=row>FGR</th><td>FGR         </td><td>122.792530  </td><td>-5.60936805 </td><td>0.6378324   </td><td>-8.7944226  </td><td>1.440000e-18</td><td>7.150000e-17</td><td>-3.99706084 </td><td>0.5938327   </td><td>-6.7309544  </td><td>1.690000e-11</td><td>1.250000e-09</td></tr>\n",
       "</tbody>\n",
       "</table>\n"
      ],
      "text/latex": [
       "\\begin{tabular}{r|llllllllllll}\n",
       "  & gene.name & baseMean & log2FoldChange-d14 & lfcSE-d14 & stat-d14 & pvalue-d14 & padj-d14 & log2FoldChange-mem & lfcSE-mem & stat-mem & pvalue-mem & padj-mem\\\\\n",
       "\\hline\n",
       "\tTSPAN6 & TSPAN6       &  25.256745   &  1.30246882  & 0.4166710    &  3.1258926   & 1.772662e-03 & 8.209295e-03 &  0.79648366  & 0.3778646    &  2.1078545   & 3.504358e-02 & 1.592970e-01\\\\\n",
       "\tTNMD & TNMD         &   0.288508   & -0.05077872  & 0.4875003    & -0.1041614   & 9.170413e-01 &           NA &  0.11136908  & 0.5380579    &  0.2069835   & 8.360228e-01 &           NA\\\\\n",
       "\tDPM1 & DPM1         & 163.507773   & -0.05502833  & 0.2492486    & -0.2207769   & 8.252662e-01 & 9.144493e-01 & -0.35399129  & 0.2170358    & -1.6310274   & 1.028845e-01 & 3.222973e-01\\\\\n",
       "\tSCYL3 & SCYL3        & 296.461713   &  0.27370099  & 0.1964251    &  1.3934117   & 1.634953e-01 & 3.312390e-01 &  0.07204111  & 0.1698354    &  0.4241819   & 6.714331e-01 & 8.587087e-01\\\\\n",
       "\tC1orf112 & C1orf112     & 199.011986   & -1.62012005  & 0.2833121    & -5.7184998   & 1.070000e-08 & 1.590000e-07 &  0.20171786  & 0.2517235    &  0.8013470   & 4.229308e-01 & 6.914181e-01\\\\\n",
       "\tFGR & FGR          & 122.792530   & -5.60936805  & 0.6378324    & -8.7944226   & 1.440000e-18 & 7.150000e-17 & -3.99706084  & 0.5938327    & -6.7309544   & 1.690000e-11 & 1.250000e-09\\\\\n",
       "\\end{tabular}\n"
      ],
      "text/markdown": [
       "\n",
       "| <!--/--> | gene.name | baseMean | log2FoldChange-d14 | lfcSE-d14 | stat-d14 | pvalue-d14 | padj-d14 | log2FoldChange-mem | lfcSE-mem | stat-mem | pvalue-mem | padj-mem | \n",
       "|---|---|---|---|---|---|\n",
       "| TSPAN6 | TSPAN6       |  25.256745   |  1.30246882  | 0.4166710    |  3.1258926   | 1.772662e-03 | 8.209295e-03 |  0.79648366  | 0.3778646    |  2.1078545   | 3.504358e-02 | 1.592970e-01 | \n",
       "| TNMD | TNMD         |   0.288508   | -0.05077872  | 0.4875003    | -0.1041614   | 9.170413e-01 |           NA |  0.11136908  | 0.5380579    |  0.2069835   | 8.360228e-01 |           NA | \n",
       "| DPM1 | DPM1         | 163.507773   | -0.05502833  | 0.2492486    | -0.2207769   | 8.252662e-01 | 9.144493e-01 | -0.35399129  | 0.2170358    | -1.6310274   | 1.028845e-01 | 3.222973e-01 | \n",
       "| SCYL3 | SCYL3        | 296.461713   |  0.27370099  | 0.1964251    |  1.3934117   | 1.634953e-01 | 3.312390e-01 |  0.07204111  | 0.1698354    |  0.4241819   | 6.714331e-01 | 8.587087e-01 | \n",
       "| C1orf112 | C1orf112     | 199.011986   | -1.62012005  | 0.2833121    | -5.7184998   | 1.070000e-08 | 1.590000e-07 |  0.20171786  | 0.2517235    |  0.8013470   | 4.229308e-01 | 6.914181e-01 | \n",
       "| FGR | FGR          | 122.792530   | -5.60936805  | 0.6378324    | -8.7944226   | 1.440000e-18 | 7.150000e-17 | -3.99706084  | 0.5938327    | -6.7309544   | 1.690000e-11 | 1.250000e-09 | \n",
       "\n",
       "\n"
      ],
      "text/plain": [
       "         gene.name baseMean   log2FoldChange-d14 lfcSE-d14 stat-d14  \n",
       "TSPAN6   TSPAN6     25.256745  1.30246882        0.4166710  3.1258926\n",
       "TNMD     TNMD        0.288508 -0.05077872        0.4875003 -0.1041614\n",
       "DPM1     DPM1      163.507773 -0.05502833        0.2492486 -0.2207769\n",
       "SCYL3    SCYL3     296.461713  0.27370099        0.1964251  1.3934117\n",
       "C1orf112 C1orf112  199.011986 -1.62012005        0.2833121 -5.7184998\n",
       "FGR      FGR       122.792530 -5.60936805        0.6378324 -8.7944226\n",
       "         pvalue-d14   padj-d14     log2FoldChange-mem lfcSE-mem stat-mem  \n",
       "TSPAN6   1.772662e-03 8.209295e-03  0.79648366        0.3778646  2.1078545\n",
       "TNMD     9.170413e-01           NA  0.11136908        0.5380579  0.2069835\n",
       "DPM1     8.252662e-01 9.144493e-01 -0.35399129        0.2170358 -1.6310274\n",
       "SCYL3    1.634953e-01 3.312390e-01  0.07204111        0.1698354  0.4241819\n",
       "C1orf112 1.070000e-08 1.590000e-07  0.20171786        0.2517235  0.8013470\n",
       "FGR      1.440000e-18 7.150000e-17 -3.99706084        0.5938327 -6.7309544\n",
       "         pvalue-mem   padj-mem    \n",
       "TSPAN6   3.504358e-02 1.592970e-01\n",
       "TNMD     8.360228e-01           NA\n",
       "DPM1     1.028845e-01 3.222973e-01\n",
       "SCYL3    6.714331e-01 8.587087e-01\n",
       "C1orf112 4.229308e-01 6.914181e-01\n",
       "FGR      1.690000e-11 1.250000e-09"
      ]
     },
     "metadata": {},
     "output_type": "display_data"
    }
   ],
   "source": [
    "colnames(df.nav.d14) <- c(\"gene.name\", \"baseMean\", \"log2FoldChange-d14\", \"lfcSE-d14\", \"stat-d14\", \"pvalue-d14\", \"padj-d14\")\n",
    "row.names(df.nav.d14) <- df.nav.d14$gene.name\n",
    "colnames(df.nav.mem) <- c(\"gene.name\", \"baseMean\", \"log2FoldChange-mem\", \"lfcSE-mem\", \"stat-mem\", \"pvalue-mem\", \"padj-mem\")\n",
    "row.names(df.nav.mem) <- df.nav.mem$gene.name\n",
    "#head(df.nav.d14)\n",
    "df.nav.d14.mem <- cbind(df.nav.d14, df.nav.mem)\n",
    "df.nav.d14.mem <- df.nav.d14.mem[, !duplicated(colnames(df.nav.d14.mem))]\n",
    "head(df.nav.d14.mem)"
   ]
  },
  {
   "cell_type": "markdown",
   "metadata": {},
   "source": [
    "### 5.3 Sort the new dataframe on \" baseMean\"."
   ]
  },
  {
   "cell_type": "code",
   "execution_count": 13,
   "metadata": {},
   "outputs": [
    {
     "data": {
      "text/html": [
       "<table>\n",
       "<thead><tr><th></th><th scope=col>gene.name</th><th scope=col>baseMean</th><th scope=col>log2FoldChange-d14</th><th scope=col>lfcSE-d14</th><th scope=col>stat-d14</th><th scope=col>pvalue-d14</th><th scope=col>padj-d14</th><th scope=col>log2FoldChange-mem</th><th scope=col>lfcSE-mem</th><th scope=col>stat-mem</th><th scope=col>pvalue-mem</th><th scope=col>padj-mem</th></tr></thead>\n",
       "<tbody>\n",
       "\t<tr><th scope=row>HOXA11</th><td>HOXA11     </td><td>0.05932533 </td><td> 0.08516965</td><td>0.4857462  </td><td> 0.1753378 </td><td>0.8608142  </td><td>NA         </td><td> 0.03467809</td><td>0.5378378  </td><td> 0.06447686</td><td>0.9485905  </td><td>NA         </td></tr>\n",
       "\t<tr><th scope=row>CCL26</th><td>CCL26      </td><td>0.09053621 </td><td> 0.00000000</td><td>0.4857462  </td><td> 0.0000000 </td><td>1.0000000  </td><td>NA         </td><td>-0.12804415</td><td>0.5378378  </td><td>-0.23807208</td><td>0.8118252  </td><td>NA         </td></tr>\n",
       "\t<tr><th scope=row>CEACAM7</th><td>CEACAM7    </td><td>0.11865065 </td><td> 0.15015459</td><td>0.4857462  </td><td> 0.3091215 </td><td>0.7572291  </td><td>NA         </td><td> 0.11006061</td><td>0.5378378  </td><td> 0.20463534</td><td>0.8378570  </td><td>NA         </td></tr>\n",
       "\t<tr><th scope=row>CCT8L1P</th><td>CCT8L1P    </td><td>0.14345538 </td><td> 0.06952303</td><td>0.4857462  </td><td> 0.1431262 </td><td>0.8861905  </td><td>NA         </td><td>-0.05276310</td><td>0.5378378  </td><td>-0.09810226</td><td>0.9218511  </td><td>NA         </td></tr>\n",
       "\t<tr><th scope=row>ZNF806</th><td>ZNF806     </td><td>0.15787023 </td><td>-0.11999276</td><td>0.4857462  </td><td>-0.2470277 </td><td>0.8048868  </td><td>NA         </td><td> 0.02561065</td><td>0.5378378  </td><td> 0.04761780</td><td>0.9620208  </td><td>NA         </td></tr>\n",
       "\t<tr><th scope=row>KRT33A</th><td>KRT33A     </td><td>0.21961349 </td><td>-0.05017946</td><td>0.4858590  </td><td>-0.1032799 </td><td>0.9177408  </td><td>NA         </td><td> 0.10178886</td><td>0.5378379  </td><td> 0.18925565</td><td>0.8498925  </td><td>NA         </td></tr>\n",
       "</tbody>\n",
       "</table>\n"
      ],
      "text/latex": [
       "\\begin{tabular}{r|llllllllllll}\n",
       "  & gene.name & baseMean & log2FoldChange-d14 & lfcSE-d14 & stat-d14 & pvalue-d14 & padj-d14 & log2FoldChange-mem & lfcSE-mem & stat-mem & pvalue-mem & padj-mem\\\\\n",
       "\\hline\n",
       "\tHOXA11 & HOXA11      & 0.05932533  &  0.08516965 & 0.4857462   &  0.1753378  & 0.8608142   & NA          &  0.03467809 & 0.5378378   &  0.06447686 & 0.9485905   & NA         \\\\\n",
       "\tCCL26 & CCL26       & 0.09053621  &  0.00000000 & 0.4857462   &  0.0000000  & 1.0000000   & NA          & -0.12804415 & 0.5378378   & -0.23807208 & 0.8118252   & NA         \\\\\n",
       "\tCEACAM7 & CEACAM7     & 0.11865065  &  0.15015459 & 0.4857462   &  0.3091215  & 0.7572291   & NA          &  0.11006061 & 0.5378378   &  0.20463534 & 0.8378570   & NA         \\\\\n",
       "\tCCT8L1P & CCT8L1P     & 0.14345538  &  0.06952303 & 0.4857462   &  0.1431262  & 0.8861905   & NA          & -0.05276310 & 0.5378378   & -0.09810226 & 0.9218511   & NA         \\\\\n",
       "\tZNF806 & ZNF806      & 0.15787023  & -0.11999276 & 0.4857462   & -0.2470277  & 0.8048868   & NA          &  0.02561065 & 0.5378378   &  0.04761780 & 0.9620208   & NA         \\\\\n",
       "\tKRT33A & KRT33A      & 0.21961349  & -0.05017946 & 0.4858590   & -0.1032799  & 0.9177408   & NA          &  0.10178886 & 0.5378379   &  0.18925565 & 0.8498925   & NA         \\\\\n",
       "\\end{tabular}\n"
      ],
      "text/markdown": [
       "\n",
       "| <!--/--> | gene.name | baseMean | log2FoldChange-d14 | lfcSE-d14 | stat-d14 | pvalue-d14 | padj-d14 | log2FoldChange-mem | lfcSE-mem | stat-mem | pvalue-mem | padj-mem | \n",
       "|---|---|---|---|---|---|\n",
       "| HOXA11 | HOXA11      | 0.05932533  |  0.08516965 | 0.4857462   |  0.1753378  | 0.8608142   | NA          |  0.03467809 | 0.5378378   |  0.06447686 | 0.9485905   | NA          | \n",
       "| CCL26 | CCL26       | 0.09053621  |  0.00000000 | 0.4857462   |  0.0000000  | 1.0000000   | NA          | -0.12804415 | 0.5378378   | -0.23807208 | 0.8118252   | NA          | \n",
       "| CEACAM7 | CEACAM7     | 0.11865065  |  0.15015459 | 0.4857462   |  0.3091215  | 0.7572291   | NA          |  0.11006061 | 0.5378378   |  0.20463534 | 0.8378570   | NA          | \n",
       "| CCT8L1P | CCT8L1P     | 0.14345538  |  0.06952303 | 0.4857462   |  0.1431262  | 0.8861905   | NA          | -0.05276310 | 0.5378378   | -0.09810226 | 0.9218511   | NA          | \n",
       "| ZNF806 | ZNF806      | 0.15787023  | -0.11999276 | 0.4857462   | -0.2470277  | 0.8048868   | NA          |  0.02561065 | 0.5378378   |  0.04761780 | 0.9620208   | NA          | \n",
       "| KRT33A | KRT33A      | 0.21961349  | -0.05017946 | 0.4858590   | -0.1032799  | 0.9177408   | NA          |  0.10178886 | 0.5378379   |  0.18925565 | 0.8498925   | NA          | \n",
       "\n",
       "\n"
      ],
      "text/plain": [
       "        gene.name baseMean   log2FoldChange-d14 lfcSE-d14 stat-d14   pvalue-d14\n",
       "HOXA11  HOXA11    0.05932533  0.08516965        0.4857462  0.1753378 0.8608142 \n",
       "CCL26   CCL26     0.09053621  0.00000000        0.4857462  0.0000000 1.0000000 \n",
       "CEACAM7 CEACAM7   0.11865065  0.15015459        0.4857462  0.3091215 0.7572291 \n",
       "CCT8L1P CCT8L1P   0.14345538  0.06952303        0.4857462  0.1431262 0.8861905 \n",
       "ZNF806  ZNF806    0.15787023 -0.11999276        0.4857462 -0.2470277 0.8048868 \n",
       "KRT33A  KRT33A    0.21961349 -0.05017946        0.4858590 -0.1032799 0.9177408 \n",
       "        padj-d14 log2FoldChange-mem lfcSE-mem stat-mem    pvalue-mem padj-mem\n",
       "HOXA11  NA        0.03467809        0.5378378  0.06447686 0.9485905  NA      \n",
       "CCL26   NA       -0.12804415        0.5378378 -0.23807208 0.8118252  NA      \n",
       "CEACAM7 NA        0.11006061        0.5378378  0.20463534 0.8378570  NA      \n",
       "CCT8L1P NA       -0.05276310        0.5378378 -0.09810226 0.9218511  NA      \n",
       "ZNF806  NA        0.02561065        0.5378378  0.04761780 0.9620208  NA      \n",
       "KRT33A  NA        0.10178886        0.5378379  0.18925565 0.8498925  NA      "
      ]
     },
     "metadata": {},
     "output_type": "display_data"
    }
   ],
   "source": [
    "df.nav.d14.mem.srt <- df.nav.d14.mem[order(df.nav.d14.mem$baseMean),]\n",
    "head(df.nav.d14.mem.srt)"
   ]
  },
  {
   "cell_type": "markdown",
   "metadata": {},
   "source": [
    "### 5.4 Define a function to evaluate padj output:\n",
    "    - padj > 0.05: nonsig\n",
    "    - padj <= 0.05: sig"
   ]
  },
  {
   "cell_type": "markdown",
   "metadata": {},
   "source": [
    "### 5.5 Apply the function to both nav.mem and nav.d14 and create one column to add the evaluation result."
   ]
  },
  {
   "cell_type": "code",
   "execution_count": 22,
   "metadata": {},
   "outputs": [],
   "source": [
    "# p-value types\n",
    "# padj > 0.05: nonsig\n",
    "# 0.05 >= padj: sig\n",
    "\n",
    "ptype <- function(padj) {\n",
    "    if (is.na(padj)) {\n",
    "        return(NA)\n",
    "    }\n",
    "    else if(padj > 0.05) {\n",
    "        return(\"nonsig\")\n",
    "    }\n",
    "    else if(padj <= 0.05) {\n",
    "        return(\"sig\")\n",
    "    }\n",
    "}"
   ]
  },
  {
   "cell_type": "code",
   "execution_count": 33,
   "metadata": {},
   "outputs": [
    {
     "data": {
      "text/html": [
       "<table>\n",
       "<thead><tr><th scope=col>gene.name</th><th scope=col>baseMean</th><th scope=col>log2FoldChange</th><th scope=col>lfcSE</th><th scope=col>stat</th><th scope=col>pvalue</th><th scope=col>padj</th><th scope=col>df.nav.d14.ptype</th></tr></thead>\n",
       "<tbody>\n",
       "\t<tr><td>TSPAN6      </td><td> 25.256745  </td><td> 1.30246882 </td><td>0.4166710   </td><td> 3.1258926  </td><td>1.772662e-03</td><td>8.209295e-03</td><td>sig         </td></tr>\n",
       "\t<tr><td>TNMD        </td><td>  0.288508  </td><td>-0.05077872 </td><td>0.4875003   </td><td>-0.1041614  </td><td>9.170413e-01</td><td>          NA</td><td>NA          </td></tr>\n",
       "\t<tr><td>DPM1        </td><td>163.507773  </td><td>-0.05502833 </td><td>0.2492486   </td><td>-0.2207769  </td><td>8.252662e-01</td><td>9.144493e-01</td><td>nonsig      </td></tr>\n",
       "\t<tr><td>SCYL3       </td><td>296.461713  </td><td> 0.27370099 </td><td>0.1964251   </td><td> 1.3934117  </td><td>1.634953e-01</td><td>3.312390e-01</td><td>nonsig      </td></tr>\n",
       "\t<tr><td>C1orf112    </td><td>199.011986  </td><td>-1.62012005 </td><td>0.2833121   </td><td>-5.7184998  </td><td>1.070000e-08</td><td>1.590000e-07</td><td>sig         </td></tr>\n",
       "\t<tr><td>FGR         </td><td>122.792530  </td><td>-5.60936805 </td><td>0.6378324   </td><td>-8.7944226  </td><td>1.440000e-18</td><td>7.150000e-17</td><td>sig         </td></tr>\n",
       "</tbody>\n",
       "</table>\n"
      ],
      "text/latex": [
       "\\begin{tabular}{r|llllllll}\n",
       " gene.name & baseMean & log2FoldChange & lfcSE & stat & pvalue & padj & df.nav.d14.ptype\\\\\n",
       "\\hline\n",
       "\t TSPAN6       &  25.256745   &  1.30246882  & 0.4166710    &  3.1258926   & 1.772662e-03 & 8.209295e-03 & sig         \\\\\n",
       "\t TNMD         &   0.288508   & -0.05077872  & 0.4875003    & -0.1041614   & 9.170413e-01 &           NA & NA          \\\\\n",
       "\t DPM1         & 163.507773   & -0.05502833  & 0.2492486    & -0.2207769   & 8.252662e-01 & 9.144493e-01 & nonsig      \\\\\n",
       "\t SCYL3        & 296.461713   &  0.27370099  & 0.1964251    &  1.3934117   & 1.634953e-01 & 3.312390e-01 & nonsig      \\\\\n",
       "\t C1orf112     & 199.011986   & -1.62012005  & 0.2833121    & -5.7184998   & 1.070000e-08 & 1.590000e-07 & sig         \\\\\n",
       "\t FGR          & 122.792530   & -5.60936805  & 0.6378324    & -8.7944226   & 1.440000e-18 & 7.150000e-17 & sig         \\\\\n",
       "\\end{tabular}\n"
      ],
      "text/markdown": [
       "\n",
       "gene.name | baseMean | log2FoldChange | lfcSE | stat | pvalue | padj | df.nav.d14.ptype | \n",
       "|---|---|---|---|---|---|\n",
       "| TSPAN6       |  25.256745   |  1.30246882  | 0.4166710    |  3.1258926   | 1.772662e-03 | 8.209295e-03 | sig          | \n",
       "| TNMD         |   0.288508   | -0.05077872  | 0.4875003    | -0.1041614   | 9.170413e-01 |           NA | NA           | \n",
       "| DPM1         | 163.507773   | -0.05502833  | 0.2492486    | -0.2207769   | 8.252662e-01 | 9.144493e-01 | nonsig       | \n",
       "| SCYL3        | 296.461713   |  0.27370099  | 0.1964251    |  1.3934117   | 1.634953e-01 | 3.312390e-01 | nonsig       | \n",
       "| C1orf112     | 199.011986   | -1.62012005  | 0.2833121    | -5.7184998   | 1.070000e-08 | 1.590000e-07 | sig          | \n",
       "| FGR          | 122.792530   | -5.60936805  | 0.6378324    | -8.7944226   | 1.440000e-18 | 7.150000e-17 | sig          | \n",
       "\n",
       "\n"
      ],
      "text/plain": [
       "  gene.name baseMean   log2FoldChange lfcSE     stat       pvalue      \n",
       "1 TSPAN6     25.256745  1.30246882    0.4166710  3.1258926 1.772662e-03\n",
       "2 TNMD        0.288508 -0.05077872    0.4875003 -0.1041614 9.170413e-01\n",
       "3 DPM1      163.507773 -0.05502833    0.2492486 -0.2207769 8.252662e-01\n",
       "4 SCYL3     296.461713  0.27370099    0.1964251  1.3934117 1.634953e-01\n",
       "5 C1orf112  199.011986 -1.62012005    0.2833121 -5.7184998 1.070000e-08\n",
       "6 FGR       122.792530 -5.60936805    0.6378324 -8.7944226 1.440000e-18\n",
       "  padj         df.nav.d14.ptype\n",
       "1 8.209295e-03 sig             \n",
       "2           NA NA              \n",
       "3 9.144493e-01 nonsig          \n",
       "4 3.312390e-01 nonsig          \n",
       "5 1.590000e-07 sig             \n",
       "6 7.150000e-17 sig             "
      ]
     },
     "metadata": {},
     "output_type": "display_data"
    },
    {
     "data": {
      "text/html": [
       "<table>\n",
       "<thead><tr><th scope=col>gene.name</th><th scope=col>baseMean</th><th scope=col>log2FoldChange</th><th scope=col>lfcSE</th><th scope=col>stat</th><th scope=col>pvalue</th><th scope=col>padj</th><th scope=col>df.nav.mem.ptype</th></tr></thead>\n",
       "<tbody>\n",
       "\t<tr><td>TSPAN6      </td><td> 25.256745  </td><td> 0.79648366 </td><td>0.3778646   </td><td> 2.1078545  </td><td>3.504358e-02</td><td>1.592970e-01</td><td>nonsig      </td></tr>\n",
       "\t<tr><td>TNMD        </td><td>  0.288508  </td><td> 0.11136908 </td><td>0.5380579   </td><td> 0.2069835  </td><td>8.360228e-01</td><td>          NA</td><td>NA          </td></tr>\n",
       "\t<tr><td>DPM1        </td><td>163.507773  </td><td>-0.35399129 </td><td>0.2170358   </td><td>-1.6310274  </td><td>1.028845e-01</td><td>3.222973e-01</td><td>nonsig      </td></tr>\n",
       "\t<tr><td>SCYL3       </td><td>296.461713  </td><td> 0.07204111 </td><td>0.1698354   </td><td> 0.4241819  </td><td>6.714331e-01</td><td>8.587087e-01</td><td>nonsig      </td></tr>\n",
       "\t<tr><td>C1orf112    </td><td>199.011986  </td><td> 0.20171786 </td><td>0.2517235   </td><td> 0.8013470  </td><td>4.229308e-01</td><td>6.914181e-01</td><td>nonsig      </td></tr>\n",
       "\t<tr><td>FGR         </td><td>122.792530  </td><td>-3.99706084 </td><td>0.5938327   </td><td>-6.7309544  </td><td>1.690000e-11</td><td>1.250000e-09</td><td>sig         </td></tr>\n",
       "</tbody>\n",
       "</table>\n"
      ],
      "text/latex": [
       "\\begin{tabular}{r|llllllll}\n",
       " gene.name & baseMean & log2FoldChange & lfcSE & stat & pvalue & padj & df.nav.mem.ptype\\\\\n",
       "\\hline\n",
       "\t TSPAN6       &  25.256745   &  0.79648366  & 0.3778646    &  2.1078545   & 3.504358e-02 & 1.592970e-01 & nonsig      \\\\\n",
       "\t TNMD         &   0.288508   &  0.11136908  & 0.5380579    &  0.2069835   & 8.360228e-01 &           NA & NA          \\\\\n",
       "\t DPM1         & 163.507773   & -0.35399129  & 0.2170358    & -1.6310274   & 1.028845e-01 & 3.222973e-01 & nonsig      \\\\\n",
       "\t SCYL3        & 296.461713   &  0.07204111  & 0.1698354    &  0.4241819   & 6.714331e-01 & 8.587087e-01 & nonsig      \\\\\n",
       "\t C1orf112     & 199.011986   &  0.20171786  & 0.2517235    &  0.8013470   & 4.229308e-01 & 6.914181e-01 & nonsig      \\\\\n",
       "\t FGR          & 122.792530   & -3.99706084  & 0.5938327    & -6.7309544   & 1.690000e-11 & 1.250000e-09 & sig         \\\\\n",
       "\\end{tabular}\n"
      ],
      "text/markdown": [
       "\n",
       "gene.name | baseMean | log2FoldChange | lfcSE | stat | pvalue | padj | df.nav.mem.ptype | \n",
       "|---|---|---|---|---|---|\n",
       "| TSPAN6       |  25.256745   |  0.79648366  | 0.3778646    |  2.1078545   | 3.504358e-02 | 1.592970e-01 | nonsig       | \n",
       "| TNMD         |   0.288508   |  0.11136908  | 0.5380579    |  0.2069835   | 8.360228e-01 |           NA | NA           | \n",
       "| DPM1         | 163.507773   | -0.35399129  | 0.2170358    | -1.6310274   | 1.028845e-01 | 3.222973e-01 | nonsig       | \n",
       "| SCYL3        | 296.461713   |  0.07204111  | 0.1698354    |  0.4241819   | 6.714331e-01 | 8.587087e-01 | nonsig       | \n",
       "| C1orf112     | 199.011986   |  0.20171786  | 0.2517235    |  0.8013470   | 4.229308e-01 | 6.914181e-01 | nonsig       | \n",
       "| FGR          | 122.792530   | -3.99706084  | 0.5938327    | -6.7309544   | 1.690000e-11 | 1.250000e-09 | sig          | \n",
       "\n",
       "\n"
      ],
      "text/plain": [
       "  gene.name baseMean   log2FoldChange lfcSE     stat       pvalue      \n",
       "1 TSPAN6     25.256745  0.79648366    0.3778646  2.1078545 3.504358e-02\n",
       "2 TNMD        0.288508  0.11136908    0.5380579  0.2069835 8.360228e-01\n",
       "3 DPM1      163.507773 -0.35399129    0.2170358 -1.6310274 1.028845e-01\n",
       "4 SCYL3     296.461713  0.07204111    0.1698354  0.4241819 6.714331e-01\n",
       "5 C1orf112  199.011986  0.20171786    0.2517235  0.8013470 4.229308e-01\n",
       "6 FGR       122.792530 -3.99706084    0.5938327 -6.7309544 1.690000e-11\n",
       "  padj         df.nav.mem.ptype\n",
       "1 1.592970e-01 nonsig          \n",
       "2           NA NA              \n",
       "3 3.222973e-01 nonsig          \n",
       "4 8.587087e-01 nonsig          \n",
       "5 6.914181e-01 nonsig          \n",
       "6 1.250000e-09 sig             "
      ]
     },
     "metadata": {},
     "output_type": "display_data"
    }
   ],
   "source": [
    "df.nav.d14.ptype <- lapply(df.nav.d14$padj, ptype)\n",
    "df.nav.d14.ptype <- factor(unlist(df.nav.d14.ptype))\n",
    "df.nav.d14 <- cbind(df.nav.d14, df.nav.d14.ptype)\n",
    "head(df.nav.d14)\n",
    "df.nav.mem.ptype <- lapply(df.nav.mem$padj, ptype)\n",
    "df.nav.mem.ptype <- factor(unlist(df.nav.mem.ptype))\n",
    "df.nav.mem <- cbind(df.nav.mem, df.nav.mem.ptype)\n",
    "head(df.nav.mem)"
   ]
  },
  {
   "cell_type": "markdown",
   "metadata": {},
   "source": [
    "## Install Swirl,  do \"R programming\" and \"Data analysis\"\n",
    "https://swirlstats.com/students.html"
   ]
  },
  {
   "cell_type": "code",
   "execution_count": null,
   "metadata": {
    "collapsed": true
   },
   "outputs": [],
   "source": []
  }
 ],
 "metadata": {
  "kernelspec": {
   "display_name": "R",
   "language": "R",
   "name": "ir"
  },
  "language_info": {
   "codemirror_mode": "r",
   "file_extension": ".r",
   "mimetype": "text/x-r-source",
   "name": "R",
   "pygments_lexer": "r",
   "version": "3.5.1"
  }
 },
 "nbformat": 4,
 "nbformat_minor": 2
}
