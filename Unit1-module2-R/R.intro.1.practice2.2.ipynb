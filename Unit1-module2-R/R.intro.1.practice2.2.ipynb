{
 "cells": [
  {
   "cell_type": "markdown",
   "metadata": {},
   "source": [
    "# R intro 1 - Practice 2.2"
   ]
  },
  {
   "cell_type": "markdown",
   "metadata": {},
   "source": [
    "### 1. Build a vector containing characters a to e, and another vector containing number 1-6. \n",
    "#### * Convert the first vector to all upper case. \n",
    "#### * Concatente the two vectors and check the element type of the all the vectors created."
   ]
  },
  {
   "cell_type": "code",
   "execution_count": 1,
   "metadata": {},
   "outputs": [
    {
     "data": {
      "text/html": [
       "<ol class=list-inline>\n",
       "\t<li>'A'</li>\n",
       "\t<li>'B'</li>\n",
       "\t<li>'C'</li>\n",
       "\t<li>'D'</li>\n",
       "\t<li>'E'</li>\n",
       "\t<li>'1'</li>\n",
       "\t<li>'2'</li>\n",
       "\t<li>'3'</li>\n",
       "\t<li>'4'</li>\n",
       "\t<li>'5'</li>\n",
       "\t<li>'6'</li>\n",
       "</ol>\n"
      ],
      "text/latex": [
       "\\begin{enumerate*}\n",
       "\\item 'A'\n",
       "\\item 'B'\n",
       "\\item 'C'\n",
       "\\item 'D'\n",
       "\\item 'E'\n",
       "\\item '1'\n",
       "\\item '2'\n",
       "\\item '3'\n",
       "\\item '4'\n",
       "\\item '5'\n",
       "\\item '6'\n",
       "\\end{enumerate*}\n"
      ],
      "text/markdown": [
       "1. 'A'\n",
       "2. 'B'\n",
       "3. 'C'\n",
       "4. 'D'\n",
       "5. 'E'\n",
       "6. '1'\n",
       "7. '2'\n",
       "8. '3'\n",
       "9. '4'\n",
       "10. '5'\n",
       "11. '6'\n",
       "\n",
       "\n"
      ],
      "text/plain": [
       " [1] \"A\" \"B\" \"C\" \"D\" \"E\" \"1\" \"2\" \"3\" \"4\" \"5\" \"6\""
      ]
     },
     "metadata": {},
     "output_type": "display_data"
    },
    {
     "data": {
      "text/html": [
       "'character'"
      ],
      "text/latex": [
       "'character'"
      ],
      "text/markdown": [
       "'character'"
      ],
      "text/plain": [
       "[1] \"character\""
      ]
     },
     "metadata": {},
     "output_type": "display_data"
    },
    {
     "data": {
      "text/html": [
       "'integer'"
      ],
      "text/latex": [
       "'integer'"
      ],
      "text/markdown": [
       "'integer'"
      ],
      "text/plain": [
       "[1] \"integer\""
      ]
     },
     "metadata": {},
     "output_type": "display_data"
    },
    {
     "data": {
      "text/html": [
       "'character'"
      ],
      "text/latex": [
       "'character'"
      ],
      "text/markdown": [
       "'character'"
      ],
      "text/plain": [
       "[1] \"character\""
      ]
     },
     "metadata": {},
     "output_type": "display_data"
    }
   ],
   "source": [
    "vector1 <- c(\"a\",\"b\",\"c\",\"d\",\"e\")\n",
    "vector2 <- c(1:6)\n",
    "vector1 <- toupper(vector1)\n",
    "vector3 <- c(vector1, vector2)\n",
    "vector3\n",
    "class(vector1)\n",
    "class(vector2)\n",
    "class(vector3)"
   ]
  },
  {
   "cell_type": "markdown",
   "metadata": {},
   "source": [
    "### 2. Use a while loop to print out all the numbers that can be divided by 3 from 1 to 100."
   ]
  },
  {
   "cell_type": "code",
   "execution_count": 1,
   "metadata": {},
   "outputs": [
    {
     "name": "stdout",
     "output_type": "stream",
     "text": [
      "[1] 3\n",
      "[1] 6\n",
      "[1] 9\n",
      "[1] 12\n",
      "[1] 15\n",
      "[1] 18\n",
      "[1] 21\n",
      "[1] 24\n",
      "[1] 27\n",
      "[1] 30\n",
      "[1] 33\n",
      "[1] 36\n",
      "[1] 39\n",
      "[1] 42\n",
      "[1] 45\n",
      "[1] 48\n",
      "[1] 51\n",
      "[1] 54\n",
      "[1] 57\n",
      "[1] 60\n",
      "[1] 63\n",
      "[1] 66\n",
      "[1] 69\n",
      "[1] 72\n",
      "[1] 75\n",
      "[1] 78\n",
      "[1] 81\n",
      "[1] 84\n",
      "[1] 87\n",
      "[1] 90\n",
      "[1] 93\n",
      "[1] 96\n",
      "[1] 99\n"
     ]
    },
    {
     "data": {
      "text/html": [
       "33"
      ],
      "text/latex": [
       "33"
      ],
      "text/markdown": [
       "33"
      ],
      "text/plain": [
       "[1] 33"
      ]
     },
     "metadata": {},
     "output_type": "display_data"
    }
   ],
   "source": [
    "i <- 1\n",
    "count <- 0\n",
    "while(i <= 100) {\n",
    "    if(i%%3 == 0) {\n",
    "        print(i)\n",
    "        count <- count + 1\n",
    "    }\n",
    "    i <- i+1\n",
    "}\n",
    "count"
   ]
  },
  {
   "cell_type": "markdown",
   "metadata": {},
   "source": [
    "### 3. Nutella needs to be fed with 5 grams of rodent diet everyday. \n",
    "#### *Please create a for loop that will take a vector containing the weight of food that is given, and print out if the food is enough / more than enough / too little. \n",
    "#### *Create a vector with TRUE or FALSE for the output, if the food is enough or more then TRUE, else FALSE."
   ]
  },
  {
   "cell_type": "code",
   "execution_count": 2,
   "metadata": {},
   "outputs": [
    {
     "data": {
      "text/html": [
       "<ol class=list-inline>\n",
       "\t<li>FALSE</li>\n",
       "\t<li>FALSE</li>\n",
       "\t<li>FALSE</li>\n",
       "\t<li>FALSE</li>\n",
       "\t<li>FALSE</li>\n",
       "\t<li>FALSE</li>\n",
       "\t<li>FALSE</li>\n",
       "</ol>\n"
      ],
      "text/latex": [
       "\\begin{enumerate*}\n",
       "\\item FALSE\n",
       "\\item FALSE\n",
       "\\item FALSE\n",
       "\\item FALSE\n",
       "\\item FALSE\n",
       "\\item FALSE\n",
       "\\item FALSE\n",
       "\\end{enumerate*}\n"
      ],
      "text/markdown": [
       "1. FALSE\n",
       "2. FALSE\n",
       "3. FALSE\n",
       "4. FALSE\n",
       "5. FALSE\n",
       "6. FALSE\n",
       "7. FALSE\n",
       "\n",
       "\n"
      ],
      "text/plain": [
       "[1] FALSE FALSE FALSE FALSE FALSE FALSE FALSE"
      ]
     },
     "metadata": {},
     "output_type": "display_data"
    },
    {
     "name": "stdout",
     "output_type": "stream",
     "text": [
      "[1] \"This is too much\"\n",
      "[1] \"This is too little\"\n",
      "[1] \"Perfect\"\n",
      "[1] \"This is too much\"\n",
      "[1] \"This is too much\"\n",
      "[1] \"Perfect\"\n",
      "[1] \"This is too much\"\n"
     ]
    },
    {
     "data": {
      "text/html": [
       "<ol class=list-inline>\n",
       "\t<li>TRUE</li>\n",
       "\t<li>FALSE</li>\n",
       "\t<li>TRUE</li>\n",
       "\t<li>TRUE</li>\n",
       "\t<li>TRUE</li>\n",
       "\t<li>TRUE</li>\n",
       "\t<li>TRUE</li>\n",
       "</ol>\n"
      ],
      "text/latex": [
       "\\begin{enumerate*}\n",
       "\\item TRUE\n",
       "\\item FALSE\n",
       "\\item TRUE\n",
       "\\item TRUE\n",
       "\\item TRUE\n",
       "\\item TRUE\n",
       "\\item TRUE\n",
       "\\end{enumerate*}\n"
      ],
      "text/markdown": [
       "1. TRUE\n",
       "2. FALSE\n",
       "3. TRUE\n",
       "4. TRUE\n",
       "5. TRUE\n",
       "6. TRUE\n",
       "7. TRUE\n",
       "\n",
       "\n"
      ],
      "text/plain": [
       "[1]  TRUE FALSE  TRUE  TRUE  TRUE  TRUE  TRUE"
      ]
     },
     "metadata": {},
     "output_type": "display_data"
    }
   ],
   "source": [
    "food.weight <- c(7,3,5,6,10,5,6)\n",
    "food.enough <- logical(length=length(food.weight))\n",
    "food.enough\n",
    "\n",
    "for (i in c(1:length(food.weight))){\n",
    "    if(food.weight[i] > 5){\n",
    "        print(\"This is too much\")\n",
    "        food.enough[i] <- TRUE\n",
    "        \n",
    "    }\n",
    "    else if(food.weight[i] == 5){\n",
    "        print(\"Perfect\")\n",
    "        food.enough[i] <- TRUE\n",
    "    }\n",
    "    else {\n",
    "        print(\"This is too little\")\n",
    "        food.enough[i] <- FALSE\n",
    "    }\n",
    "}\n",
    "\n",
    "food.enough"
   ]
  },
  {
   "cell_type": "code",
   "execution_count": null,
   "metadata": {
    "collapsed": true
   },
   "outputs": [],
   "source": []
  }
 ],
 "metadata": {
  "kernelspec": {
   "display_name": "R",
   "language": "R",
   "name": "ir"
  },
  "language_info": {
   "codemirror_mode": "r",
   "file_extension": ".r",
   "mimetype": "text/x-r-source",
   "name": "R",
   "pygments_lexer": "r",
   "version": "3.3.2"
  }
 },
 "nbformat": 4,
 "nbformat_minor": 2
}
