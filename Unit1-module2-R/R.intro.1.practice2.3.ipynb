{
 "cells": [
  {
   "cell_type": "markdown",
   "metadata": {},
   "source": [
    "# R intro 1 - Practice 2.3"
   ]
  },
  {
   "cell_type": "markdown",
   "metadata": {},
   "source": [
    "### 1. Import NAV-D14_DEseq2.csv to a dataframe, sort according to padj"
   ]
  },
  {
   "cell_type": "code",
   "execution_count": 4,
   "metadata": {},
   "outputs": [
    {
     "data": {
      "text/html": [
       "<table>\n",
       "<thead><tr><th scope=col>gene.name</th><th scope=col>baseMean</th><th scope=col>log2FoldChange</th><th scope=col>lfcSE</th><th scope=col>stat</th><th scope=col>pvalue</th><th scope=col>padj</th></tr></thead>\n",
       "<tbody>\n",
       "\t<tr><td>TSPAN6      </td><td> 25.256745  </td><td> 1.30246882 </td><td>0.4166710   </td><td> 3.1258926  </td><td>1.772662e-03</td><td>8.209295e-03</td></tr>\n",
       "\t<tr><td>TNMD        </td><td>  0.288508  </td><td>-0.05077872 </td><td>0.4875003   </td><td>-0.1041614  </td><td>9.170413e-01</td><td>          NA</td></tr>\n",
       "\t<tr><td>DPM1        </td><td>163.507773  </td><td>-0.05502833 </td><td>0.2492486   </td><td>-0.2207769  </td><td>8.252662e-01</td><td>9.144493e-01</td></tr>\n",
       "\t<tr><td>SCYL3       </td><td>296.461713  </td><td> 0.27370099 </td><td>0.1964251   </td><td> 1.3934117  </td><td>1.634953e-01</td><td>3.312390e-01</td></tr>\n",
       "\t<tr><td>C1orf112    </td><td>199.011986  </td><td>-1.62012005 </td><td>0.2833121   </td><td>-5.7184998  </td><td>1.070000e-08</td><td>1.590000e-07</td></tr>\n",
       "\t<tr><td>FGR         </td><td>122.792530  </td><td>-5.60936805 </td><td>0.6378324   </td><td>-8.7944226  </td><td>1.440000e-18</td><td>7.150000e-17</td></tr>\n",
       "</tbody>\n",
       "</table>\n"
      ],
      "text/latex": [
       "\\begin{tabular}{r|lllllll}\n",
       " gene.name & baseMean & log2FoldChange & lfcSE & stat & pvalue & padj\\\\\n",
       "\\hline\n",
       "\t TSPAN6       &  25.256745   &  1.30246882  & 0.4166710    &  3.1258926   & 1.772662e-03 & 8.209295e-03\\\\\n",
       "\t TNMD         &   0.288508   & -0.05077872  & 0.4875003    & -0.1041614   & 9.170413e-01 &           NA\\\\\n",
       "\t DPM1         & 163.507773   & -0.05502833  & 0.2492486    & -0.2207769   & 8.252662e-01 & 9.144493e-01\\\\\n",
       "\t SCYL3        & 296.461713   &  0.27370099  & 0.1964251    &  1.3934117   & 1.634953e-01 & 3.312390e-01\\\\\n",
       "\t C1orf112     & 199.011986   & -1.62012005  & 0.2833121    & -5.7184998   & 1.070000e-08 & 1.590000e-07\\\\\n",
       "\t FGR          & 122.792530   & -5.60936805  & 0.6378324    & -8.7944226   & 1.440000e-18 & 7.150000e-17\\\\\n",
       "\\end{tabular}\n"
      ],
      "text/markdown": [
       "\n",
       "gene.name | baseMean | log2FoldChange | lfcSE | stat | pvalue | padj | \n",
       "|---|---|---|---|---|---|\n",
       "| TSPAN6       |  25.256745   |  1.30246882  | 0.4166710    |  3.1258926   | 1.772662e-03 | 8.209295e-03 | \n",
       "| TNMD         |   0.288508   | -0.05077872  | 0.4875003    | -0.1041614   | 9.170413e-01 |           NA | \n",
       "| DPM1         | 163.507773   | -0.05502833  | 0.2492486    | -0.2207769   | 8.252662e-01 | 9.144493e-01 | \n",
       "| SCYL3        | 296.461713   |  0.27370099  | 0.1964251    |  1.3934117   | 1.634953e-01 | 3.312390e-01 | \n",
       "| C1orf112     | 199.011986   | -1.62012005  | 0.2833121    | -5.7184998   | 1.070000e-08 | 1.590000e-07 | \n",
       "| FGR          | 122.792530   | -5.60936805  | 0.6378324    | -8.7944226   | 1.440000e-18 | 7.150000e-17 | \n",
       "\n",
       "\n"
      ],
      "text/plain": [
       "  gene.name baseMean   log2FoldChange lfcSE     stat       pvalue      \n",
       "1 TSPAN6     25.256745  1.30246882    0.4166710  3.1258926 1.772662e-03\n",
       "2 TNMD        0.288508 -0.05077872    0.4875003 -0.1041614 9.170413e-01\n",
       "3 DPM1      163.507773 -0.05502833    0.2492486 -0.2207769 8.252662e-01\n",
       "4 SCYL3     296.461713  0.27370099    0.1964251  1.3934117 1.634953e-01\n",
       "5 C1orf112  199.011986 -1.62012005    0.2833121 -5.7184998 1.070000e-08\n",
       "6 FGR       122.792530 -5.60936805    0.6378324 -8.7944226 1.440000e-18\n",
       "  padj        \n",
       "1 8.209295e-03\n",
       "2           NA\n",
       "3 9.144493e-01\n",
       "4 3.312390e-01\n",
       "5 1.590000e-07\n",
       "6 7.150000e-17"
      ]
     },
     "metadata": {},
     "output_type": "display_data"
    }
   ],
   "source": [
    "setwd(\"~/ABABhw/Unit1-module2-R/\")\n",
    "nav.d14 <- read.csv(\"NAV-D14_DEseq2.csv\")\n",
    "head(nav.d14)"
   ]
  },
  {
   "cell_type": "code",
   "execution_count": 5,
   "metadata": {},
   "outputs": [
    {
     "data": {
      "text/html": [
       "<table>\n",
       "<thead><tr><th></th><th scope=col>gene.name</th><th scope=col>baseMean</th><th scope=col>log2FoldChange</th><th scope=col>lfcSE</th><th scope=col>stat</th><th scope=col>pvalue</th><th scope=col>padj</th></tr></thead>\n",
       "<tbody>\n",
       "\t<tr><th scope=row>1</th><td>TSPAN6      </td><td> 25.25674   </td><td> 1.30246882 </td><td>0.4166710   </td><td> 3.12589265 </td><td>1.772662e-03</td><td>8.209295e-03</td></tr>\n",
       "\t<tr><th scope=row>3</th><td>DPM1        </td><td>163.50777   </td><td>-0.05502833 </td><td>0.2492486   </td><td>-0.22077688 </td><td>8.252662e-01</td><td>9.144493e-01</td></tr>\n",
       "\t<tr><th scope=row>4</th><td>SCYL3       </td><td>296.46171   </td><td> 0.27370099 </td><td>0.1964251   </td><td> 1.39341172 </td><td>1.634953e-01</td><td>3.312390e-01</td></tr>\n",
       "\t<tr><th scope=row>5</th><td>C1orf112    </td><td>199.01199   </td><td>-1.62012005 </td><td>0.2833121   </td><td>-5.71849983 </td><td>1.070000e-08</td><td>1.590000e-07</td></tr>\n",
       "\t<tr><th scope=row>6</th><td>FGR         </td><td>122.79253   </td><td>-5.60936805 </td><td>0.6378324   </td><td>-8.79442261 </td><td>1.440000e-18</td><td>7.150000e-17</td></tr>\n",
       "\t<tr><th scope=row>7</th><td>CFH         </td><td> 27.40522   </td><td>-0.05492040 </td><td>0.7307163   </td><td>-0.07515968 </td><td>9.400877e-01</td><td>9.742211e-01</td></tr>\n",
       "</tbody>\n",
       "</table>\n"
      ],
      "text/latex": [
       "\\begin{tabular}{r|lllllll}\n",
       "  & gene.name & baseMean & log2FoldChange & lfcSE & stat & pvalue & padj\\\\\n",
       "\\hline\n",
       "\t1 & TSPAN6       &  25.25674    &  1.30246882  & 0.4166710    &  3.12589265  & 1.772662e-03 & 8.209295e-03\\\\\n",
       "\t3 & DPM1         & 163.50777    & -0.05502833  & 0.2492486    & -0.22077688  & 8.252662e-01 & 9.144493e-01\\\\\n",
       "\t4 & SCYL3        & 296.46171    &  0.27370099  & 0.1964251    &  1.39341172  & 1.634953e-01 & 3.312390e-01\\\\\n",
       "\t5 & C1orf112     & 199.01199    & -1.62012005  & 0.2833121    & -5.71849983  & 1.070000e-08 & 1.590000e-07\\\\\n",
       "\t6 & FGR          & 122.79253    & -5.60936805  & 0.6378324    & -8.79442261  & 1.440000e-18 & 7.150000e-17\\\\\n",
       "\t7 & CFH          &  27.40522    & -0.05492040  & 0.7307163    & -0.07515968  & 9.400877e-01 & 9.742211e-01\\\\\n",
       "\\end{tabular}\n"
      ],
      "text/markdown": [
       "\n",
       "| <!--/--> | gene.name | baseMean | log2FoldChange | lfcSE | stat | pvalue | padj | \n",
       "|---|---|---|---|---|---|\n",
       "| 1 | TSPAN6       |  25.25674    |  1.30246882  | 0.4166710    |  3.12589265  | 1.772662e-03 | 8.209295e-03 | \n",
       "| 3 | DPM1         | 163.50777    | -0.05502833  | 0.2492486    | -0.22077688  | 8.252662e-01 | 9.144493e-01 | \n",
       "| 4 | SCYL3        | 296.46171    |  0.27370099  | 0.1964251    |  1.39341172  | 1.634953e-01 | 3.312390e-01 | \n",
       "| 5 | C1orf112     | 199.01199    | -1.62012005  | 0.2833121    | -5.71849983  | 1.070000e-08 | 1.590000e-07 | \n",
       "| 6 | FGR          | 122.79253    | -5.60936805  | 0.6378324    | -8.79442261  | 1.440000e-18 | 7.150000e-17 | \n",
       "| 7 | CFH          |  27.40522    | -0.05492040  | 0.7307163    | -0.07515968  | 9.400877e-01 | 9.742211e-01 | \n",
       "\n",
       "\n"
      ],
      "text/plain": [
       "  gene.name baseMean  log2FoldChange lfcSE     stat        pvalue      \n",
       "1 TSPAN6     25.25674  1.30246882    0.4166710  3.12589265 1.772662e-03\n",
       "3 DPM1      163.50777 -0.05502833    0.2492486 -0.22077688 8.252662e-01\n",
       "4 SCYL3     296.46171  0.27370099    0.1964251  1.39341172 1.634953e-01\n",
       "5 C1orf112  199.01199 -1.62012005    0.2833121 -5.71849983 1.070000e-08\n",
       "6 FGR       122.79253 -5.60936805    0.6378324 -8.79442261 1.440000e-18\n",
       "7 CFH        27.40522 -0.05492040    0.7307163 -0.07515968 9.400877e-01\n",
       "  padj        \n",
       "1 8.209295e-03\n",
       "3 9.144493e-01\n",
       "4 3.312390e-01\n",
       "5 1.590000e-07\n",
       "6 7.150000e-17\n",
       "7 9.742211e-01"
      ]
     },
     "metadata": {},
     "output_type": "display_data"
    }
   ],
   "source": [
    "# omit NA\n",
    "nav.d14.na <- nav.d14[complete.cases(nav.d14), ]\n",
    "head(nav.d14.na)"
   ]
  },
  {
   "cell_type": "code",
   "execution_count": 6,
   "metadata": {},
   "outputs": [
    {
     "data": {
      "text/html": [
       "<table>\n",
       "<thead><tr><th></th><th scope=col>gene.name</th><th scope=col>baseMean</th><th scope=col>log2FoldChange</th><th scope=col>lfcSE</th><th scope=col>stat</th><th scope=col>pvalue</th><th scope=col>padj</th></tr></thead>\n",
       "<tbody>\n",
       "\t<tr><th scope=row>469</th><td>TNFRSF1B  </td><td> 542.82545</td><td>-3.406411 </td><td>0.2267235 </td><td>-15.02452 </td><td>5.07e-51  </td><td>3.25e-48  </td></tr>\n",
       "\t<tr><th scope=row>394</th><td>CD74      </td><td>2666.66747</td><td>-3.133593 </td><td>0.2146900 </td><td>-14.59590 </td><td>2.98e-48  </td><td>1.54e-45  </td></tr>\n",
       "\t<tr><th scope=row>460</th><td>SLAMF7    </td><td> 796.08484</td><td>-5.924170 </td><td>0.4107372 </td><td>-14.42326 </td><td>3.69e-47  </td><td>1.85e-44  </td></tr>\n",
       "\t<tr><th scope=row>298</th><td>ANLN      </td><td>  86.61972</td><td>-4.292672 </td><td>0.3590313 </td><td>-11.95626 </td><td>6.02e-33  </td><td>1.02e-30  </td></tr>\n",
       "\t<tr><th scope=row>197</th><td>E2F2      </td><td>  56.39916</td><td>-5.011194 </td><td>0.4223203 </td><td>-11.86586 </td><td>1.78e-32  </td><td>2.95e-30  </td></tr>\n",
       "\t<tr><th scope=row>76</th><td>SLC25A5   </td><td> 839.58682</td><td>-1.630522 </td><td>0.1549378 </td><td>-10.52372 </td><td>6.72e-26  </td><td>6.58e-24  </td></tr>\n",
       "</tbody>\n",
       "</table>\n"
      ],
      "text/latex": [
       "\\begin{tabular}{r|lllllll}\n",
       "  & gene.name & baseMean & log2FoldChange & lfcSE & stat & pvalue & padj\\\\\n",
       "\\hline\n",
       "\t469 & TNFRSF1B   &  542.82545 & -3.406411  & 0.2267235  & -15.02452  & 5.07e-51   & 3.25e-48  \\\\\n",
       "\t394 & CD74       & 2666.66747 & -3.133593  & 0.2146900  & -14.59590  & 2.98e-48   & 1.54e-45  \\\\\n",
       "\t460 & SLAMF7     &  796.08484 & -5.924170  & 0.4107372  & -14.42326  & 3.69e-47   & 1.85e-44  \\\\\n",
       "\t298 & ANLN       &   86.61972 & -4.292672  & 0.3590313  & -11.95626  & 6.02e-33   & 1.02e-30  \\\\\n",
       "\t197 & E2F2       &   56.39916 & -5.011194  & 0.4223203  & -11.86586  & 1.78e-32   & 2.95e-30  \\\\\n",
       "\t76 & SLC25A5    &  839.58682 & -1.630522  & 0.1549378  & -10.52372  & 6.72e-26   & 6.58e-24  \\\\\n",
       "\\end{tabular}\n"
      ],
      "text/markdown": [
       "\n",
       "| <!--/--> | gene.name | baseMean | log2FoldChange | lfcSE | stat | pvalue | padj | \n",
       "|---|---|---|---|---|---|\n",
       "| 469 | TNFRSF1B   |  542.82545 | -3.406411  | 0.2267235  | -15.02452  | 5.07e-51   | 3.25e-48   | \n",
       "| 394 | CD74       | 2666.66747 | -3.133593  | 0.2146900  | -14.59590  | 2.98e-48   | 1.54e-45   | \n",
       "| 460 | SLAMF7     |  796.08484 | -5.924170  | 0.4107372  | -14.42326  | 3.69e-47   | 1.85e-44   | \n",
       "| 298 | ANLN       |   86.61972 | -4.292672  | 0.3590313  | -11.95626  | 6.02e-33   | 1.02e-30   | \n",
       "| 197 | E2F2       |   56.39916 | -5.011194  | 0.4223203  | -11.86586  | 1.78e-32   | 2.95e-30   | \n",
       "| 76 | SLC25A5    |  839.58682 | -1.630522  | 0.1549378  | -10.52372  | 6.72e-26   | 6.58e-24   | \n",
       "\n",
       "\n"
      ],
      "text/plain": [
       "    gene.name baseMean   log2FoldChange lfcSE     stat      pvalue   padj    \n",
       "469 TNFRSF1B   542.82545 -3.406411      0.2267235 -15.02452 5.07e-51 3.25e-48\n",
       "394 CD74      2666.66747 -3.133593      0.2146900 -14.59590 2.98e-48 1.54e-45\n",
       "460 SLAMF7     796.08484 -5.924170      0.4107372 -14.42326 3.69e-47 1.85e-44\n",
       "298 ANLN        86.61972 -4.292672      0.3590313 -11.95626 6.02e-33 1.02e-30\n",
       "197 E2F2        56.39916 -5.011194      0.4223203 -11.86586 1.78e-32 2.95e-30\n",
       "76  SLC25A5    839.58682 -1.630522      0.1549378 -10.52372 6.72e-26 6.58e-24"
      ]
     },
     "metadata": {},
     "output_type": "display_data"
    }
   ],
   "source": [
    "nav.d14.order <- nav.d14[order(nav.d14$padj),]\n",
    "head(nav.d14.order)"
   ]
  },
  {
   "cell_type": "markdown",
   "metadata": {},
   "source": [
    "### 2. Check the first 7 rows and last 8 rows of dataframe. Check the dimensions of the dataframe."
   ]
  },
  {
   "cell_type": "code",
   "execution_count": 7,
   "metadata": {},
   "outputs": [
    {
     "data": {
      "text/html": [
       "<table>\n",
       "<thead><tr><th scope=col>gene.name</th><th scope=col>baseMean</th><th scope=col>log2FoldChange</th><th scope=col>lfcSE</th><th scope=col>stat</th><th scope=col>pvalue</th><th scope=col>padj</th></tr></thead>\n",
       "<tbody>\n",
       "\t<tr><td>TSPAN6      </td><td> 25.256745  </td><td> 1.30246882 </td><td>0.4166710   </td><td> 3.12589265 </td><td>1.772662e-03</td><td>8.209295e-03</td></tr>\n",
       "\t<tr><td>TNMD        </td><td>  0.288508  </td><td>-0.05077872 </td><td>0.4875003   </td><td>-0.10416140 </td><td>9.170413e-01</td><td>          NA</td></tr>\n",
       "\t<tr><td>DPM1        </td><td>163.507773  </td><td>-0.05502833 </td><td>0.2492486   </td><td>-0.22077688 </td><td>8.252662e-01</td><td>9.144493e-01</td></tr>\n",
       "\t<tr><td>SCYL3       </td><td>296.461713  </td><td> 0.27370099 </td><td>0.1964251   </td><td> 1.39341172 </td><td>1.634953e-01</td><td>3.312390e-01</td></tr>\n",
       "\t<tr><td>C1orf112    </td><td>199.011986  </td><td>-1.62012005 </td><td>0.2833121   </td><td>-5.71849983 </td><td>1.070000e-08</td><td>1.590000e-07</td></tr>\n",
       "\t<tr><td>FGR         </td><td>122.792530  </td><td>-5.60936805 </td><td>0.6378324   </td><td>-8.79442261 </td><td>1.440000e-18</td><td>7.150000e-17</td></tr>\n",
       "\t<tr><td>CFH         </td><td> 27.405217  </td><td>-0.05492040 </td><td>0.7307163   </td><td>-0.07515968 </td><td>9.400877e-01</td><td>9.742211e-01</td></tr>\n",
       "</tbody>\n",
       "</table>\n"
      ],
      "text/latex": [
       "\\begin{tabular}{r|lllllll}\n",
       " gene.name & baseMean & log2FoldChange & lfcSE & stat & pvalue & padj\\\\\n",
       "\\hline\n",
       "\t TSPAN6       &  25.256745   &  1.30246882  & 0.4166710    &  3.12589265  & 1.772662e-03 & 8.209295e-03\\\\\n",
       "\t TNMD         &   0.288508   & -0.05077872  & 0.4875003    & -0.10416140  & 9.170413e-01 &           NA\\\\\n",
       "\t DPM1         & 163.507773   & -0.05502833  & 0.2492486    & -0.22077688  & 8.252662e-01 & 9.144493e-01\\\\\n",
       "\t SCYL3        & 296.461713   &  0.27370099  & 0.1964251    &  1.39341172  & 1.634953e-01 & 3.312390e-01\\\\\n",
       "\t C1orf112     & 199.011986   & -1.62012005  & 0.2833121    & -5.71849983  & 1.070000e-08 & 1.590000e-07\\\\\n",
       "\t FGR          & 122.792530   & -5.60936805  & 0.6378324    & -8.79442261  & 1.440000e-18 & 7.150000e-17\\\\\n",
       "\t CFH          &  27.405217   & -0.05492040  & 0.7307163    & -0.07515968  & 9.400877e-01 & 9.742211e-01\\\\\n",
       "\\end{tabular}\n"
      ],
      "text/markdown": [
       "\n",
       "gene.name | baseMean | log2FoldChange | lfcSE | stat | pvalue | padj | \n",
       "|---|---|---|---|---|---|---|\n",
       "| TSPAN6       |  25.256745   |  1.30246882  | 0.4166710    |  3.12589265  | 1.772662e-03 | 8.209295e-03 | \n",
       "| TNMD         |   0.288508   | -0.05077872  | 0.4875003    | -0.10416140  | 9.170413e-01 |           NA | \n",
       "| DPM1         | 163.507773   | -0.05502833  | 0.2492486    | -0.22077688  | 8.252662e-01 | 9.144493e-01 | \n",
       "| SCYL3        | 296.461713   |  0.27370099  | 0.1964251    |  1.39341172  | 1.634953e-01 | 3.312390e-01 | \n",
       "| C1orf112     | 199.011986   | -1.62012005  | 0.2833121    | -5.71849983  | 1.070000e-08 | 1.590000e-07 | \n",
       "| FGR          | 122.792530   | -5.60936805  | 0.6378324    | -8.79442261  | 1.440000e-18 | 7.150000e-17 | \n",
       "| CFH          |  27.405217   | -0.05492040  | 0.7307163    | -0.07515968  | 9.400877e-01 | 9.742211e-01 | \n",
       "\n",
       "\n"
      ],
      "text/plain": [
       "  gene.name baseMean   log2FoldChange lfcSE     stat        pvalue      \n",
       "1 TSPAN6     25.256745  1.30246882    0.4166710  3.12589265 1.772662e-03\n",
       "2 TNMD        0.288508 -0.05077872    0.4875003 -0.10416140 9.170413e-01\n",
       "3 DPM1      163.507773 -0.05502833    0.2492486 -0.22077688 8.252662e-01\n",
       "4 SCYL3     296.461713  0.27370099    0.1964251  1.39341172 1.634953e-01\n",
       "5 C1orf112  199.011986 -1.62012005    0.2833121 -5.71849983 1.070000e-08\n",
       "6 FGR       122.792530 -5.60936805    0.6378324 -8.79442261 1.440000e-18\n",
       "7 CFH        27.405217 -0.05492040    0.7307163 -0.07515968 9.400877e-01\n",
       "  padj        \n",
       "1 8.209295e-03\n",
       "2           NA\n",
       "3 9.144493e-01\n",
       "4 3.312390e-01\n",
       "5 1.590000e-07\n",
       "6 7.150000e-17\n",
       "7 9.742211e-01"
      ]
     },
     "metadata": {},
     "output_type": "display_data"
    },
    {
     "data": {
      "text/html": [
       "<table>\n",
       "<thead><tr><th></th><th scope=col>gene.name</th><th scope=col>baseMean</th><th scope=col>log2FoldChange</th><th scope=col>lfcSE</th><th scope=col>stat</th><th scope=col>pvalue</th><th scope=col>padj</th></tr></thead>\n",
       "<tbody>\n",
       "\t<tr><th scope=row>493</th><td>ARID4A     </td><td>1435.32399 </td><td> 0.04869732</td><td>0.1904170  </td><td> 0.2557404 </td><td>0.79815131 </td><td>0.901071201</td></tr>\n",
       "\t<tr><th scope=row>494</th><td>EIPR1      </td><td>  87.86504 </td><td>-0.95503525</td><td>0.2356304  </td><td>-4.0531067 </td><td>0.00005050 </td><td>0.000358293</td></tr>\n",
       "\t<tr><th scope=row>495</th><td>PNPLA6     </td><td> 146.41751 </td><td>-0.14635328</td><td>0.2900234  </td><td>-0.5046257 </td><td>0.61382175 </td><td>0.782170557</td></tr>\n",
       "\t<tr><th scope=row>496</th><td>IFT88      </td><td> 111.71539 </td><td> 0.60100567</td><td>0.3082850  </td><td> 1.9495130 </td><td>0.05123419 </td><td>0.136193820</td></tr>\n",
       "\t<tr><th scope=row>497</th><td>ALG1       </td><td>  72.37193 </td><td> 0.33922670</td><td>0.2449200  </td><td> 1.3850512 </td><td>0.16603683 </td><td>0.335217676</td></tr>\n",
       "\t<tr><th scope=row>498</th><td>ZCCHC8     </td><td> 270.00278 </td><td>-0.22916478</td><td>0.1966266  </td><td>-1.1654819 </td><td>0.24382397 </td><td>0.441891441</td></tr>\n",
       "\t<tr><th scope=row>499</th><td>ABCF2      </td><td> 288.47676 </td><td> 0.10264088</td><td>0.2711067  </td><td> 0.3785995 </td><td>0.70498528 </td><td>0.845654432</td></tr>\n",
       "\t<tr><th scope=row>500</th><td>CHPF2      </td><td> 171.74016 </td><td>-0.07133449</td><td>0.2608077  </td><td>-0.2735138 </td><td>0.78445831 </td><td>0.893661075</td></tr>\n",
       "</tbody>\n",
       "</table>\n"
      ],
      "text/latex": [
       "\\begin{tabular}{r|lllllll}\n",
       "  & gene.name & baseMean & log2FoldChange & lfcSE & stat & pvalue & padj\\\\\n",
       "\\hline\n",
       "\t493 & ARID4A      & 1435.32399  &  0.04869732 & 0.1904170   &  0.2557404  & 0.79815131  & 0.901071201\\\\\n",
       "\t494 & EIPR1       &   87.86504  & -0.95503525 & 0.2356304   & -4.0531067  & 0.00005050  & 0.000358293\\\\\n",
       "\t495 & PNPLA6      &  146.41751  & -0.14635328 & 0.2900234   & -0.5046257  & 0.61382175  & 0.782170557\\\\\n",
       "\t496 & IFT88       &  111.71539  &  0.60100567 & 0.3082850   &  1.9495130  & 0.05123419  & 0.136193820\\\\\n",
       "\t497 & ALG1        &   72.37193  &  0.33922670 & 0.2449200   &  1.3850512  & 0.16603683  & 0.335217676\\\\\n",
       "\t498 & ZCCHC8      &  270.00278  & -0.22916478 & 0.1966266   & -1.1654819  & 0.24382397  & 0.441891441\\\\\n",
       "\t499 & ABCF2       &  288.47676  &  0.10264088 & 0.2711067   &  0.3785995  & 0.70498528  & 0.845654432\\\\\n",
       "\t500 & CHPF2       &  171.74016  & -0.07133449 & 0.2608077   & -0.2735138  & 0.78445831  & 0.893661075\\\\\n",
       "\\end{tabular}\n"
      ],
      "text/markdown": [
       "\n",
       "| <!--/--> | gene.name | baseMean | log2FoldChange | lfcSE | stat | pvalue | padj | \n",
       "|---|---|---|---|---|---|---|---|\n",
       "| 493 | ARID4A      | 1435.32399  |  0.04869732 | 0.1904170   |  0.2557404  | 0.79815131  | 0.901071201 | \n",
       "| 494 | EIPR1       |   87.86504  | -0.95503525 | 0.2356304   | -4.0531067  | 0.00005050  | 0.000358293 | \n",
       "| 495 | PNPLA6      |  146.41751  | -0.14635328 | 0.2900234   | -0.5046257  | 0.61382175  | 0.782170557 | \n",
       "| 496 | IFT88       |  111.71539  |  0.60100567 | 0.3082850   |  1.9495130  | 0.05123419  | 0.136193820 | \n",
       "| 497 | ALG1        |   72.37193  |  0.33922670 | 0.2449200   |  1.3850512  | 0.16603683  | 0.335217676 | \n",
       "| 498 | ZCCHC8      |  270.00278  | -0.22916478 | 0.1966266   | -1.1654819  | 0.24382397  | 0.441891441 | \n",
       "| 499 | ABCF2       |  288.47676  |  0.10264088 | 0.2711067   |  0.3785995  | 0.70498528  | 0.845654432 | \n",
       "| 500 | CHPF2       |  171.74016  | -0.07133449 | 0.2608077   | -0.2735138  | 0.78445831  | 0.893661075 | \n",
       "\n",
       "\n"
      ],
      "text/plain": [
       "    gene.name baseMean   log2FoldChange lfcSE     stat       pvalue    \n",
       "493 ARID4A    1435.32399  0.04869732    0.1904170  0.2557404 0.79815131\n",
       "494 EIPR1       87.86504 -0.95503525    0.2356304 -4.0531067 0.00005050\n",
       "495 PNPLA6     146.41751 -0.14635328    0.2900234 -0.5046257 0.61382175\n",
       "496 IFT88      111.71539  0.60100567    0.3082850  1.9495130 0.05123419\n",
       "497 ALG1        72.37193  0.33922670    0.2449200  1.3850512 0.16603683\n",
       "498 ZCCHC8     270.00278 -0.22916478    0.1966266 -1.1654819 0.24382397\n",
       "499 ABCF2      288.47676  0.10264088    0.2711067  0.3785995 0.70498528\n",
       "500 CHPF2      171.74016 -0.07133449    0.2608077 -0.2735138 0.78445831\n",
       "    padj       \n",
       "493 0.901071201\n",
       "494 0.000358293\n",
       "495 0.782170557\n",
       "496 0.136193820\n",
       "497 0.335217676\n",
       "498 0.441891441\n",
       "499 0.845654432\n",
       "500 0.893661075"
      ]
     },
     "metadata": {},
     "output_type": "display_data"
    },
    {
     "data": {
      "text/html": [
       "<ol class=list-inline>\n",
       "\t<li>500</li>\n",
       "\t<li>7</li>\n",
       "</ol>\n"
      ],
      "text/latex": [
       "\\begin{enumerate*}\n",
       "\\item 500\n",
       "\\item 7\n",
       "\\end{enumerate*}\n"
      ],
      "text/markdown": [
       "1. 500\n",
       "2. 7\n",
       "\n",
       "\n"
      ],
      "text/plain": [
       "[1] 500   7"
      ]
     },
     "metadata": {},
     "output_type": "display_data"
    }
   ],
   "source": [
    "head(nav.d14, n=7)\n",
    "tail(nav.d14, n=8)\n",
    "dim(nav.d14)"
   ]
  },
  {
   "cell_type": "markdown",
   "metadata": {},
   "source": [
    "### 3. Create a self defined function that evaluate p-value, use lappy to apply function to all the pvalues, and use summarize p-value types."
   ]
  },
  {
   "cell_type": "code",
   "execution_count": 8,
   "metadata": {},
   "outputs": [],
   "source": [
    "# p-value types\n",
    "# p > 0.05: n.s.\n",
    "# 0.05 >= p > 0.01: *\n",
    "# 0.01 >= p > 0.001: **\n",
    "# 0.001 >= p > 0.0001: ***\n",
    "# 0.0001 >= p: ****\n",
    "pType <- function(p.val) {\n",
    "    if (is.na(p.val)) {\n",
    "        return(NA)\n",
    "    }\n",
    "    else if(p.val > 0.05) {\n",
    "        return(\"n.s.\")\n",
    "    }\n",
    "    else if(p.val > 0.01) {\n",
    "        return(\"*\")\n",
    "    }\n",
    "    else if(p.val > 0.001) {\n",
    "        return(\"**\")\n",
    "    }\n",
    "    else if(p.val > 0.0001) {\n",
    "        return(\"***\")\n",
    "    }\n",
    "    else {\n",
    "        return(\"****\")\n",
    "    }\n",
    "}"
   ]
  },
  {
   "cell_type": "code",
   "execution_count": 9,
   "metadata": {},
   "outputs": [
    {
     "data": {
      "text/html": [
       "<dl class=dl-horizontal>\n",
       "\t<dt>*</dt>\n",
       "\t\t<dd>37</dd>\n",
       "\t<dt>**</dt>\n",
       "\t\t<dd>34</dd>\n",
       "\t<dt>***</dt>\n",
       "\t\t<dd>25</dd>\n",
       "\t<dt>****</dt>\n",
       "\t\t<dd>93</dd>\n",
       "\t<dt>n.s.</dt>\n",
       "\t\t<dd>306</dd>\n",
       "\t<dt>NA's</dt>\n",
       "\t\t<dd>5</dd>\n",
       "</dl>\n"
      ],
      "text/latex": [
       "\\begin{description*}\n",
       "\\item[*] 37\n",
       "\\item[**] 34\n",
       "\\item[***] 25\n",
       "\\item[****] 93\n",
       "\\item[n.s.] 306\n",
       "\\item[NA's] 5\n",
       "\\end{description*}\n"
      ],
      "text/markdown": [
       "*\n",
       ":   37**\n",
       ":   34***\n",
       ":   25****\n",
       ":   93n.s.\n",
       ":   306NA's\n",
       ":   5\n",
       "\n"
      ],
      "text/plain": [
       "   *   **  *** **** n.s. NA's \n",
       "  37   34   25   93  306    5 "
      ]
     },
     "metadata": {},
     "output_type": "display_data"
    }
   ],
   "source": [
    "nav.d14.ptype <- lapply(nav.d14$pvalue, pType)\n",
    "nav.d14.ptype <- factor(unlist(nav.d14.ptype))\n",
    "summary(nav.d14.ptype)"
   ]
  },
  {
   "cell_type": "markdown",
   "metadata": {},
   "source": [
    "### 4. Add list of p-value type to dataframe, subset dataframe to exclude p-value that is not significant, and write the dataframe into a csv file."
   ]
  },
  {
   "cell_type": "code",
   "execution_count": 7,
   "metadata": {},
   "outputs": [
    {
     "data": {
      "text/html": [
       "<table>\n",
       "<thead><tr><th></th><th scope=col>gene.name</th><th scope=col>baseMean</th><th scope=col>log2FoldChange</th><th scope=col>lfcSE</th><th scope=col>stat</th><th scope=col>pvalue</th><th scope=col>padj</th><th scope=col>nav.d14.ptype</th></tr></thead>\n",
       "<tbody>\n",
       "\t<tr><th scope=row>469</th><td>TNFRSF1B  </td><td> 542.82545</td><td>-3.406411 </td><td>0.2267235 </td><td>-15.02452 </td><td>5.07e-51  </td><td>3.25e-48  </td><td>****      </td></tr>\n",
       "\t<tr><th scope=row>394</th><td>CD74      </td><td>2666.66747</td><td>-3.133593 </td><td>0.2146900 </td><td>-14.59590 </td><td>2.98e-48  </td><td>1.54e-45  </td><td>****      </td></tr>\n",
       "\t<tr><th scope=row>460</th><td>SLAMF7    </td><td> 796.08484</td><td>-5.924170 </td><td>0.4107372 </td><td>-14.42326 </td><td>3.69e-47  </td><td>1.85e-44  </td><td>****      </td></tr>\n",
       "\t<tr><th scope=row>298</th><td>ANLN      </td><td>  86.61972</td><td>-4.292672 </td><td>0.3590313 </td><td>-11.95626 </td><td>6.02e-33  </td><td>1.02e-30  </td><td>****      </td></tr>\n",
       "\t<tr><th scope=row>197</th><td>E2F2      </td><td>  56.39916</td><td>-5.011194 </td><td>0.4223203 </td><td>-11.86586 </td><td>1.78e-32  </td><td>2.95e-30  </td><td>****      </td></tr>\n",
       "\t<tr><th scope=row>76</th><td>SLC25A5   </td><td> 839.58682</td><td>-1.630522 </td><td>0.1549378 </td><td>-10.52372 </td><td>6.72e-26  </td><td>6.58e-24  </td><td>****      </td></tr>\n",
       "</tbody>\n",
       "</table>\n"
      ],
      "text/latex": [
       "\\begin{tabular}{r|llllllll}\n",
       "  & gene.name & baseMean & log2FoldChange & lfcSE & stat & pvalue & padj & nav.d14.ptype\\\\\n",
       "\\hline\n",
       "\t469 & TNFRSF1B   &  542.82545 & -3.406411  & 0.2267235  & -15.02452  & 5.07e-51   & 3.25e-48   & ****      \\\\\n",
       "\t394 & CD74       & 2666.66747 & -3.133593  & 0.2146900  & -14.59590  & 2.98e-48   & 1.54e-45   & ****      \\\\\n",
       "\t460 & SLAMF7     &  796.08484 & -5.924170  & 0.4107372  & -14.42326  & 3.69e-47   & 1.85e-44   & ****      \\\\\n",
       "\t298 & ANLN       &   86.61972 & -4.292672  & 0.3590313  & -11.95626  & 6.02e-33   & 1.02e-30   & ****      \\\\\n",
       "\t197 & E2F2       &   56.39916 & -5.011194  & 0.4223203  & -11.86586  & 1.78e-32   & 2.95e-30   & ****      \\\\\n",
       "\t76 & SLC25A5    &  839.58682 & -1.630522  & 0.1549378  & -10.52372  & 6.72e-26   & 6.58e-24   & ****      \\\\\n",
       "\\end{tabular}\n"
      ],
      "text/markdown": [
       "\n",
       "| <!--/--> | gene.name | baseMean | log2FoldChange | lfcSE | stat | pvalue | padj | nav.d14.ptype | \n",
       "|---|---|---|---|---|---|\n",
       "| 469 | TNFRSF1B   |  542.82545 | -3.406411  | 0.2267235  | -15.02452  | 5.07e-51   | 3.25e-48   | ****       | \n",
       "| 394 | CD74       | 2666.66747 | -3.133593  | 0.2146900  | -14.59590  | 2.98e-48   | 1.54e-45   | ****       | \n",
       "| 460 | SLAMF7     |  796.08484 | -5.924170  | 0.4107372  | -14.42326  | 3.69e-47   | 1.85e-44   | ****       | \n",
       "| 298 | ANLN       |   86.61972 | -4.292672  | 0.3590313  | -11.95626  | 6.02e-33   | 1.02e-30   | ****       | \n",
       "| 197 | E2F2       |   56.39916 | -5.011194  | 0.4223203  | -11.86586  | 1.78e-32   | 2.95e-30   | ****       | \n",
       "| 76 | SLC25A5    |  839.58682 | -1.630522  | 0.1549378  | -10.52372  | 6.72e-26   | 6.58e-24   | ****       | \n",
       "\n",
       "\n"
      ],
      "text/plain": [
       "    gene.name baseMean   log2FoldChange lfcSE     stat      pvalue   padj    \n",
       "469 TNFRSF1B   542.82545 -3.406411      0.2267235 -15.02452 5.07e-51 3.25e-48\n",
       "394 CD74      2666.66747 -3.133593      0.2146900 -14.59590 2.98e-48 1.54e-45\n",
       "460 SLAMF7     796.08484 -5.924170      0.4107372 -14.42326 3.69e-47 1.85e-44\n",
       "298 ANLN        86.61972 -4.292672      0.3590313 -11.95626 6.02e-33 1.02e-30\n",
       "197 E2F2        56.39916 -5.011194      0.4223203 -11.86586 1.78e-32 2.95e-30\n",
       "76  SLC25A5    839.58682 -1.630522      0.1549378 -10.52372 6.72e-26 6.58e-24\n",
       "    nav.d14.ptype\n",
       "469 ****         \n",
       "394 ****         \n",
       "460 ****         \n",
       "298 ****         \n",
       "197 ****         \n",
       "76  ****         "
      ]
     },
     "metadata": {},
     "output_type": "display_data"
    }
   ],
   "source": [
    "nav.d14 <- cbind(nav.d14, nav.d14.ptype)\n",
    "head(nav.d14)"
   ]
  },
  {
   "cell_type": "code",
   "execution_count": 9,
   "metadata": {},
   "outputs": [
    {
     "data": {
      "text/html": [
       "<ol class=list-inline>\n",
       "\t<li>500</li>\n",
       "\t<li>8</li>\n",
       "</ol>\n"
      ],
      "text/latex": [
       "\\begin{enumerate*}\n",
       "\\item 500\n",
       "\\item 8\n",
       "\\end{enumerate*}\n"
      ],
      "text/markdown": [
       "1. 500\n",
       "2. 8\n",
       "\n",
       "\n"
      ],
      "text/plain": [
       "[1] 500   8"
      ]
     },
     "metadata": {},
     "output_type": "display_data"
    },
    {
     "data": {
      "text/html": [
       "<ol class=list-inline>\n",
       "\t<li>189</li>\n",
       "\t<li>8</li>\n",
       "</ol>\n"
      ],
      "text/latex": [
       "\\begin{enumerate*}\n",
       "\\item 189\n",
       "\\item 8\n",
       "\\end{enumerate*}\n"
      ],
      "text/markdown": [
       "1. 189\n",
       "2. 8\n",
       "\n",
       "\n"
      ],
      "text/plain": [
       "[1] 189   8"
      ]
     },
     "metadata": {},
     "output_type": "display_data"
    }
   ],
   "source": [
    "nav.d14.sig <- subset(nav.d14, nav.d14.ptype != \"n.s.\")\n",
    "dim(nav.d14)\n",
    "dim(nav.d14.sig)"
   ]
  },
  {
   "cell_type": "code",
   "execution_count": 10,
   "metadata": {
    "collapsed": true
   },
   "outputs": [],
   "source": [
    "write.table(nav.d14.sig, row.names=FALSE, \"nav.d14.sig.csv\", sep=\",\")"
   ]
  },
  {
   "cell_type": "code",
   "execution_count": null,
   "metadata": {
    "collapsed": true
   },
   "outputs": [],
   "source": []
  }
 ],
 "metadata": {
  "kernelspec": {
   "display_name": "R",
   "language": "R",
   "name": "ir"
  },
  "language_info": {
   "codemirror_mode": "r",
   "file_extension": ".r",
   "mimetype": "text/x-r-source",
   "name": "R",
   "pygments_lexer": "r",
   "version": "3.5.1"
  }
 },
 "nbformat": 4,
 "nbformat_minor": 2
}
