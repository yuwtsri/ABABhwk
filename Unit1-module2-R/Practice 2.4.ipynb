{
 "cells": [
  {
   "cell_type": "markdown",
   "metadata": {},
   "source": [
    "For a certain input vector, determine if it is a numeric vector. If it is, then calculate the sum of the vector, print the sum.\n",
    "- is.numeric()    Determine if the vector is numeric\n",
    "- sum()    Calculate the sum of the vector"
   ]
  },
  {
   "cell_type": "code",
   "execution_count": 8,
   "metadata": {},
   "outputs": [
    {
     "name": "stdout",
     "output_type": "stream",
     "text": [
      "[1] 6\n"
     ]
    }
   ],
   "source": [
    "vec <- c(1, 2, 3)\n",
    "if (is.numeric(vec)==TRUE){\n",
    "    print(sum(vec))\n",
    "}else{\n",
    "    print(\"Not a numeric vector\")\n",
    "}"
   ]
  },
  {
   "cell_type": "markdown",
   "metadata": {},
   "source": [
    "Define a function that generate random integer ranging from 1:10, until you get 5 or you reached 1000 times. Return how many times you generated the random number till you got 5. If you didn’t get 5 in 1000 times, return FALSE. \n",
    "- sample(1:10, 1)   Generate random integer between 1 and 10\n"
   ]
  },
  {
   "cell_type": "code",
   "execution_count": 25,
   "metadata": {},
   "outputs": [
    {
     "name": "stdout",
     "output_type": "stream",
     "text": [
      "[1] 13\n"
     ]
    }
   ],
   "source": [
    "for (i in c(1:1000)){\n",
    "    t <- sample(1:10,1)\n",
    "    if (t==5){\n",
    "        print(i)\n",
    "        break\n",
    "    }else if((i==1000)&(t!=5)){\n",
    "        FALSE\n",
    "    }\n",
    "}"
   ]
  },
  {
   "cell_type": "markdown",
   "metadata": {},
   "source": [
    "Calculate 20 fibonacci numbers with the use of a while loop and print them.\n",
    "- Fibonacci numbers: 1, 1, 2, 3, 5 …\n"
   ]
  },
  {
   "cell_type": "code",
   "execution_count": 24,
   "metadata": {},
   "outputs": [
    {
     "data": {
      "text/html": [
       "<ol class=list-inline>\n",
       "\t<li>1</li>\n",
       "\t<li>1</li>\n",
       "\t<li>2</li>\n",
       "\t<li>3</li>\n",
       "\t<li>5</li>\n",
       "\t<li>8</li>\n",
       "\t<li>13</li>\n",
       "\t<li>21</li>\n",
       "\t<li>34</li>\n",
       "\t<li>55</li>\n",
       "\t<li>89</li>\n",
       "\t<li>144</li>\n",
       "\t<li>233</li>\n",
       "\t<li>377</li>\n",
       "\t<li>610</li>\n",
       "\t<li>987</li>\n",
       "\t<li>1597</li>\n",
       "\t<li>2584</li>\n",
       "\t<li>4181</li>\n",
       "\t<li>6765</li>\n",
       "</ol>\n"
      ],
      "text/latex": [
       "\\begin{enumerate*}\n",
       "\\item 1\n",
       "\\item 1\n",
       "\\item 2\n",
       "\\item 3\n",
       "\\item 5\n",
       "\\item 8\n",
       "\\item 13\n",
       "\\item 21\n",
       "\\item 34\n",
       "\\item 55\n",
       "\\item 89\n",
       "\\item 144\n",
       "\\item 233\n",
       "\\item 377\n",
       "\\item 610\n",
       "\\item 987\n",
       "\\item 1597\n",
       "\\item 2584\n",
       "\\item 4181\n",
       "\\item 6765\n",
       "\\end{enumerate*}\n"
      ],
      "text/markdown": [
       "1. 1\n",
       "2. 1\n",
       "3. 2\n",
       "4. 3\n",
       "5. 5\n",
       "6. 8\n",
       "7. 13\n",
       "8. 21\n",
       "9. 34\n",
       "10. 55\n",
       "11. 89\n",
       "12. 144\n",
       "13. 233\n",
       "14. 377\n",
       "15. 610\n",
       "16. 987\n",
       "17. 1597\n",
       "18. 2584\n",
       "19. 4181\n",
       "20. 6765\n",
       "\n",
       "\n"
      ],
      "text/plain": [
       " [1]    1    1    2    3    5    8   13   21   34   55   89  144  233  377  610\n",
       "[16]  987 1597 2584 4181 6765"
      ]
     },
     "metadata": {},
     "output_type": "display_data"
    }
   ],
   "source": [
    "v <- c(1,1)\n",
    "i<-3\n",
    "while (i < 21){\n",
    "    v[i] = v[i-2]+v[i-1]\n",
    "    i=i+1\n",
    "}\n",
    "v"
   ]
  },
  {
   "cell_type": "code",
   "execution_count": null,
   "metadata": {},
   "outputs": [],
   "source": []
  }
 ],
 "metadata": {
  "kernelspec": {
   "display_name": "R",
   "language": "R",
   "name": "ir"
  },
  "language_info": {
   "codemirror_mode": "r",
   "file_extension": ".r",
   "mimetype": "text/x-r-source",
   "name": "R",
   "pygments_lexer": "r",
   "version": "3.5.1"
  }
 },
 "nbformat": 4,
 "nbformat_minor": 2
}
