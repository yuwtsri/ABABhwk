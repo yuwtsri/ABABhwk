{
 "cells": [
  {
   "cell_type": "markdown",
   "metadata": {},
   "source": [
    "# 1.5 Redirection and pipes\n",
    "\n",
    "This notebook will demonstrate how to use redirection and pipes to store the outputs of a command in a file and/or to chain commands in a sequence."
   ]
  },
  {
   "cell_type": "markdown",
   "metadata": {},
   "source": [
    "#### How many txt files are in `data/tmp`?\n",
    "```\n",
    "%%bash\n",
    "ls data/tmp/*.txt | wc -l\n",
    "```"
   ]
  },
  {
   "cell_type": "code",
   "execution_count": 1,
   "metadata": {},
   "outputs": [
    {
     "name": "stdout",
     "output_type": "stream",
     "text": [
      "191\n"
     ]
    }
   ],
   "source": [
    "%%bash\n",
    "ls data/tmp/*.txt | wc -l"
   ]
  },
  {
   "cell_type": "markdown",
   "metadata": {},
   "source": [
    "#### save list of txt files in `data/tmp` to a file list, and append the list of files in `data/art`.\n",
    "Find and correct the error...\n",
    "```\n",
    "%%bash\n",
    "ls data/tmp/*.txt > file_list.txt\n",
    "ls data/art > file_list.txt\n",
    "```"
   ]
  },
  {
   "cell_type": "code",
   "execution_count": 3,
   "metadata": {},
   "outputs": [],
   "source": [
    "%%bash\n",
    "ls data/tmp/*.txt > file_list.txt"
   ]
  },
  {
   "cell_type": "code",
   "execution_count": 5,
   "metadata": {},
   "outputs": [],
   "source": [
    "%%bash\n",
    "ls data/art > file_list2.txt"
   ]
  },
  {
   "cell_type": "markdown",
   "metadata": {},
   "source": [
    "#### Count the number of painters in `artists.txt` after filtering out the French painters\n",
    "```\n",
    "%%bash\n",
    "grep painter data/art/artists.txt | grep -v 'French painter' | wc -l\n",
    "```"
   ]
  },
  {
   "cell_type": "code",
   "execution_count": 7,
   "metadata": {},
   "outputs": [
    {
     "name": "stdout",
     "output_type": "stream",
     "text": [
      "89\n"
     ]
    }
   ],
   "source": [
    "%%bash\n",
    "grep painter data/art/artists.txt | grep -v 'French painter' | wc -l"
   ]
  },
  {
   "cell_type": "markdown",
   "metadata": {},
   "source": [
    "## Homework"
   ]
  },
  {
   "cell_type": "markdown",
   "metadata": {},
   "source": [
    "### HW1: Count the number of Dutch artists that are not from Amsterdam."
   ]
  },
  {
   "cell_type": "code",
   "execution_count": 12,
   "metadata": {},
   "outputs": [
    {
     "name": "stdout",
     "output_type": "stream",
     "text": [
      "19\n"
     ]
    }
   ],
   "source": [
    "%%bash\n",
    "grep painter data/art/artists.txt | grep -i 'Dutch painter' | grep -v 'Amsterdam' | wc -l"
   ]
  },
  {
   "cell_type": "markdown",
   "metadata": {},
   "source": [
    "### HW2: Sort the Italian painters in `artists.txt` by last name."
   ]
  },
  {
   "cell_type": "code",
   "execution_count": 14,
   "metadata": {},
   "outputs": [
    {
     "name": "stdout",
     "output_type": "stream",
     "text": [
      "ABBATE, Niccolò dell'\t(1509-1571)\tMannerism\tItalian painter (Bologna)\n",
      "ABBATI, Giuseppe\t(1836-1868)\tRealism\tItalian painter\n",
      "ABBATINI, Guido Ubaldo\t(c. 1602-1656)\tBaroque\tItalian painter (Rome)\n",
      "ADEMOLLO, Luigi\t(1764-1849)\tNeoclassicism\tItalian painter (Florence)\n",
      "ALBA, Macrino d'\t(c. 1460-c. 1528)\tEarly Renaissance\tItalian painter (Alba)\n",
      "ALBANI, Francesco\t(1578-1660)\tBaroque\tItalian painter (Bologna)\n",
      "ALBEREGNO, Jacobello\t(died before1397)\tMedieval\tItalian painter (Venice)\n",
      "ALBERTI, Antonio\t(c. 1390-c. 1442)\tEarly Renaissance\tItalian painter (Urbino)\n",
      "ALBERTI, Cherubino\t(1553-1615)\tMannerism\tItalian painter (Rome)\n",
      "ALBERTI, Giovanni\t(1558-1601)\tMannerism\tItalian painter (Rome)\n",
      "ALBERTINELLI, Mariotto\t(1474-1515)\tEarly Renaissance\tItalian painter (Florence)\n",
      "TADDEO DI BARTOLO\t(1362/63-1422)\tMedieval\tItalian painter (Siena)\n",
      "TAMAGNI, Vincenzo\t(1492-1530)\tHigh Renaissance\tItalian painter (San Gimignano)\n",
      "TANZIO DA VARALLO\t(c. 1580-c. 1632)\tBaroque\tItalian painter\n",
      "TARCHIANI, Filippo\t(1576-1645)\tBaroque\tItalian painter (Florence)\n",
      "TARUFFI, Emilio\t(1633-1696)\tBaroque\tItalian painter (Bologna)\n",
      "TASSI, Agostino\t(1578-1644)\tBaroque\tItalian painter (Rome)\n",
      "TEDESCO, Carlo (see SFERINI, Carlo Leopoldo)\t(1652-1698)\tBaroque\tItalian painter (Verona)\n",
      "TEDESCO, Giovanni Paolo (see SCHOR, Johann Paul)\t(1615-1674)\tBaroque\tItalian painter (Rome)\n",
      "TEMPESTA, Antonio\t(1555-1630)\tBaroque\tItalian painter (Florence)\n",
      "TERRENI, Giuseppe Maria\t(1739-1811)\tNeoclassicism\tItalian painter (Livorno)\n",
      "TERZIO, Francesco\t(c. 1523-1591)\tMannerism\tItalian painter (Vienna)\n",
      "TESTA, Pietro\t(1611-1650)\tBaroque\tItalian painter (Rome)\n"
     ]
    }
   ],
   "source": [
    "%%bash\n",
    "grep painter data/art/artists.txt | grep -i 'Italian painter' | sort -k1"
   ]
  },
  {
   "cell_type": "markdown",
   "metadata": {},
   "source": [
    "### HW3: Count how many Italian sculptors are *either* from the Medieval period or the Baroque period."
   ]
  },
  {
   "cell_type": "code",
   "execution_count": 17,
   "metadata": {},
   "outputs": [
    {
     "name": "stdout",
     "output_type": "stream",
     "text": [
      "TACCA, Ferdinando\t(1619-c. 1688)\tBaroque\tItalian sculptor (Florence)\n",
      "TACCA, Pietro\t(1577-1640)\tBaroque\tItalian sculptor (Florence)\n",
      "TERILLI, Francesco\t(active 1610-1630)\tBaroque\tItalian sculptor (Feltre)\n",
      "AGNOLO DA SIENA (see AGNOLO DI VENTURA)\t(active 1311-1349)\tMedieval\tItalian sculptor (Siena)\n",
      "AGNOLO DI VENTURA\t(active 1311-1349)\tMedieval\tItalian sculptor (Siena)\n",
      "AGOSTINO DI GIOVANNI\t(active 1310-1347)\tMedieval\tItalian sculptor (Siena)\n"
     ]
    }
   ],
   "source": [
    "%%bash\n",
    "grep sculptor data/art/artists.txt | grep \"Italian sculptor\" | grep -E \"Medieval|Baroque\""
   ]
  },
  {
   "cell_type": "code",
   "execution_count": null,
   "metadata": {},
   "outputs": [],
   "source": []
  }
 ],
 "metadata": {
  "kernelspec": {
   "display_name": "Python 3",
   "language": "python",
   "name": "python3"
  },
  "language_info": {
   "codemirror_mode": {
    "name": "ipython",
    "version": 3
   },
   "file_extension": ".py",
   "mimetype": "text/x-python",
   "name": "python",
   "nbconvert_exporter": "python",
   "pygments_lexer": "ipython3",
   "version": "3.5.2"
  }
 },
 "nbformat": 4,
 "nbformat_minor": 2
}
