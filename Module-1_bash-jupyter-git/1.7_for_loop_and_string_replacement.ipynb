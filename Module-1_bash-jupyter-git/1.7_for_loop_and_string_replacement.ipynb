{
 "cells": [
  {
   "cell_type": "markdown",
   "metadata": {},
   "source": [
    "## For\n",
    "\n",
    "```\n",
    "for i in {1..10}\n",
    "do\n",
    "echo $i\n",
    "done\n",
    "```\n",
    "\n",
    "## Loop through files using ls\n",
    "\n",
    "ls - lists all files and directories\n",
    "\n",
    "```\n",
    "for i in $(ls data/fastq/)\n",
    "do\n",
    "echo $i\n",
    "done\n",
    "```\n",
    "\n",
    "## String Replacement\n",
    "\n",
    "```\n",
    "a=\"helloworld\"\n",
    "echo $a\n",
    "echo ${a/world/foo}\n",
    "```\n",
    "\n",
    "## For loop to rename files\n",
    "\n",
    "```\n",
    "cd data/fastq\n",
    "for i in $(ls)\n",
    "do\n",
    "mv $i ${i/.fq/.fastq}\n",
    "done\n",
    "\n",
    "ls #See if files have been renamed\n",
    "```\n",
    "\n",
    "## Homework\n",
    "\n",
    "#### HW1: Print first 10 alphabets each in a new line\n",
    "\n",
    "#### HW2: Print first 10 multiples of 42 \n",
    "Tip: Use this syntax `echo $((2*2))` to evaluate numerical expressions.\n",
    "\n",
    "#### HW3: Find the error in the program below. It is supposed to print the first 10 alphabets\n",
    "\n",
    "```\n",
    "for i in {a.,j}\n",
    "do\n",
    "echo $i\n",
    "done\n",
    "```\n",
    "\n",
    "#### HW4(Bonus): Print only odd numbers till 10\n",
    "\n"
   ]
  }
 ],
 "metadata": {
  "kernelspec": {
   "display_name": "Python 3",
   "language": "python",
   "name": "python3"
  },
  "language_info": {
   "codemirror_mode": {
    "name": "ipython",
    "version": 3
   },
   "file_extension": ".py",
   "mimetype": "text/x-python",
   "name": "python",
   "nbconvert_exporter": "python",
   "pygments_lexer": "ipython3",
   "version": "3.6.6"
  }
 },
 "nbformat": 4,
 "nbformat_minor": 2
}
