{
 "cells": [
  {
   "cell_type": "markdown",
   "metadata": {},
   "source": [
    "# 1.4 Working with files in bash\n",
    "\n",
    "\n",
    "This notebook will extend your knowledge of commonly-used bash commands, specifically in the area of inspecting and manipulating files."
   ]
  },
  {
   "cell_type": "markdown",
   "metadata": {},
   "source": [
    "#### How many lines are there in `artists.txt`? \n",
    "\n",
    "```\n",
    "%%bash\n",
    "cd data/art\n",
    "wc -l artists.txt\n",
    "```"
   ]
  },
  {
   "cell_type": "code",
   "execution_count": 1,
   "metadata": {},
   "outputs": [
    {
     "name": "stdout",
     "output_type": "stream",
     "text": [
      "149 artists.txt\n"
     ]
    }
   ],
   "source": [
    "%%bash\n",
    "cd data/art\n",
    "wc -l artists.txt"
   ]
  },
  {
   "cell_type": "markdown",
   "metadata": {},
   "source": [
    "#### Print the top 15 lines of artists.txt\n",
    "Find and correct the error...\n",
    "```\n",
    "%%bash\n",
    "cd data/art\n",
    "head artists.txt\n",
    "```"
   ]
  },
  {
   "cell_type": "code",
   "execution_count": 2,
   "metadata": {},
   "outputs": [
    {
     "name": "stdout",
     "output_type": "stream",
     "text": [
      "KILIAN, Wolfgang\t(1581-1662)\tBaroque\tGerman graphic artist (Augsburg)\n",
      "KINSOEN, François-Joseph\t(1771-1839)\tRomanticism\tFlemish painter\n",
      "KISS, August Karl Edouard\t(1802-1865)\tRomanticism\tGerman sculptor\n",
      "KISS, Bálint\t(1802-1868)\tRomanticism\tHungarian painter (Pest)\n",
      "KLEINER, Salomon\t(1703-1761)\tBaroque\tGerman graphic artist\n",
      "KLENZE, Leo von\t(1784-1864)\tRomanticism\tGerman architect\n",
      "KLESECKER, Justus (see GLESKER, Justus)\t(c. 1615-1678)\tBaroque\tGerman sculptor (Franconia)\n",
      "KLINGER, Max\t(1857-1920)\tRealism\tGerman painter\n",
      "KLOCKER, Hans\t(active 1478-1500l)\tNorthern Renaissance\tAustrian sculptor (South Tyrol)\n",
      "KLODT, Mikhail Konstantinovich\t(c. 1832-1902)\tRealism\tRussian painter (St. Petersburg)\n",
      "KLODT, Pyotr Karlovich\t(1805-1867)\tRomanticism\tRussian sculptor (St. Petersburg)\n",
      "TACCA, Ferdinando\t(1619-c. 1688)\tBaroque\tItalian sculptor (Florence)\n",
      "TACCA, Pietro\t(1577-1640)\tBaroque\tItalian sculptor (Florence)\n",
      "TACCONE, Paolo (see PAOLO ROMANO)\t(c. 1415-c. 1470)\tEarly Renaissance\tItalian sculptor (Rome)\n",
      "TADDEO DI BARTOLO\t(1362/63-1422)\tMedieval\tItalian painter (Siena)\n"
     ]
    }
   ],
   "source": [
    "%%bash\n",
    "cd data/art\n",
    "head -15 artists.txt"
   ]
  },
  {
   "cell_type": "markdown",
   "metadata": {},
   "source": [
    "#### Now print the bottom 15 lines of artists.txt\n",
    "Do it without the code prompt"
   ]
  },
  {
   "cell_type": "code",
   "execution_count": 3,
   "metadata": {},
   "outputs": [
    {
     "name": "stdout",
     "output_type": "stream",
     "text": [
      "AGOSTINO DI GIOVANNI\t(active 1310-1347)\tMedieval\tItalian sculptor (Siena)\n",
      "AGOSTINO VENEZIANO (see MUSI, Agostino dei)\t(c. 1490-c. 1536)\tHigh Renaissance\tItalian graphic artist\n",
      "AGRATE, Gian Francesco Ferrari d'\t(1489-c. 1563)\tHigh Renaissance\tItalian sculptor (Parma)\n",
      "AGUADO LÓPEZ, Antonio\t(1764-1831)\tNeoclassicism\tSpanish architect (Madrid)\n",
      "AIVAZOVSKY, Ivan Konstantinovich\t(1817-1900)\tRealism\tRussian painter\n",
      "AKEN, Joseph van\t(c. 1699-1749)\tRococo\tFlemish painter (London)\n",
      "AKOTANTOS, Angelos\t(?-c. 1457)\tMedieval\tGreek painter (Crete)\n",
      "ALBA, Macrino d'\t(c. 1460-c. 1528)\tEarly Renaissance\tItalian painter (Alba)\n",
      "ALBANI, Francesco\t(1578-1660)\tBaroque\tItalian painter (Bologna)\n",
      "ALBEREGNO, Jacobello\t(died before1397)\tMedieval\tItalian painter (Venice)\n",
      "ALBERTI, Antonio\t(c. 1390-c. 1442)\tEarly Renaissance\tItalian painter (Urbino)\n",
      "ALBERTI, Cherubino\t(1553-1615)\tMannerism\tItalian painter (Rome)\n",
      "ALBERTI, Giovanni\t(1558-1601)\tMannerism\tItalian painter (Rome)\n",
      "ALBERTI, Leon Battista\t(1404-1472)\tEarly Renaissance\tItalian architect\n",
      "ALBERTINELLI, Mariotto\t(1474-1515)\tEarly Renaissance\tItalian painter (Florence)"
     ]
    }
   ],
   "source": [
    "%%bash\n",
    "cd data/art\n",
    "tail -15 artists.txt"
   ]
  },
  {
   "cell_type": "markdown",
   "metadata": {},
   "source": [
    "#### Sort `artists.txt` by last name (first column)\n",
    "```\n",
    "%%bash\n",
    "cd data/art\n",
    "sort artists.txt\n",
    "```"
   ]
  },
  {
   "cell_type": "code",
   "execution_count": 6,
   "metadata": {},
   "outputs": [],
   "source": [
    "%%bash\n",
    "cd data/art\n",
    "sort artists.txt > temp_artists.txt"
   ]
  },
  {
   "cell_type": "markdown",
   "metadata": {},
   "source": [
    "#### Copy `artists.txt` to a new file called `temp_artists.txt`"
   ]
  },
  {
   "cell_type": "code",
   "execution_count": 10,
   "metadata": {},
   "outputs": [],
   "source": [
    "%%bash\n",
    "cd data/art\n",
    "cp artists.txt temp_artists_cp.txt"
   ]
  },
  {
   "cell_type": "markdown",
   "metadata": {},
   "source": [
    "#### Move `temp_artists.txt` to `temp_artists2.txt`"
   ]
  },
  {
   "cell_type": "code",
   "execution_count": 12,
   "metadata": {},
   "outputs": [],
   "source": [
    "%%bash\n",
    "cd data/art\n",
    "mv temp_artists_cp.txt temp_artists2.txt"
   ]
  },
  {
   "cell_type": "markdown",
   "metadata": {},
   "source": [
    "#### Create a blank file `temp_artists3.txt` using touch"
   ]
  },
  {
   "cell_type": "code",
   "execution_count": 14,
   "metadata": {},
   "outputs": [
    {
     "name": "stdout",
     "output_type": "stream",
     "text": [
      "artists.txt\n",
      "temp_artists2.txt\n",
      "temp_artists3.txt\n",
      "temp_artists.txt\n"
     ]
    }
   ],
   "source": [
    "%%bash\n",
    "cd data/art\n",
    "touch temp_artists3.txt\n",
    "ls"
   ]
  },
  {
   "cell_type": "markdown",
   "metadata": {},
   "source": [
    "#### Delete all temporary files \n",
    "Bonus points if you use file globbing"
   ]
  },
  {
   "cell_type": "code",
   "execution_count": 15,
   "metadata": {},
   "outputs": [
    {
     "name": "stdout",
     "output_type": "stream",
     "text": [
      "artists.txt\n"
     ]
    }
   ],
   "source": [
    "%%bash\n",
    "cd data/art\n",
    "rm temp*.txt\n",
    "ls"
   ]
  },
  {
   "cell_type": "markdown",
   "metadata": {},
   "source": [
    "## Homework\n"
   ]
  },
  {
   "cell_type": "markdown",
   "metadata": {},
   "source": [
    "### HW1: Sort `artists.txt` by last name (first column) in reverse alphabetical order"
   ]
  },
  {
   "cell_type": "code",
   "execution_count": 34,
   "metadata": {},
   "outputs": [
    {
     "name": "stdout",
     "output_type": "stream",
     "text": [
      "TETRODE, Willem Danielsz van\t(c. 1525-c. 1587)\tMannerism\tNetherlandish sculptor\n",
      "TESTELIN, Henri\t(1616-1695)\tBaroque\tFrench painter\n",
      "TESTA, Pietro\t(1611-1650)\tBaroque\tItalian painter (Rome)\n",
      "TESSIN, Nicodemus the Younger\t(1654-1728)\tBaroque\tSwedish architect (Stockholm)\n",
      "TESSIN, Nicodemus the Elder\t(1615-1681)\tBaroque\tSwedish architect (Stockholm)\n",
      "TERZIO, Francesco\t(c. 1523-1591)\tMannerism\tItalian painter (Vienna)\n",
      "TERRENI, Giuseppe Maria\t(1739-1811)\tNeoclassicism\tItalian painter (Livorno)\n",
      "TERILLI, Francesco\t(active 1610-1630)\tBaroque\tItalian sculptor (Feltre)\n",
      "TERBRUGGHEN, Hendrick\t(1588-1629)\tBaroque\tDutch painter (Utrecht)\n",
      "TERBORCH, Gerard\t(1617-1681)\tBaroque\tDutch painter (Deventer)\n"
     ]
    }
   ],
   "source": [
    "%%bash\n",
    "cd data/art\n",
    "sort -rk 1,1 artists.txt > artists_lastName_reverse.txt\n",
    "head -10 artists_lastName_reverse.txt"
   ]
  },
  {
   "cell_type": "markdown",
   "metadata": {},
   "source": [
    "### HW2: Sort `artists.txt` by birthdate (second column)"
   ]
  },
  {
   "cell_type": "code",
   "execution_count": 28,
   "metadata": {},
   "outputs": [
    {
     "name": "stdout",
     "output_type": "stream",
     "text": [
      "TADDEO DI BARTOLO\t(1362/63-1422)\tMedieval\tItalian painter (Siena)\n",
      "ALBERTI, Leon Battista\t(1404-1472)\tEarly Renaissance\tItalian architect\n",
      "AGOSTINO DI DUCCIO\t(1418-1481)\tEarly Renaissance\tItalian sculptor (Rimini)\n",
      "ALBERTINELLI, Mariotto\t(1474-1515)\tEarly Renaissance\tItalian painter (Florence)\n",
      "AGRATE, Gian Francesco Ferrari d'\t(1489-c. 1563)\tHigh Renaissance\tItalian sculptor (Parma)\n",
      "TAMAGNI, Vincenzo\t(1492-1530)\tHigh Renaissance\tItalian painter (San Gimignano)\n",
      "AERTSEN, Pieter\t(1508-1575)\tNorthern Renaissance\tNetherlandish painter (Amsterdam)\n",
      "ABBATE, Niccolò dell'\t(1509-1571)\tMannerism\tItalian painter (Bologna)\n",
      "ABONDIO, Antonio\t(1538-1591)\tMannerism\tItalian sculptor (Vienna)\n",
      "AACHEN, Hans von\t(1552-1615)\tMannerism\tGerman painter\n"
     ]
    }
   ],
   "source": [
    "%%bash\n",
    "cd data/art\n",
    "sort -t$'\\t' -k2 artists.txt > artists_birthdateSort.txt\n",
    "head -10 artists_birthdateSort.txt"
   ]
  },
  {
   "cell_type": "markdown",
   "metadata": {},
   "source": [
    "### HW3: There is a ubuntu command to randomly sample lines from a text file. Find out what it is and type it in a markdown cell below.  \n",
    "BONUS: use that command to get 20 random lines from `artists.txt`. (NOTE: MacOS users don't have this command installed by default, so you would have to use homebrew to install and use this command.)"
   ]
  },
  {
   "cell_type": "code",
   "execution_count": 31,
   "metadata": {},
   "outputs": [
    {
     "name": "stdout",
     "output_type": "stream",
     "text": [
      "TADOLINI, Scipione\t(1822-1892)\tRealism\tItalian sculptor (Rome)\n",
      "KOEDIJCK, Isaack\t(c. 1617-c. 1668)\tBaroque\tDutch painter (Amsterdam)\n",
      "KLEINER, Salomon\t(1703-1761)\tBaroque\tGerman graphic artist\n",
      "KNEBEL, Franz\t(1809-1877)\tRomanticism\tSwiss painter (Rome)\n",
      "AERTSEN, Pieter\t(1508-1575)\tNorthern Renaissance\tNetherlandish painter (Amsterdam)\n",
      "TALENTI, Francesco\t(c. 1300-after 1369)\tMedieval\tItalian architect (Florence)\n",
      "AENVANCK, Theodoor\t(1633-1690)\tBaroque\tFlemish painter (Antwerp)\n",
      "TADDEO DI BARTOLO\t(1362/63-1422)\tMedieval\tItalian painter (Siena)\n",
      "TANZIO DA VARALLO\t(c. 1580-c. 1632)\tBaroque\tItalian painter\n",
      "KINSOEN, François-Joseph\t(1771-1839)\tRomanticism\tFlemish painter\n",
      "TESSIN, Nicodemus the Elder\t(1615-1681)\tBaroque\tSwedish architect (Stockholm)\n",
      "TENIERS, David the Younger\t(1610-1690)\tBaroque\tFlemish painter (Antwerp)\n",
      "TENIERS, Abraham\t(1629-1670)\tBaroque\tFlemish painter (Antwerp)\n",
      "AGNOLO DI VENTURA\t(active 1311-1349)\tMedieval\tItalian sculptor (Siena)\n",
      "ADAM, Robert\t(1728-1792)\tBaroque\tScottish architect (London)\n",
      "KNELLER, Sir Godfrey\t(1646-1723)\tBaroque\tEnglish painter\n",
      "ABBATE, Niccolò dell'\t(1509-1571)\tMannerism\tItalian painter (Bologna)\n",
      "TASSI, Agostino\t(1578-1644)\tBaroque\tItalian painter (Rome)\n",
      "TARBELL, Edmund Charles\t(1862-1938)\tImpressionism\tAmerican painter\n",
      "TASSAERT, Jean-Pierre-Antoine\t(1727-1788)\tRococo\tFlemish sculptor\n"
     ]
    }
   ],
   "source": [
    "%%bash\n",
    "cd data/art\n",
    "shuf -n 20 artists.txt"
   ]
  },
  {
   "cell_type": "code",
   "execution_count": 32,
   "metadata": {},
   "outputs": [
    {
     "name": "stdout",
     "output_type": "stream",
     "text": [
      "KNELLER, Sir Godfrey\t(1646-1723)\tBaroque\tEnglish painter\n",
      "TARAVAL, Hugues\t(1729-1785)\tRococo\tFrench painter (Paris)\n",
      "AAGAARD, Carl Frederik\t(1833-1895)\tRealism\tDanish painter (Copenhagen)\n",
      "TERRENI, Giuseppe Maria\t(1739-1811)\tNeoclassicism\tItalian painter (Livorno)\n",
      "ALBERTI, Antonio\t(c. 1390-c. 1442)\tEarly Renaissance\tItalian painter (Urbino)\n",
      "ALBEREGNO, Jacobello\t(died before1397)\tMedieval\tItalian painter (Venice)\n",
      "KLESECKER, Justus (see GLESKER, Justus)\t(c. 1615-1678)\tBaroque\tGerman sculptor (Franconia)\n",
      "TAUNAY, Nicolas Antoine\t(1755-1830)\tRococo\tFrench painter\n",
      "KNEBEL, Franz\t(1809-1877)\tRomanticism\tSwiss painter (Rome)\n",
      "KOERBECKE, Johann\t(c. 1420-1490)\tNorthern Renaissance\tGerman painter (Münster)\n",
      "KOCH, Joseph Anton\t(1768-1839)\tRomanticism\tAustrian painter\n",
      "KNIJFF, Wouter\t(c. 1607-after 1693)\tBaroque\tDutch painter (Haarlem)\n",
      "TESSIN, Nicodemus the Younger\t(1654-1728)\tBaroque\tSwedish architect (Stockholm)\n",
      "ADOLFZOON, Christoph (see ADOLPHI, Christoffel)\t(c. 1631-1680)\tBaroque\tDutch sculptor (Amsterdam)\n",
      "AGNOLO DI POLO\t(c. 1470-after 1498)\tEarly Renaissance\tItalian sculptor (Florence)\n",
      "KLODT, Mikhail Konstantinovich\t(c. 1832-1902)\tRealism\tRussian painter (St. Petersburg)\n",
      "AACHEN, Hans von\t(1552-1615)\tMannerism\tGerman painter\n",
      "KOBERGER, Anton\t(c. 1440-1513)\tNorthern Renaissance\tGerman graphic artist (Nuremberg)\n",
      "TAMAGNINO, Antonio (see PORTA, Antonio della)\t(active 1489–1519)\tEarly Renaissance\tItalian sculptor\n",
      "TARBELL, Edmund Charles\t(1862-1938)\tImpressionism\tAmerican painter\n"
     ]
    }
   ],
   "source": [
    "%%bash\n",
    "cd data/art\n",
    "sort -R artists.txt | head -n 20"
   ]
  }
 ],
 "metadata": {
  "kernelspec": {
   "display_name": "Python 3",
   "language": "python",
   "name": "python3"
  },
  "language_info": {
   "codemirror_mode": {
    "name": "ipython",
    "version": 3
   },
   "file_extension": ".py",
   "mimetype": "text/x-python",
   "name": "python",
   "nbconvert_exporter": "python",
   "pygments_lexer": "ipython3",
   "version": "3.5.2"
  }
 },
 "nbformat": 4,
 "nbformat_minor": 2
}
