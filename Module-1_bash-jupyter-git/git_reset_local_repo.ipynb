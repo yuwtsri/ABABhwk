{
 "cells": [
  {
   "cell_type": "markdown",
   "metadata": {},
   "source": [
    "git commit -a -m \"commit local changes\"\n",
    "\n",
    "git stash apply\n",
    "\n",
    "git commit -a -m 'commit stashed changes'\n",
    "\n",
    "git stash clear\n",
    "\n",
    "### at this point, students should have their homeworks restored, and they should confirm this before proceeding\n",
    "\n",
    "mkdir ~/Applied-Bioinformatics-Homeworks\n",
    "\n",
    "cp Module-1_bash-jupyter-git/*.ipynb ~/Applied-Bioinformatics-Homeworks\n",
    "\n",
    "### confirm all ipynb files were successfully copied to ~/Applied-Bioinformatics-Homeworks\n",
    "\n",
    "git reset --hard origin/master\n",
    "\n",
    "git pull\n",
    "\n",
    "### now go create new github repo for homeworks, eg https://github.com/<username>/Applied-Bioinformatics_Homeworks\n",
    "### then commit local files to that github repo\n",
    "\n",
    "cd ~/Applied-Bioinformatics-Homeworks\n",
    "\n",
    "git init\n",
    "\n",
    "git add .\n",
    "\n",
    "git commit -m 'First commit'\n",
    "\n",
    "git remote add origin https://github.com/<username>/Applied-Bioinformatics_Homeworks.git\n",
    "    \n",
    "git push origin master"
   ]
  },
  {
   "cell_type": "code",
   "execution_count": null,
   "metadata": {},
   "outputs": [],
   "source": []
  }
 ],
 "metadata": {
  "kernelspec": {
   "display_name": "Python 3",
   "language": "python",
   "name": "python3"
  },
  "language_info": {
   "codemirror_mode": {
    "name": "ipython",
    "version": 3
   },
   "file_extension": ".py",
   "mimetype": "text/x-python",
   "name": "python",
   "nbconvert_exporter": "python",
   "pygments_lexer": "ipython3",
   "version": "3.6.6"
  }
 },
 "nbformat": 4,
 "nbformat_minor": 2
}
