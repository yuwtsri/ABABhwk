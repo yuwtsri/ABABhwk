{
 "cells": [
  {
   "cell_type": "markdown",
   "metadata": {},
   "source": [
    "## Applied Bioinformatics Unit 2 Module 1: RNA-seq\n",
    "### Notebook 3.1: Raw data"
   ]
  },
  {
   "cell_type": "markdown",
   "metadata": {},
   "source": [
    "### Using the SRA toolkit to sample a raw file\n",
    "Use `fastq-dump` to print the first 5 'spots' of a run archive SRR5830139\n",
    "```\n",
    "# cd into directory containing the sratoolkit folder\n",
    "cd /mnt/c/Users/Jerry/Downloads\n",
    "\n",
    "sratoolkit.2.9.2-ubuntu64/bin/fastq-dump --split-files -X 5 -Z SRR5830139\n",
    "```"
   ]
  },
  {
   "cell_type": "code",
   "execution_count": 1,
   "metadata": {},
   "outputs": [
    {
     "name": "stdout",
     "output_type": "stream",
     "text": [
      "@SRR5454079.1 1 length=49\n",
      "NTCTTTCAGGTTTAGTTAGACGTCCTCCAAAAAGAGGCCANAANTCACC\n",
      "+SRR5454079.1 1 length=49\n",
      "#AAAFFJJJJJFAF-FAFAJJJ7JJFJJJJJJJJJJ<FJJ#JJ#JJJJJ\n",
      "@SRR5454079.2 2 length=50\n",
      "NTGCGCGTGCAGCCCCGGACATCTAAGGGCATCACAGACCNGTNATTGNT\n",
      "+SRR5454079.2 2 length=50\n",
      "#AAAFJJJJJJJJJJJJJJJJJFJJJJJFJJFJJJJJJJJ#JJ#JJJJ#J\n",
      "@SRR5454079.3 3 length=50\n",
      "NAAGATAATTGCTTTGGTCATCTGTAAGTCACTTTAGCCANTGNGTCTNC\n",
      "+SRR5454079.3 3 length=50\n",
      "#AAFFJJJJJJJJJJJJJJFJJJJJJJJJJJJJJJJJJJJ#JJ#JJJJ#J\n",
      "@SRR5454079.4 4 length=49\n",
      "NTGGATTGCCTGAGGTCAGGAATTCGAGGCCAGTCTGGCCNACNTGATN\n",
      "+SRR5454079.4 4 length=49\n",
      "#AAFFJJJJJJJJJJJJJJJJJJJJJJJJJJJJJJJJJJJ#JJ#JJJJ#\n",
      "@SRR5454079.5 5 length=50\n",
      "NGGCAATGCAAACAGCAATCCTACATAATGTAGAATAATTNTTNTTCTNT\n",
      "+SRR5454079.5 5 length=50\n",
      "#AAFFJJJJJJJJJJJJJJJJJJJJJJJJJJJJJJJJJJJ#JJ#JJJJ#J\n",
      "@SRR5454079.6 6 length=50\n",
      "NTCCGGATGCGTTGCTCATTTGTCATTTTCATAGGCAGCTNGANTCTTNC\n",
      "+SRR5454079.6 6 length=50\n",
      "#AAFFJJJJJJJJJJJJJJJJJJJJJJJJJJJJJJJJJJJ#JJ#JJJJ#J\n"
     ]
    },
    {
     "name": "stderr",
     "output_type": "stream",
     "text": [
      "2018-10-11T16:10:08 fastq-dump.2.9.2 warn: stdout mode is set, some options are ignored\n",
      "Rejected 6 READS because READLEN < 1\n",
      "Read 6 spots for SRR5454079\n",
      "Written 6 spots for SRR5454079\n"
     ]
    }
   ],
   "source": [
    "%%bash\n",
    "cd\n",
    "./downloads/sratoolkit.2.9.2-ubuntu64/bin/fastq-dump --split-files -X 6 -Z SRR5454079 -O ~/ABABhw/Unit2-RNAseq/data"
   ]
  },
  {
   "cell_type": "markdown",
   "metadata": {},
   "source": [
    "### Writing to FASTQ from the SRA archive\n",
    "`fastq-dump` automatically downloads the .sra file and then writes out the reads in FASTQ format. \n",
    "NB: Watch out for the build up of .sra files on your HD!  \n",
    "\n",
    "Write the first 5 spots of SRR5454080 to FASTQ instead of standard out."
   ]
  },
  {
   "cell_type": "markdown",
   "metadata": {},
   "source": [
    "```\n",
    "%%bash\n",
    "cd /mnt/c/Users/Jerry/Downloads/\n",
    "sratoolkit.2.9.2-ubuntu64/bin/fastq-dump --split-files -X 5 SRR5454080\n",
    "ls -l SRR*\n",
    "```"
   ]
  },
  {
   "cell_type": "code",
   "execution_count": 2,
   "metadata": {},
   "outputs": [
    {
     "name": "stdout",
     "output_type": "stream",
     "text": [
      "Rejected 5 READS because READLEN < 1\n",
      "Read 5 spots for SRR5454080\n",
      "Written 5 spots for SRR5454080\n"
     ]
    },
    {
     "name": "stderr",
     "output_type": "stream",
     "text": [
      "ls: cannot access 'SRR*': No such file or directory\n"
     ]
    }
   ],
   "source": [
    "%%bash\n",
    "cd\n",
    "./downloads/sratoolkit.2.9.2-ubuntu64/bin/fastq-dump --split-files -X 5 SRR5454080 -O ~/ABABhw/Unit2-RNAseq/data\n",
    "ls -l SRR*"
   ]
  },
  {
   "cell_type": "markdown",
   "metadata": {},
   "source": [
    "### Why are we using `--split-files`?\n",
    "Try printing the first 5 spots of this run (to std out): SRR7167720  \n",
    "What do you notice about the reads?  "
   ]
  },
  {
   "cell_type": "markdown",
   "metadata": {},
   "source": [
    "```\n",
    "%%bash  \n",
    "cd /mnt/c/Users/Jerry/Downloads  \n",
    "sratoolkit.2.9.2-ubuntu64/bin/fastq-dump --split-files -X 5 -Z SRR7167720\n",
    "```"
   ]
  },
  {
   "cell_type": "code",
   "execution_count": 3,
   "metadata": {},
   "outputs": [
    {
     "name": "stdout",
     "output_type": "stream",
     "text": [
      "Read 5 spots for SRR7167720\n",
      "Written 5 spots for SRR7167720\n"
     ]
    }
   ],
   "source": [
    "%%bash\n",
    "cd\n",
    "./downloads/sratoolkit.2.9.2-ubuntu64/bin/fastq-dump --split-files -X 5 SRR7167720 -O ~/ABABhw/Unit2-RNAseq/data"
   ]
  },
  {
   "cell_type": "markdown",
   "metadata": {},
   "source": [
    "Now repeat without using --split-files. What is the difference?"
   ]
  },
  {
   "cell_type": "markdown",
   "metadata": {},
   "source": [
    "```\n",
    "%%bash  \n",
    "cd /mnt/c/Users/Jerry/Downloads  \n",
    "sratoolkit.2.9.2-ubuntu64/bin/fastq-dump -X 5 -Z SRR7167720\n",
    "```"
   ]
  },
  {
   "cell_type": "code",
   "execution_count": 4,
   "metadata": {},
   "outputs": [
    {
     "name": "stdout",
     "output_type": "stream",
     "text": [
      "Process is terminated.\n"
     ]
    }
   ],
   "source": [
    "%%bash\n",
    "cd\n",
    "./downloads/sratoolkit.2.9.2-ubuntu64/bin/fastq-dump -X 5 SRR7167720 -O ~/ABABhw/Unit2-RNAseq/data"
   ]
  },
  {
   "cell_type": "markdown",
   "metadata": {},
   "source": [
    "### Exercises I:\n",
    "1) What read length was used in the sequencing study _A Distinct Population of Thirst-Associated Preoptic Neurons Encodes an Aversive Motivational Drive_?\n",
    "\n",
    "2) Using bash, print the first 5 ‘spots’ of the first RNA-seq run from the study above\n",
    "\n",
    "__HW0__ Now print the first 100 ‘spots’ of the first 5 runs (alphabetically) of the study each into a separate file and quantify how many times the nucleotide adenine occurs in each one. How does this compare to the other nucleotides? What are the possible reasons?\n"
   ]
  },
  {
   "cell_type": "markdown",
   "metadata": {},
   "source": [
    "1) Average read length 76"
   ]
  },
  {
   "cell_type": "code",
   "execution_count": 5,
   "metadata": {},
   "outputs": [
    {
     "name": "stdout",
     "output_type": "stream",
     "text": [
      "Read 5 spots for SRR5830640\n",
      "Written 5 spots for SRR5830640\n",
      "@SRR5830640.1 1 length=76\n",
      "GTAGCCCAGTAATCATCTTACCTCAGGCTCCCCTATCTGGCTTCATGGTACTTCCCTGATGTATTTCAGAGAAATG\n",
      "+SRR5830640.1 1 length=76\n",
      "AAAAAEEAEEEEEEEAEEEE6EE6EEEEEEEAEEEEEEEEEE/EEEEEAEEE6EA6EEAEEE/EAAA/AAE//AE/\n",
      "@SRR5830640.2 2 length=76\n",
      "ATACTATGTAGCCCACAGATTGACTCCTTCACCATCGTGTACTTGGATTGCTTCCTTGCTTCCTTCTCCTGGCAGT\n",
      "+SRR5830640.2 2 length=76\n",
      "AAAAAEEEEEEEEEEEEEEEEEEEEEEEEEAEEEEEEEEEEEEEEEEEEEEEEEEEEEEEEEEEEEEEEEEEE/EA\n",
      "@SRR5830640.3 3 length=76\n",
      "ATGCACGCATATGCTCACACACAAACTCAGACTCTGAAGTCTGGTAGCCTGTGAATGTTCCTTTTGTAAAATGCTT\n",
      "+SRR5830640.3 3 length=76\n",
      "AAAAAEEEEEEEEEEEAEEEEEEEEEEEEEAEEEEEEEEEEEEEEEEEEEEEEEEEEEEEEEEEEEA6EEEEEEEE\n",
      "@SRR5830640.4 4 length=76\n",
      "GTGCAGAGTAATGCCATCACTGCCCACTGGGAATGCAGCCCGAATAATTAATAGCCACCCCTCAGACGGAGGACCA\n",
      "+SRR5830640.4 4 length=76\n",
      "A/AAAEEEEEEEEEEEEEEEEEEEAAE<EEEEEEAEEE/EEEAEAEEEEEEEEEAAEEEEEEE/AEEEE/EEAEEE\n",
      "@SRR5830640.5 5 length=76\n",
      "CTTTAATATACGCTATTGGAGCTGGAATTACCGCGGCTGCTGGCACCAGACTTTCCCTCCAATCGATCCTCGATAA\n",
      "+SRR5830640.5 5 length=76\n",
      "AAAAA/E</EEEE<E/EEEEEEEEEEEEE//A<///EA/EEE///EEE/E<EE/A///6AEEE///EEAEEE/6</\n",
      "@SRR5830640.1 1 length=76\n",
      "ACACTGAAGATGTAAGAATTTCACCGGATATTAACAGTGCCTGAAGTTAAAACACTACCACACTTTAGCTAGATGT\n",
      "+SRR5830640.1 1 length=76\n",
      "/AAAAE/AE/AEE6<AE6EAEAAEEEE/E/A//AEAEAEE666/AA6A///E666A6A//EE//A//66//A/<A/\n",
      "@SRR5830640.2 2 length=76\n",
      "CCTCTGGGCCACGGTGGACTCGCCCTCTATAACCCTAAGCCCAAATAAACTCTCTGGCCTGTAAATTACTGGTCAT\n",
      "+SRR5830640.2 2 length=76\n",
      "AAAAAEEEEEEEEEEEEEEEEEEEEEEEEEEEEEEEEEEEEEEAAEAEEEEEEEEEEEEEEE//AEEEAAEEEEAE\n",
      "@SRR5830640.3 3 length=76\n",
      "CCTTAACCGTTTCTTTGGGGTTTCTGATGGTTAGGACAGGGTTGGAGCAAAGAGGCTTTTGGAAGCATTTTACAAA\n",
      "+SRR5830640.3 3 length=76\n",
      "AAAAAAEEEAE6AEAAAEEEEE6EEE/AEEAA6AE/A6E/EA<EA/E/666A/AEA6AA/E<//A//AA<//A///\n",
      "@SRR5830640.4 4 length=76\n",
      "CCTTGGAGGTGGAGCCCAGTGACACCATCGAGAATGTGAAGGCCAAGATCCAGGATAAAGAGGGCATCCCCCCTGA\n",
      "+SRR5830640.4 4 length=76\n",
      "AAAAAEEEEEEE6EEEEAEEEEEEEEAEEE6EEEEEEEEEEEEEAEE6EEEEEA//AEE6AEEEAEEAEEAA/<A/\n",
      "@SRR5830640.5 5 length=76\n",
      "CATCCAAGGAAGGCAGCAGGCGCGCAAATTACCCACTCCCGACCCGGGGAGGTAGTGACGAAAAATAACAAAACAG\n",
      "+SRR5830640.5 5 length=76\n",
      "/A/A//E///EEA6EE//<<<E/EE666E66///<66/E/EAAAA/E/A/</E/E//<///<A//////////E/6\n"
     ]
    }
   ],
   "source": [
    "%%bash\n",
    "cd\n",
    "./downloads/sratoolkit.2.9.2-ubuntu64/bin/fastq-dump --split-files -X 5 SRR5830640 -O ~/ABABhw/Unit2-RNAseq/data/Ex1\n",
    "cat ~/ABABhw/Unit2-RNAseq/data/Ex1/SRR*"
   ]
  },
  {
   "cell_type": "markdown",
   "metadata": {},
   "source": [
    "#### HW0"
   ]
  },
  {
   "cell_type": "code",
   "execution_count": 33,
   "metadata": {},
   "outputs": [
    {
     "name": "stdout",
     "output_type": "stream",
     "text": [
      "Read 100 spots for SRR5830640\n",
      "Written 100 spots for SRR5830640\n",
      "Read 100 spots for SRR5830639\n",
      "Written 100 spots for SRR5830639\n",
      "Read 100 spots for SRR5830638\n",
      "Written 100 spots for SRR5830638\n",
      "Read 100 spots for SRR5830637\n",
      "Written 100 spots for SRR5830637\n",
      "Read 100 spots for SRR5830636\n",
      "Written 100 spots for SRR5830636\n"
     ]
    },
    {
     "name": "stderr",
     "output_type": "stream",
     "text": [
      "awk: fatal: cannot open file `f1' for reading (No such file or directory)\n",
      "awk: fatal: cannot open file `f2' for reading (No such file or directory)\n",
      "awk: fatal: cannot open file `f1' for reading (No such file or directory)\n",
      "awk: fatal: cannot open file `f2' for reading (No such file or directory)\n",
      "awk: fatal: cannot open file `f1' for reading (No such file or directory)\n",
      "awk: fatal: cannot open file `f2' for reading (No such file or directory)\n",
      "awk: fatal: cannot open file `f1' for reading (No such file or directory)\n",
      "awk: fatal: cannot open file `f2' for reading (No such file or directory)\n",
      "awk: fatal: cannot open file `f1' for reading (No such file or directory)\n",
      "awk: fatal: cannot open file `f2' for reading (No such file or directory)\n"
     ]
    }
   ],
   "source": [
    "%%bash\n",
    "cd\n",
    "for i in SRR5830640 SRR5830639 SRR5830638 SRR5830637 SRR5830636\n",
    "do\n",
    "    ./downloads/sratoolkit.2.9.2-ubuntu64/bin/fastq-dump --split-files -X 100 $i -O ~/ABABhw/Unit2-RNAseq/data/hw0/\n",
    "    f1=/home/yuwang/ABABhw/Unit2-RNAseq/data/hw0/\"$i\"_1.fastq\n",
    "    f2=/home/yuwang/ABABhw/Unit2-RNAseq/data/hw0/\"$i\"_2.fastq\n",
    "    for t in f1 f2\n",
    "    do\n",
    "        tmp=`awk 'NR%4==2' $t`\n",
    "        echo $t >> ~/ABABhw/Unit2-RNAseq/data/hw0/count.txt\n",
    "        for l in A B C D\n",
    "        do\n",
    "            echo $l >> ~/ABABhw/Unit2-RNAseq/data/hw0/count.txt\n",
    "            grep -o $l $tmp| wc -l >> ~/ABABhw/Unit2-RNAseq/data/hw0/count.txt\n",
    "        done\n",
    "    done            \n",
    "done"
   ]
  },
  {
   "cell_type": "code",
   "execution_count": 13,
   "metadata": {},
   "outputs": [
    {
     "name": "stdout",
     "output_type": "stream",
     "text": [
      "ATTCCTATGGATCCGAGCATCTTATCCACGCTTCCGTTACGATCAACTTATACATCTTCTATGAAAAAACTTTCTA\n",
      "CACCCACGGAATCGAGAAAGAGATAAAAATCTGTCAATACTCTCCCTCTCCGGCACTCGTCAGGTTAACAGTCTAG\n",
      "TAGGATTCCCAATCGTTGTAGCCATCATTATATTTCCTTCAATCCTATTCCCATCCTCAAAACGCCTAATCAACAA\n",
      "AAAGTGGACTCATTCCAATTACAGGGCCTCGAAAGAGTCCTGTATTGTTATTTTTCGTCACTTCCTCCCCGGGTCG\n",
      "GTCTGAGTGATGAGGCCAAAATAGGAGCACATGGGAAACCTGTGATTTTCCTCCATCCCAAAGACTGAGGTGGGGT\n",
      "ATTATATACTGTGATTTTTATTTGTTGCAATACGTTAAATTTCAGAGGTACTTTGGGGCTCAAGAGCTAGGATTTC\n",
      "ATCTAAGGGCATCACAGACCTGTTATTGCTCAATCTCGGGTGGCTGAACGCCACTTGTCCCTCTAAGAAGTTGGGG\n",
      "ATCAACGCAGAGTACATGGGCAAAAACTATAGTATAAGTTTGAAATTTCGGTTGGGGTGACCTCGGAGAATAAAAA\n",
      "ACTCTACATTAGCTAAAGCTTAAAATAAGTTGTAGGTGCTGGAGAAATGGTACAGTGTCTTAAAAACACTGGTTAC\n",
      "CATAATGGACAGGGAACATTCCCAATTTTGAAAATAAAAAAACTATTAGCATTTTGTGAATCTCTGATGTGTCTCT\n",
      "GTGTACCAGTGTAGGAAGGCCTTGCGTCGGAACATGGCTGTGAACTGCTCTGAGATGCGTTTGAACAGCTCCTGAA\n",
      "GCCATACTGACTGTGCAAATACAAATCTGGTCTAAAATGTACATACTCTCAAGCAACAATGTACAGCTTTCTTTGT\n",
      "GAGGAGGATTCTGCCCAAGCCAACCCGGAAAAGCCGTACGAAAAATAAGCAGAAGCGCCCCAGAAGCCGTACCTTG\n",
      "CCTCGCGGCGGACCGCCCGCCCGCTCCCAAGATCCAACTACGAGCTTTTTAACTGCAGCAACTTTAATATACGCTA\n",
      "GGTCGAGACATGTCAGTAAGGATTTCAAGACCCTTTTCCAAAGCTTTCTGGAATGACTCGGAAATGATGGTTGGAT\n",
      "CCTTGGAAGAGTGGACTATGCTGAATGCATCCCAAAAGGAGCTCTACAAAGATGTGATGCAGGACACCTTGAGGAA\n",
      "GTGTGCTGCCATCGGTAATGAGTCTCAGTAGACCTGGAACGTCACCTCGCCGCGATCGCCTGGAGAAATGACCGCC\n",
      "GTGAAGCACAATGATTTAGCCATCAAAAGATGGACTCCAGGTCTATCTAATAATCATATGACAATGCCATATAATT\n",
      "TTGTAACAGTCCAGGGGGTTAACATACAAGGCCTCTTCTCCTACCAAATACTCAGGCTGCTGAGATGTGTTTGTCC\n",
      "CATTAATCAAGAACGAAAGTCGGAGGTTCGAAGACGATCAGATACCGTCGTAGTTCCGACCATAAACGATGCCGAC\n",
      "CATCCTAGCACAGCACGGAGCACTCAGTGCCAGGACAAGGGGGAGTGTATGGGCACATGTGCATCCTAGGTCACAG\n",
      "CTCTTGGCTGAACACAGCTGAAGCTTTTCCTGAATTTGCCTCAAGAATCTATCTACTACAGCAGACGTTAGGAAAA\n",
      "CTGACAAGAAGTGTGCAATATTGGCCCAGATGATGTTGATGATGCTGGCTGAGCTCGCAGCGCCTCAGTACCTTTG\n",
      "ACCATGTGGTGCTCTAAGAAGGTTCGAGACTTGTGGTGGCAGGGAATCCCTCCGAGTGTAAGAGGCAAAGTTTGGA\n",
      "TTCTTAGGACTGAAGCCACGGCCGGCATCCACGGCGGAACCTTAGAGGTAAAAAGTAGAAGGTGATGGAGTTGCGT\n",
      "GGTATCAACGCAGAGTACATGGGGACTCCTCTTTCTTCCCCTCTCCACTGTCGCTTCTCTCGGACCACAAACTGCC\n",
      "GCCATTCGCAGTTTCACTGTACCGGCCGTGCGTACTTAGACATGCATGGCTTAATCTTTGAGACAAGCATATGCTA\n",
      "GTACTTGGGTCATCTGACTCCATGCTGGGAGGGTGCTGATGCTCTGTAGGCCCAAGCCAGGCAGGTTCCAACCATC\n",
      "CCACTGCCCCATGTACTCAGCGTTCATAACTGACTCTAATACACATCACAGAGCCCACGAGACTGCAGATAATATA\n",
      "ATGTTGTGGACATATATCTCCTCAAGGCTGTTCGATAAGTCTGCGCGTTCTTGCCCTTTCAGCCAGGGAGCGTTCA\n",
      "AAATGACCATCTTATATGGCTTTGTTCTGACTGATCTCATTAACGGATACATTTTGTCCTCAGACAGAGAGGAAGC\n",
      "CCCAAAATCTCTCTTTTACAGTTTATCAAAGACTGCAACATGTCCACAGAGCTGACTCTATTTGGCCCTTTCATTT\n",
      "GTGTGACGCCTGCCCGGTGCTGGAAGATTAAATGATGGGGTGCAAGCTCTTGATTGAAGTCCCAGTAAACGGCGGC\n",
      "ATATTCCTCATTAACAAATGGGGAAAATATTTCATTACTGATGTTTTGTCTTTAGTTCACCACTACGCATTTCTTT\n",
      "CTTCAGAAGAGGTGTCAAAATCTCTGCAAGCAATGAAGGAAATTCTGTGTGGAACGAACGACAAGGAGCCCCCAAC\n",
      "AACCTCCACAGAGCTGGAGTTCTGTTCTGGAAGGCATTAAATTATTTCTCTATGCTGTTGTAGGACCCTTCACTTT\n",
      "TGTCAAAGCTGTCTTCATCCAGGCTGTCCAGGCAGTAGCGCTTATCCCAGCCCTCGGGGAAGACATCGAAGCTTAT\n",
      "ATAATTTACTAATGACGGGTCTTGCATTAAGACCAAGCAGCAGGGAAACAGATCAATGGTATTATTAAATAGGTTC\n",
      "GCTACGATAGGTACCTGTGTCGTGTGGAGGAGATGCGCCAGTCCCTGCGAATCATTTAGCAGTGTCTGAACAAGAT\n",
      "CACAGAATATCCTGTAGGCATAGATGTTGTGGGTGGCGCTGGCAATCTTCTTATTCTCGTACAGCTTGGCAAGAAC\n",
      "GAGGTATCAACGCAGAGTACTTTTTTTTTTTTTTTTTTTTTTTTTTTTTTTTAAAAAGTAAGAAGGCAAACACACC\n",
      "GTGGTATCAACGCAGAGTACTTTTTTTTTTTTTTTTTTTTTTTTTTTTTTTTTAAAAGAAGAAGGACCAACACAGG\n",
      "CAAAGACACCGACCAGGCCGCCGAGGACGACCTGACCCGCTGGATCGACACCGAAGACATTCCCTTCGAAGACATA\n",
      "GTACCTGGTTGATCCTGCCAGTAGCATATGCTTGTCTCAAAGATTAAGCCATGCATGTCTAAGTACGCACGGCCGG\n",
      "AACCATTGTTAGTTAATCAGACTATAGGCAATAATCACACTATAAATAATACACCTATAACTTCTCTGTTAACCCA\n",
      "CTCCTCATCCACTGCAACAGCTTCGCCTTCCTTGAATGTGAAATTTGCATCGAAAATTAGTTCCTTTTCGTGTCCC\n",
      "GACTCACACTTGGGAGGCAATCCTAGGACTCCACAGAGGCTGAGGCAGGAAGAGTCCCATAAGTTAAAAGCCAACC\n",
      "GATAAACACCGGGCAGGTGTGCACAGGTCTTAAAACGTTACAGGAGAGGAGGAAGGTCTGGGGAGCTCTGGAGGCA\n",
      "GCACCTAGTAGGGGGGGAAAAAGCACCTAGTAGGGTTCACAGCTGCATTCTGGGATGAAAAAGACATGTACCTCAA\n",
      "CTTTACCCCTGAGCTGTATCATTGGCCCCCAATTGTATCTTTTTGTGTATGCCCCTTGTGTGCATGTGCATGCGTG\n",
      "GTATATATGTTATTTTGGCTAGACATAAAATAAAATTAACTAAAATTACCTTTGTGTACTGTTGCCTAATAGGCTG\n",
      "TTACTGGGCAGAGCCGTGAGGAGCTGATCAGAGCAGGAAGGGAATAATGGGCATGCGCAGGGGCGGGTAGTCGCGG\n",
      "TCTGAAGCTTGGAGGATGGTGAAGTAAAGTCCTAGTATAATGGTAATTAGTAGGGCTTGATTTATGTGGTTTCGTT\n",
      "GCTCCAATAGCGTATATTAAAGTTGCTGCAGTTAAAAAGCTCGTAGTTGGATCTTGGGAGCGGGCGGGCGGTCCGC\n",
      "CACCAGGAGTGGAGCCTGCGGCTTAATTTGACAACACGGGAAACCTCACCCGGCCCGGACACGGACAGGATTGACC\n",
      "GATTCTCTCCTCTGAGTTTCAGTGCTCAGAGCACTCTCTGCTGGCAAGCTCTCTTACAGGGAAGGTGCGCAGATAT\n",
      "GGCTGTACCAGTGCAGGACCTCATTTTAATCCTCACTCTAAGAAACATGGTGGCCCGGCGGATGAAGAGAGGCATG\n",
      "CTCTAATCATTCGCTTTACCGGATAAAACTGCGTACGTCGGGAGCGAGAGCGCCAGCTATCCTGAGGGAAACTTCG\n",
      "GTAATGACTGTTCTACTGGCCAGGCGATGGGATCAGTAGTGAATTCAGTGCTTAAAAACAAATGTACAAACCTCGG\n",
      "TCTATGTGCTATGTGTTCACAAAATAAGATGAAACTTTATTTACATCATCTGATAAGCCACATAACTTCTATGTCC\n",
      "GTGGTGCATGGCCGTTCTTAGTTGGTGGAGCGATTTGTCTGGTTAATTCCGATAACGAAAGAGACTCTGGCATGCT\n",
      "AGTTTATTTTCAGTGTCAGCAACAGCTTAGCCATCAAAAAAATAAACTCTACCCAGGGCGACAGAAGTCTCTACAG\n",
      "GAAATACCACTACTCTCATCGTTTTTTCACTGACCCCTCGATGCTCTTAGCTGAGTGTCCCGCGGGGCCCGAAGCG\n",
      "CTGTCCACACATTCCAAACTGCCTAACCATTTTCATATAAACACAGCCCTCTGCCACCAGGACATTCCAGTGGGGA\n",
      "CTTCATAGTTATGTAATTTAAGTTCCTCATTAGATCAGGCATTAGTCAACTCCTGCCATCAGGCTACCAACACCCG\n",
      "CCACACAGGTAGGAGAGGTGCCTGGGAGGTCAGGAGCCCCTTGTAAAGCAAATGTACTTCACCCTGGTGTCCTCGG\n",
      "GCCTTGCAGAGTGTTCAATGTTGGGCACGGCTTCTTTACAGGGGCTTCCTTCACAGAAGAAACAGTCTATATTCAG\n",
      "CAGCATAGTGTTGGCTTTACTGTGATGACATGTTTCTTCTTTTTTAGCTGGCCCACACCTTTCTAGGGTCCAACTA\n",
      "GTTCAGCAGTCCCCTTACAGCATCCTAGGCTAAGTAAACTCAATTCTGTAGAGGTGAGGTTTACCGATACCCCTAT\n",
      "GCTTGGAGGATGGTGAAGTAAAGTCCTAGTATAATGGTAATTAGTAGGGCTTGATTTATGTGGTTTCGTTTACCTT\n",
      "CCCCCCGTGGCGGCGACGACCCATTCGAACGTCTGCCCTATCAACTTTCGATGGTAGTCGCCGTGCCTACCATGGT\n",
      "GTGAAAAGATTCTTCTGAGCTGGGTTCGACAGTCAACACGTAATTATCCACAGGTTAACGTCATCAACTTCACCTC\n",
      "TGACCATACCCACCACTGTGGGACTGCCAACACAGCGATCATCTCAAGCCTGCTGGAAAGCTGTTAAAGAAACACA\n",
      "CATTACAGATGGTTGTGAGCCACCATGTGGTTGTTGGGAATTGAACCCAGGACCTCTGGAAGAGCAGTCAGTGCTT\n",
      "GTACATGGCCACCGTCCTGCTGTCTATATCAACCAACACCTTTTCTGGGGTCTGATGAGCGTCGGCATCGGGCGCC\n",
      "TCTTTGTACATCGTATGTACACTGCAATCATTTCATACTTTTGACTGGTCAGAAAAAAAAAACTAATTGTGATTTC\n",
      "GCCGAGAGTGTTCCTTTACGTTCACCAACACCTCTCCAGACTTGGCGCTATACTGGTTGAGCTCTCCGCTCTCGTG\n",
      "GCCCAGGTTCCAGTGCCCAAAGCAGCTTCCTTCAGCCACTGTTTAAATCCGTGCTTGCAACCTCCCCTGATGGTTT\n",
      "ACCATAAACGATGCCGACTGGCGATGCGGCGGCGTTATTCCCATGACCCGCCGGGCAGCTTCCGGGAAACCAAAGT\n",
      "CGGCGGACCGCCCGCCCGCTCCCAAGATCCAACTACGAGCTTTTTAACTGCAGCAACTTTAATATACGCTATTGGT\n",
      "GTCTGGGCCAGACAGGAGCTCGCATCTGGCTCTTCATCGGCTTCATGTTGGCTTTCGGATCCCTGATTGCCTCCAT\n",
      "GGTCAAGGTGGCTTTGTCTACTGAGAAGCCCCCTCAAATTCATTCGACTAGGGTTGTTCCAATATATGGGATGGCT\n",
      "GGATTGTCATGTGACCGTCCCAAAACTCAGAGCACCCTTTGGCCATCTTTGCCCTCTGTCACATAACTTGAAAACT\n",
      "TCCTAACTCAAATGGAGAAATATGCTAGTAGGTCACAATTTGTTAGTGGGAAAATTTGCCAACAAAGATTGCATCA\n",
      "GAACACAGGGGTTAGAACCTCACCCTGGGCTTTTGATCTATAATGTATCTGATCTTTACTTTCTGCACAGTGAGAT\n",
      "GGAATAACGCCGCCGCATCGCCAGTCGGCATCGTTTATGGTCGGAACTACGACGGTATCTGATCGTCTTCGAACCT\n",
      "CTTAAAGGACCCTTCCGTGGAAACAGTTACATACAGAGGTGCTGAAAGCAGCAAACAGAGGAAAAATGCACTTGTG\n",
      "ATGTGGTAAAGTCTTTGCATGGAACTGTCATCTCCGAATCCATAAAAGAACACATAGTGGAGAGAAACCTTACGAA\n",
      "TATTTAAGGCAATAGAATTTCATAGAAAAATTTAGTTTTTGCATTATTGAGAAAACAAGGACAACAGCTAGTTGAG\n",
      "ACCCTATGGATGTAACCATTGTGCAGGTCAGCATTTTCTAAATCTCCCCCAAATACTACCAACTGAAAAGGATTGA\n",
      "GTGCTCTGAGCCGTGCTGGCCTTTTTCCTGCTACTGCTGTAGGAGTCACGGTCATGCCTCTGGCCACTGCTGCTGG\n",
      "GCCGGGGGCATTCGTATTGCGCCGCTAGAGGTGAAATTCTAGGACCGGCGCAAGACGGACCAGAGCGAAAGCATTT\n",
      "ATTAAATCCTTAGCAATCAGAACACTTGCTTCACTAGATTTTGCCAACTGCAAATCATGTTGGACTGAGCTAATCT\n",
      "GGAAGATTCACTCTTCTTCGATCACTTGCACTTACTTGCCAGCACATCTTTTGGAGCCTACTTCTACAGAAGATCA\n",
      "ATAAATCCAGTGTGCCCTGCATATAAGACAAAACTAATCAAAATATAGATTTAAAAAGGAAATCCTTTCATCTTAA\n",
      "CCGGGTGAGGTTTCCCGTGTTGGGTCAAATTAAGCCGCAGGCTCCACTCCTGGTGGTGCCCTTCCGTCAATTCCTT\n",
      "GTACAGAGACTTCCCCATAACGCTTCCCAAGTTCATCCAAACCTGCCAGCTACAATGAATACAAGTCGGGTGAATG\n",
      "CACCAACCTCCTCATAATCCTTCTCTAGGGCAGCCATGTCCTCACGGGCCTCAGAGAACTCACCCTCCTCCATGCC\n",
      "CACTTACAGAGATCAGAGATGTGCCTGCCTCTGCTTCCCAAGTGCTGAGATCAAAGGTGTGCGAGACCATATCCAG\n",
      "TAACTCACTGACACAAATCCTTCCAGGGACATTAATAAACCTGACAAATCTCACACATCTTTACCTGCACAACAAT\n"
     ]
    }
   ],
   "source": [
    "%%bash\n",
    "cat /home/yuwang/ABABhw/Unit2-RNAseq/data/hw0/SRR5830636_1.fastq | awk 'NR%4==2'"
   ]
  },
  {
   "cell_type": "code",
   "execution_count": 22,
   "metadata": {},
   "outputs": [
    {
     "name": "stdout",
     "output_type": "stream",
     "text": [
      "2035\n"
     ]
    }
   ],
   "source": [
    "%%bash\n",
    "cat /home/yuwang/ABABhw/Unit2-RNAseq/data/hw0/SRR5830636_1.fastq | awk 'NR%4==2' | grep -o 'A' | wc -l"
   ]
  },
  {
   "cell_type": "markdown",
   "metadata": {},
   "source": [
    "### Exercises II:\n",
    "1) It is common for RNA-seq reads to be contaminated with leftover adapter sequences. Test if the file SRR5454079_1.fastq contains any i7 adapter sequences ATCACGAC or ACAGTGGT.  \n",
    "1-2) What would be a proper way to determine if there is significant barcode contamination?\n",
    "\n",
    "__HW1__: Map SRR5454079 to the human genome using HISAT2 (or chromosome 20 if you have <8GB RAM).  \n",
    "__HW2__: Check the first 5 reads contained in the FASTQ files. Which chromosome did they align to?  \n",
    "__HW3__: Consult the samtools documentation then convert the output sam file into a sorted bam file.\n"
   ]
  }
 ],
 "metadata": {
  "kernelspec": {
   "display_name": "Python 3",
   "language": "python",
   "name": "python3"
  },
  "language_info": {
   "codemirror_mode": {
    "name": "ipython",
    "version": 3
   },
   "file_extension": ".py",
   "mimetype": "text/x-python",
   "name": "python",
   "nbconvert_exporter": "python",
   "pygments_lexer": "ipython3",
   "version": "3.5.2"
  }
 },
 "nbformat": 4,
 "nbformat_minor": 2
}
