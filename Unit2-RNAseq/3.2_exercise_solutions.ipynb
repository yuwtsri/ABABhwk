{
 "cells": [
  {
   "cell_type": "markdown",
   "metadata": {},
   "source": [
    "## RNAseq notebook 3.2: SAM files and read counting\n"
   ]
  },
  {
   "cell_type": "markdown",
   "metadata": {},
   "source": [
    "**Exercises**   \n",
    "1) How many reads mapped to chromosome 20?  \n",
    "2) Find the 76th read in the SAM file. Where did it map in the human genome? Now use blastn to map the read. Do the results agree with each other?  \n",
    "3) Inspect the reference genome details in the SAM header. Beyond chromosomes, what else is included in the reference?"
   ]
  },
  {
   "cell_type": "markdown",
   "metadata": {},
   "source": [
    "#### Exercise 1"
   ]
  },
  {
   "cell_type": "code",
   "execution_count": 3,
   "metadata": {},
   "outputs": [
    {
     "name": "stdout",
     "output_type": "stream",
     "text": [
      "464329\n"
     ]
    }
   ],
   "source": [
    "%%bash\n",
    "### Exercise 1\n",
    "cd /mnt/c/Users/Jerry/Downloads/hisat_out/\n",
    "awk '{if ($3 == 20) {print}}' SRR5454079.sam | wc -l"
   ]
  },
  {
   "cell_type": "markdown",
   "metadata": {},
   "source": [
    "Approx. 0.46 M alignments to chromosome 20. Is that expected by chance?  \n",
    "Size of human chromosome 20 ... ca. 63 Mbp  \n",
    "Size of human genome        ... ca. 3,235 Mbp  \n",
    "Fraction of genomic DNA sequence represented by chr20 ... ca. 1.95%  \n",
    "\n",
    "Number of alignments from SRR5454079: ca. 24 M  \n",
    "Fraction of alignments attributed to chr20 ... ca. 1.92%  \n",
    "  \n",
    "Conclusion: chromosome 20 is not unusually transcriptionally active in this sample."
   ]
  },
  {
   "cell_type": "markdown",
   "metadata": {},
   "source": [
    "#### Exercise 2"
   ]
  },
  {
   "cell_type": "code",
   "execution_count": 5,
   "metadata": {},
   "outputs": [
    {
     "name": "stdout",
     "output_type": "stream",
     "text": [
      "SRR5454079.76\t16\t20\t327964\t60\t50M\t*\t0\t0\tATACAGCGGGAAAAACTGAGGCACTTTGGTGCTAGGGGTTTGGGACTGAN\tJJJJJJJJJJJJJJJJJJJJJJJJJJJJJJJJJJJJJJJJJJJJJFFAA#\tAS:i:-2\tZS:i:-2\tXN:i:0\tXM:i:1\tXO:i:0\tXG:i:0\tNM:i:1\tMD:Z:49G0\tYT:Z:UU\tNH:i:1\n"
     ]
    }
   ],
   "source": [
    "%%bash\n",
    "### Exercise 2\n",
    "cd /mnt/c/Users/Jerry/Downloads/hisat_out/\n",
    "grep SRR5454079.76 SRR5454079.sam | head -n 1"
   ]
  },
  {
   "cell_type": "markdown",
   "metadata": {},
   "source": [
    "\n",
    "#### BLAST result for read SRR5454079.76 (obtained using the web interface): \n",
    "```\n",
    "**Homo sapiens SRY-box 12 (SOX12), mRNA**\n",
    "Sequence ID: NM_006943.3Length: 4658Number of Matches: 1\n",
    "Related Information\n",
    "Gene-associated gene details\n",
    "UniGene-clustered expressed sequence tags\n",
    "GEO Profiles-microarray expression data\n",
    "NewGenome Data Viewer-aligned genomic context\n",
    "    Range 1: 2394 to 2442GenBankGraphics\n",
    "Next Match\n",
    "Previous Match\n",
    "Alignment statistics for match #1 Score\tExpect\tIdentities\tGaps\tStrand\n",
    "91.6 bits(49) \t2e-17 \t49/49(100%) \t0/49(0%) \tPlus/Plus\n",
    "\n",
    "Query  1     ATACAGCGGGAAAAACTGAGGCACTTTGGTGCTAGGGGTTTGGGACTGA  49\n",
    "             |||||||||||||||||||||||||||||||||||||||||||||||||\n",
    "Sbjct  2394  ATACAGCGGGAAAAACTGAGGCACTTTGGTGCTAGGGGTTTGGGACTGA  2442\n",
    "\n",
    "**Homo sapiens chromosome 20, GRCh38.p12 Primary Assembly**\n",
    "Sequence ID: NC_000020.11Length: 64444167Number of Matches: 1\n",
    "Related Information\n",
    "PubChem BioAssay-bioactivity screening\n",
    "NewGenome Data Viewer-aligned genomic context\n",
    "Range 1: 327964 to 328012GenBankGraphics\n",
    "Next Match\n",
    "Previous Match\n",
    "Alignment statistics for match #1 Score\tExpect\tIdentities\tGaps\tStrand\n",
    "91.6 bits(49) \t2e-17 \t49/49(100%) \t0/49(0%) \tPlus/Plus\n",
    "Features:\n",
    "1092 bp at 5' side: transcription factor SOX-12\n",
    "18656 bp at 3' side: uncharacterized protein LOC101929937\n",
    "\n",
    "Query  1       ATACAGCGGGAAAAACTGAGGCACTTTGGTGCTAGGGGTTTGGGACTGA  49\n",
    "               |||||||||||||||||||||||||||||||||||||||||||||||||\n",
    "Sbjct  327964  ATACAGCGGGAAAAACTGAGGCACTTTGGTGCTAGGGGTTTGGGACTGA  328012\n",
    "\n",
    "```\n",
    "\n"
   ]
  },
  {
   "cell_type": "markdown",
   "metadata": {},
   "source": [
    "From the HISAT2-aligned SAM file and the BLAST-aligned read we see the same genomic reference was found (chromosome 20, bases 327964 to 328012) which corresponds to a protein coding gene *SOX12*."
   ]
  },
  {
   "cell_type": "code",
   "execution_count": 8,
   "metadata": {},
   "outputs": [
    {
     "name": "stdout",
     "output_type": "stream",
     "text": [
      "@HD\tVN:1.0\tSO:unsorted\n",
      "@SQ\tSN:1\tLN:248956422\n",
      "@SQ\tSN:10\tLN:133797422\n",
      "@SQ\tSN:11\tLN:135086622\n",
      "@SQ\tSN:12\tLN:133275309\n",
      "@SQ\tSN:13\tLN:114364328\n",
      "@SQ\tSN:14\tLN:107043718\n",
      "@SQ\tSN:15\tLN:101991189\n",
      "@SQ\tSN:16\tLN:90338345\n",
      "@SQ\tSN:17\tLN:83257441\n",
      "@SQ\tSN:18\tLN:80373285\n",
      "@SQ\tSN:19\tLN:58617616\n",
      "@SQ\tSN:2\tLN:242193529\n",
      "@SQ\tSN:20\tLN:64444167\n",
      "@SQ\tSN:21\tLN:46709983\n",
      "@SQ\tSN:22\tLN:50818468\n",
      "@SQ\tSN:3\tLN:198295559\n",
      "@SQ\tSN:4\tLN:190214555\n",
      "@SQ\tSN:5\tLN:181538259\n",
      "@SQ\tSN:6\tLN:170805979\n",
      "@SQ\tSN:7\tLN:159345973\n",
      "@SQ\tSN:8\tLN:145138636\n",
      "@SQ\tSN:9\tLN:138394717\n",
      "@SQ\tSN:MT\tLN:16569\n",
      "@SQ\tSN:X\tLN:156040895\n",
      "@SQ\tSN:Y\tLN:57227415\n",
      "@SQ\tSN:KI270728.1\tLN:1872759\n",
      "@SQ\tSN:KI270727.1\tLN:448248\n",
      "@SQ\tSN:KI270442.1\tLN:392061\n",
      "@SQ\tSN:KI270729.1\tLN:280839\n",
      "@SQ\tSN:GL000225.1\tLN:211173\n",
      "@SQ\tSN:KI270743.1\tLN:210658\n",
      "@SQ\tSN:GL000008.2\tLN:209709\n",
      "@SQ\tSN:GL000009.2\tLN:201709\n",
      "@SQ\tSN:KI270747.1\tLN:198735\n",
      "@SQ\tSN:KI270722.1\tLN:194050\n",
      "@SQ\tSN:GL000194.1\tLN:191469\n",
      "@SQ\tSN:KI270742.1\tLN:186739\n",
      "@SQ\tSN:GL000205.2\tLN:185591\n",
      "@SQ\tSN:GL000195.1\tLN:182896\n",
      "@SQ\tSN:KI270736.1\tLN:181920\n",
      "@SQ\tSN:KI270733.1\tLN:179772\n",
      "@SQ\tSN:GL000224.1\tLN:179693\n",
      "@SQ\tSN:GL000219.1\tLN:179198\n",
      "@SQ\tSN:KI270719.1\tLN:176845\n",
      "@SQ\tSN:GL000216.2\tLN:176608\n",
      "@SQ\tSN:KI270712.1\tLN:176043\n",
      "@SQ\tSN:KI270706.1\tLN:175055\n",
      "@SQ\tSN:KI270725.1\tLN:172810\n",
      "@SQ\tSN:KI270744.1\tLN:168472\n"
     ]
    }
   ],
   "source": [
    "%%bash\n",
    "#### Exercise 3\n",
    "cd /mnt/c/Users/Jerry/Downloads/\n",
    "head -n 50 ./hisat_out/SRR5454079.sam"
   ]
  },
  {
   "cell_type": "markdown",
   "metadata": {},
   "source": [
    "Step 2: Search for 'KI270728.1':\n",
    "#### Homo sapiens chromosome 16 unlocalized genomic contig, GRCh38 reference primary assembly\n",
    "GenBank: KI270728.1\n",
    "\n",
    "    Source: https://www.ncbi.nlm.nih.gov/nuccore/KI270728.1\n",
    "            \n",
    "Step 3: Search for 'unlocalized genomic contig':  \n",
    "        **Contig**:\n",
    "    a contiguous sequence generated from determining the non-redundant path along an order set of component sequences. A contig should contain no gaps (Figure 1) but often the terms contig and scaffold are used interchangeably.   \n",
    "    **Unlocalized Sequence**:  \n",
    "    A sequence found in an assembly that is associated with a specific chromosome but cannot be ordered or oriented on that chromosome.   \n",
    "    Source: https://www.ncbi.nlm.nih.gov/grc/help/definitions/\n",
    "    \n",
    "These unlocalized contigs represent the kind of sequences that you will find in the human genome indices in addition to the expected chromosome sequences."
   ]
  }
 ],
 "metadata": {
  "kernelspec": {
   "display_name": "Python 3",
   "language": "python",
   "name": "python3"
  },
  "language_info": {
   "codemirror_mode": {
    "name": "ipython",
    "version": 3
   },
   "file_extension": ".py",
   "mimetype": "text/x-python",
   "name": "python",
   "nbconvert_exporter": "python",
   "pygments_lexer": "ipython3",
   "version": "3.6.5"
  }
 },
 "nbformat": 4,
 "nbformat_minor": 2
}
