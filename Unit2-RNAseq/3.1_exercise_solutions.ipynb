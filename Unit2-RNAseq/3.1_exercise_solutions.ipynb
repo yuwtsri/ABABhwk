{
 "cells": [
  {
   "cell_type": "markdown",
   "metadata": {},
   "source": [
    "## Applied Bioinformatics Unit 2 Module 1: RNA-seq\n",
    "### Notebook 3.1: Raw data"
   ]
  },
  {
   "cell_type": "markdown",
   "metadata": {},
   "source": [
    "### Exercises I:\n",
    "1) What read length was used in the sequencing study _A Distinct Population of Thirst-Associated Preoptic Neurons Encodes an Aversive Motivational Drive_?\n",
    "\n",
    "2) Using bash, print the first 5 ‘spots’ of the first RNA-seq run from the study above\n",
    "\n"
   ]
  },
  {
   "cell_type": "markdown",
   "metadata": {},
   "source": [
    "### Exercises solutions\n",
    "Exercise 1   \n",
    "    Step 1: Look up the name of the study in the NCBI SRA archive (https://www.ncbi.nlm.nih.gov/sra) and locate the 'All Runs' link  \n",
    "    Step 2: Open the runs in the SRA Run Selector by clicking the link, then click on one of the runs (prefix SRR). Note the information given mid-page: 'This run has 2 reads per spot:' L=76 and L=76. \n",
    "    The above indicates paired-end reads at 76 bp each, i.e. 2x76bp        "
   ]
  },
  {
   "cell_type": "markdown",
   "metadata": {},
   "source": [
    "Exercise 2  \n",
    "Step 1: as above, then select one of the run accessions (SRR...)  \n",
    "Step 2: Sample one of the runs using the code below. The output shows duplicate reads per index (e.g. 2 reads tagged @SRR5830640.1), each 76 bp long. Therefore, the reads are 2x76 bp paired-end reads."
   ]
  },
  {
   "cell_type": "code",
   "execution_count": 3,
   "metadata": {},
   "outputs": [
    {
     "name": "stdout",
     "output_type": "stream",
     "text": [
      "@SRR5830640.1 1 length=76\n",
      "GTAGCCCAGTAATCATCTTACCTCAGGCTCCCCTATCTGGCTTCATGGTACTTCCCTGATGTATTTCAGAGAAATG\n",
      "+SRR5830640.1 1 length=76\n",
      "AAAAAEEAEEEEEEEAEEEE6EE6EEEEEEEAEEEEEEEEEE/EEEEEAEEE6EA6EEAEEE/EAAA/AAE//AE/\n",
      "@SRR5830640.1 1 length=76\n",
      "ACACTGAAGATGTAAGAATTTCACCGGATATTAACAGTGCCTGAAGTTAAAACACTACCACACTTTAGCTAGATGT\n",
      "+SRR5830640.1 1 length=76\n",
      "/AAAAE/AE/AEE6<AE6EAEAAEEEE/E/A//AEAEAEE666/AA6A///E666A6A//EE//A//66//A/<A/\n",
      "@SRR5830640.2 2 length=76\n",
      "ATACTATGTAGCCCACAGATTGACTCCTTCACCATCGTGTACTTGGATTGCTTCCTTGCTTCCTTCTCCTGGCAGT\n",
      "+SRR5830640.2 2 length=76\n",
      "AAAAAEEEEEEEEEEEEEEEEEEEEEEEEEAEEEEEEEEEEEEEEEEEEEEEEEEEEEEEEEEEEEEEEEEEE/EA\n",
      "@SRR5830640.2 2 length=76\n",
      "CCTCTGGGCCACGGTGGACTCGCCCTCTATAACCCTAAGCCCAAATAAACTCTCTGGCCTGTAAATTACTGGTCAT\n",
      "+SRR5830640.2 2 length=76\n",
      "AAAAAEEEEEEEEEEEEEEEEEEEEEEEEEEEEEEEEEEEEEEAAEAEEEEEEEEEEEEEEE//AEEEAAEEEEAE\n",
      "@SRR5830640.3 3 length=76\n",
      "ATGCACGCATATGCTCACACACAAACTCAGACTCTGAAGTCTGGTAGCCTGTGAATGTTCCTTTTGTAAAATGCTT\n",
      "+SRR5830640.3 3 length=76\n",
      "AAAAAEEEEEEEEEEEAEEEEEEEEEEEEEAEEEEEEEEEEEEEEEEEEEEEEEEEEEEEEEEEEEA6EEEEEEEE\n",
      "@SRR5830640.3 3 length=76\n",
      "CCTTAACCGTTTCTTTGGGGTTTCTGATGGTTAGGACAGGGTTGGAGCAAAGAGGCTTTTGGAAGCATTTTACAAA\n",
      "+SRR5830640.3 3 length=76\n",
      "AAAAAAEEEAE6AEAAAEEEEE6EEE/AEEAA6AE/A6E/EA<EA/E/666A/AEA6AA/E<//A//AA<//A///\n",
      "@SRR5830640.4 4 length=76\n",
      "GTGCAGAGTAATGCCATCACTGCCCACTGGGAATGCAGCCCGAATAATTAATAGCCACCCCTCAGACGGAGGACCA\n",
      "+SRR5830640.4 4 length=76\n",
      "A/AAAEEEEEEEEEEEEEEEEEEEAAE<EEEEEEAEEE/EEEAEAEEEEEEEEEAAEEEEEEE/AEEEE/EEAEEE\n",
      "@SRR5830640.4 4 length=76\n",
      "CCTTGGAGGTGGAGCCCAGTGACACCATCGAGAATGTGAAGGCCAAGATCCAGGATAAAGAGGGCATCCCCCCTGA\n",
      "+SRR5830640.4 4 length=76\n",
      "AAAAAEEEEEEE6EEEEAEEEEEEEEAEEE6EEEEEEEEEEEEEAEE6EEEEEA//AEE6AEEEAEEAEEAA/<A/\n",
      "@SRR5830640.5 5 length=76\n",
      "CTTTAATATACGCTATTGGAGCTGGAATTACCGCGGCTGCTGGCACCAGACTTTCCCTCCAATCGATCCTCGATAA\n",
      "+SRR5830640.5 5 length=76\n",
      "AAAAA/E</EEEE<E/EEEEEEEEEEEEE//A<///EA/EEE///EEE/E<EE/A///6AEEE///EEAEEE/6</\n",
      "@SRR5830640.5 5 length=76\n",
      "CATCCAAGGAAGGCAGCAGGCGCGCAAATTACCCACTCCCGACCCGGGGAGGTAGTGACGAAAAATAACAAAACAG\n",
      "+SRR5830640.5 5 length=76\n",
      "/A/A//E///EEA6EE//<<<E/EE666E66///<66/E/EAAAA/E/A/</E/E//<///<A//////////E/6\n"
     ]
    },
    {
     "name": "stderr",
     "output_type": "stream",
     "text": [
      "Read 5 spots for SRR5830640\n",
      "Written 5 spots for SRR5830640\n"
     ]
    }
   ],
   "source": [
    "%%bash\n",
    "cd /mnt/c/Users/Jerry/Downloads/\n",
    "./sratoolkit.2.9.2-ubuntu64/bin/fastq-dump --split-files -X 5 -Z SRR5830640"
   ]
  },
  {
   "cell_type": "markdown",
   "metadata": {},
   "source": [
    "### Exercises II:\n",
    "1) It is common for RNA-seq reads to be contaminated with leftover adapter sequences. Test if the file SRR5454079_1.fastq contains any i7 adapter sequences ATCACGAC or ACAGTGGT.  \n",
    "1-2) What would be a proper way to determine if there is significant barcode contamination?"
   ]
  },
  {
   "cell_type": "code",
   "execution_count": 5,
   "metadata": {},
   "outputs": [
    {
     "name": "stdout",
     "output_type": "stream",
     "text": [
      "ATCACGACTGGGGTCTCGAAGAGGACGGGGGTAGGAAATCCTCCAGGATC\n",
      "ATCACGACCAGCTTCACCAGGAGCACCGTTGACTCCAGGACTACCCAC\n",
      "ATCACGACTGGGGTCTCGAAGAGGACGGGGGTAGGAAATCCTCCAGGATC\n",
      "ATCACGACGCAGGTCACTCAGGAACCGCTCCTGGTCGTTCTCCACCTGA\n",
      "ATCACGACTAACGTCGCTTTGCTATCAAAATCTGTATTTCTGATCCGTT\n",
      "ATCACGACTGGGGTCTCGAAGAGGACGGGGGTAGGAAATCCTCCAGGATC\n",
      "ATCACGACCAGAGACAGAAAGCCGGGCTATTGGTGGATCAGCCACCAAA\n",
      "ATCACGACAGGGTGGACAAGGTGCCATCACACTTCTTTTTTGTAATTCA\n",
      "ATCACGACTGGGGTCTCGAAGAGGACGGGGGTAGGAAATCCTCCAGGATC\n",
      "ATCACGACCCCATTGCCATAAAGTCCTATCACTCTCCCACACTTGTCT\n"
     ]
    }
   ],
   "source": [
    "%%bash\n",
    "# Exercise II-1\n",
    "# These adapter sequences at the start of reads indicate potential barcode contamination\n",
    "cd /mnt/c/Users/Jerry/Downloads/\n",
    "grep ^ATCACGAC SRR5454079_1.fastq | head"
   ]
  },
  {
   "cell_type": "code",
   "execution_count": 7,
   "metadata": {},
   "outputs": [
    {
     "name": "stdout",
     "output_type": "stream",
     "text": [
      "CTTGTAGGGTCCCTCAGCCATGGTTAACTCCACACTGTTCTCATCACGAC\n",
      "TCAGTCACTCAGTGCCTGGGATCTCGGGGCCTTCCTCGGTATCACGAC\n",
      "CTTCCACTCTCTTCGTTTAAATTGCCAAATACGTGCTGTCCCATCACGAC\n",
      "GTCTGTGGCTGTTTTTCCCGACAGTGGCAGAGGTGAGTAATCACGAC\n",
      "CTCGATACACACAACATCCAGGACTTGTGCCCTTGCCCCATCACGAC\n",
      "GATCACTTAAGCCTGGGGGTGTCAAGGCTGCAGTGAGCTGAGATCACGAC\n",
      "TCCATTGGATTTAAACTTCAAAGCTAATAGTTCAACGATGATATCACGAC\n",
      "ATGCAATGCAGGAAATAACCTTTCATTCTCCCCCCTAGAGGATCACGAC\n",
      "GCAGTTCAGAAGTCCCGCCTGCGAGTCTCAGCGCTCCCCAGCATCACGAC\n",
      "CTTGACTGGAACACCCGATCAAATGCATAAGGCTTGGACGCGATCACGAC\n"
     ]
    }
   ],
   "source": [
    "%%bash\n",
    "# Exercise II-1\n",
    "# These adapter sequences at the end of reads indicate potential barcode contamination\n",
    "cd /mnt/c/Users/Jerry/Downloads/\n",
    "grep ATCACGAC$ SRR5454079_1.fastq | head"
   ]
  },
  {
   "cell_type": "code",
   "execution_count": 6,
   "metadata": {},
   "outputs": [
    {
     "name": "stdout",
     "output_type": "stream",
     "text": [
      "ACAGTGGTGACAGGCACTACACGGGGCCTCACCTCCCTCCCTGGCTCCGT\n",
      "ACAGTGGTCTGCTGGGGACAAAAGGAAAAACGGGTCAAGAAAATATTCTT\n",
      "ACAGTGGTGCCTGGAAAATAAATTAAAACAGAAATGCATCAAAACAAA\n",
      "ACAGTGGTGAAATGACTGGCCAGAGGTTAGCCAGCTAGCACGTGGCAG\n",
      "ACAGTGGTGGCTACCTGGCTAGGCTGGGCACTACAGGGGCATGACTCCT\n",
      "ACAGTGGTGGCCGTGTGAGTGGTGCCCGTCTCGTGGGTCTCACAGGGGGG\n",
      "ACAGTGGTGAGACGTGTTTTTCTTTTCAGGTGCCCCATGATGGCATAC\n",
      "ACAGTGGTATGGATGGTAGGGGTGACAGCTGCCGCAGGACCAGGGCTTGG\n",
      "ACAGTGGTTGGAAGTTCTATTTTATTGCAATGGTCCTGATTGCAGCAAT\n",
      "ACAGTGGTCAGAGTAGTGAATTCATAGGCTGCCACCTCAGAATATACCCC\n"
     ]
    }
   ],
   "source": [
    "%%bash\n",
    "# Exercise II-1\n",
    "# These adapter sequences at the start of reads indicate potential barcode contamination\n",
    "cd /mnt/c/Users/Jerry/Downloads/\n",
    "grep ^ACAGTGGT SRR5454079_1.fastq | head"
   ]
  },
  {
   "cell_type": "markdown",
   "metadata": {},
   "source": [
    "### Exercise II-1-2  \n",
    "In order to determine whether the adapter sequences are truly contaminating the desired biological reads, we would need to test whether they are significantly *overrepresented* in the FASTQ file compared to the frequency predicted by random chance. The nucleotides selected as barcodes can be found naturally in RNA-seq reads and thus detecting barcode sequences is not proof enough of contamination.  \n",
    "FastQC is a tool that performs such sequence overrepresentation calculation for a range of barcodes: https://www.bioinformatics.babraham.ac.uk/projects/fastqc/\n",
    "\n",
    "Another approach could involve spliced alignment of the reads to the genome, allowing for soft clipping of the octamers. If the reads map and the octamers are soft-clipped by the aligner, barcode contamination is likely."
   ]
  }
 ],
 "metadata": {
  "kernelspec": {
   "display_name": "Python 3",
   "language": "python",
   "name": "python3"
  },
  "language_info": {
   "codemirror_mode": {
    "name": "ipython",
    "version": 3
   },
   "file_extension": ".py",
   "mimetype": "text/x-python",
   "name": "python",
   "nbconvert_exporter": "python",
   "pygments_lexer": "ipython3",
   "version": "3.6.5"
  }
 },
 "nbformat": 4,
 "nbformat_minor": 2
}
