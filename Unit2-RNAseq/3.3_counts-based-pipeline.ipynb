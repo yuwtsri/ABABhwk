{
 "cells": [
  {
   "cell_type": "markdown",
   "metadata": {},
   "source": [
    "## 3.1 Gene counts based expression analysis\n",
    "\n",
    "Read counts summary - inspect the uncounted reads\n",
    "#### How many reads were not counted towards individual genes?"
   ]
  },
  {
   "cell_type": "code",
   "execution_count": 6,
   "metadata": {},
   "outputs": [
    {
     "name": "stdout",
     "output_type": "stream",
     "text": [
      "ENSG00000285990\t0\n",
      "ENSG00000285991\t0\n",
      "ENSG00000285992\t0\n",
      "ENSG00000285993\t0\n",
      "ENSG00000285994\t5\n",
      "__no_feature\t3149550\n",
      "__ambiguous\t395230\n",
      "__too_low_aQual\t0\n",
      "__not_aligned\t833738\n",
      "__alignment_not_unique\t7502708\n"
     ]
    }
   ],
   "source": [
    "%%bash\n",
    "cd /mnt/c/Users/Jerry/Downloads/\n",
    "tail ./htseq_out/SRR5454079_gtf_genecounts_v11_s-reverse.txt"
   ]
  },
  {
   "cell_type": "markdown",
   "metadata": {},
   "source": [
    "#### How many reads to start with?\n",
    "Find out the number of pre-mapping reads, the number of reads mapped and number of secondary alignments"
   ]
  },
  {
   "cell_type": "code",
   "execution_count": 4,
   "metadata": {},
   "outputs": [
    {
     "name": "stdout",
     "output_type": "stream",
     "text": [
      "24142929 + 0 in total (QC-passed reads + QC-failed reads)\n",
      "5443891 + 0 secondary\n",
      "0 + 0 supplementary\n",
      "0 + 0 duplicates\n",
      "23309191 + 0 mapped (96.55% : N/A)\n",
      "0 + 0 paired in sequencing\n",
      "0 + 0 read1\n",
      "0 + 0 read2\n",
      "0 + 0 properly paired (N/A : N/A)\n",
      "0 + 0 with itself and mate mapped\n",
      "0 + 0 singletons (N/A : N/A)\n",
      "0 + 0 with mate mapped to a different chr\n",
      "0 + 0 with mate mapped to a different chr (mapQ>=5)\n"
     ]
    }
   ],
   "source": [
    "%%bash\n",
    "cd /mnt/c/Users/Jerry/Downloads/\n",
    "samtools flagstat ./hisat_out/SRR5454079.bam"
   ]
  },
  {
   "cell_type": "markdown",
   "metadata": {},
   "source": [
    "#### Questions - write the answer below each question."
   ]
  },
  {
   "cell_type": "markdown",
   "metadata": {},
   "source": [
    "I) What are the components of a FASTQ file?"
   ]
  },
  {
   "cell_type": "markdown",
   "metadata": {},
   "source": [
    "II) What is a SAM file?"
   ]
  },
  {
   "cell_type": "markdown",
   "metadata": {},
   "source": [
    "III) Why is it not possible to run htseq-count directly on FASTQ files? What is the missing step?"
   ]
  },
  {
   "cell_type": "markdown",
   "metadata": {},
   "source": [
    "IV) Find one example of an optional SAM tag and explain why it might be useful."
   ]
  },
  {
   "cell_type": "markdown",
   "metadata": {},
   "source": [
    "V) You practiced the steps from FASTQ to BAM but is it possible to go from BAM to FASTQ? If so, how?"
   ]
  },
  {
   "cell_type": "markdown",
   "metadata": {},
   "source": [
    "VI) Describe the process of a spliced alignment and explain why it is more difficult than mapping genomic DNA reads."
   ]
  },
  {
   "cell_type": "markdown",
   "metadata": {},
   "source": [
    "VII) Using the default settings of htseq-count, would a read which mapped fully to a genomic region on which 2 genes overlap be counted towards any of the 2 genes? Explain why."
   ]
  },
  {
   "cell_type": "markdown",
   "metadata": {},
   "source": [
    "VIII) You are interested in RNA-sequencing an organism for which no transcriptome annotations are available. Can you still use htseq-count to examine gene expression? If so, what upstream analyses would you perform first?"
   ]
  },
  {
   "cell_type": "markdown",
   "metadata": {},
   "source": [
    "IX) Intron retention can result in mRNA isoforms that contain unspliced introns. If **sample 1** contains a high frequency of intron-retained isoforms of gene A whereas **sample 2** contains fully spliced isoforms of gene A, but each sample has the identical number of reads mapping to gene A, which sample will have a higher gene A count using default htseq-count settings?"
   ]
  },
  {
   "cell_type": "markdown",
   "metadata": {},
   "source": []
  }
 ],
 "metadata": {
  "kernelspec": {
   "display_name": "Python 3",
   "language": "python",
   "name": "python3"
  },
  "language_info": {
   "codemirror_mode": {
    "name": "ipython",
    "version": 3
   },
   "file_extension": ".py",
   "mimetype": "text/x-python",
   "name": "python",
   "nbconvert_exporter": "python",
   "pygments_lexer": "ipython3",
   "version": "3.6.5"
  }
 },
 "nbformat": 4,
 "nbformat_minor": 2
}
