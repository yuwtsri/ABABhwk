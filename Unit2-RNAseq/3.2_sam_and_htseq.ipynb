{
 "cells": [
  {
   "cell_type": "markdown",
   "metadata": {},
   "source": [
    "## RNAseq notebook 3.2: SAM files and read counting\n",
    "This notebook features examples on how to work with the sequence alignment map file, and how to derive gene counts from mapped reads.  \n",
    "**Notes**\n",
    "- full SAM files tend to be large so bash manipulation can take some time (typically minutes)\n",
    "- not all SAM attributes will be found in all SAM files"
   ]
  },
  {
   "cell_type": "markdown",
   "metadata": {},
   "source": [
    "**Find where a specific read aligned**  \n",
    "Example: 1000th read"
   ]
  },
  {
   "cell_type": "markdown",
   "metadata": {},
   "source": [
    "```bash\n",
    "%%bash  \n",
    "cd ../Downloads/hisat_out  \n",
    "grep SRR5454079.1000 ./SRR5454079.sam | head -n 1\n",
    "```"
   ]
  },
  {
   "cell_type": "code",
   "execution_count": 6,
   "metadata": {},
   "outputs": [
    {
     "name": "stdout",
     "output_type": "stream",
     "text": [
      "@PG\tID:hisat2\tPN:hisat2\tVN:2.1.0\tCL:\"/home/yuwang/downloads/hisat2-2.1.0/hisat2-align-s --wrapper basic-0 -x ./downloads/HISAT_indices/grch38/genome -S ./downloads/hisat_out/SRR5454079.sam -U ./SRR5454079_1.fastq\"\n"
     ]
    },
    {
     "name": "stderr",
     "output_type": "stream",
     "text": [
      "grep: write error: Broken pipe\n"
     ]
    }
   ],
   "source": [
    "%%bash  \n",
    "cd ~/downloads/hisat_out  \n",
    "grep SRR5454079.1 ./SRR5454079.sam | head -n 1"
   ]
  },
  {
   "cell_type": "markdown",
   "metadata": {},
   "source": [
    "**Print the first few aligned reads**\n",
    "```bash\n",
    "%%bash\n",
    "cd ../Downloads/hisat_out\n",
    "awk '/^SRR/' SRR5454079.sam | head\n",
    "```"
   ]
  },
  {
   "cell_type": "code",
   "execution_count": 7,
   "metadata": {},
   "outputs": [
    {
     "name": "stdout",
     "output_type": "stream",
     "text": [
      "SRR5454079.1\t4\t*\t0\t0\t*\t*\t0\t0\tNTCTTTCAGGTTTAGTTAGACGTCCTCCAAAAAGAGGCCANAANTCACC\t#AAAFFJJJJJFAF-FAFAJJJ7JJFJJJJJJJJJJ<FJJ#JJ#JJJJJ\tYT:Z:UU\n",
      "SRR5454079.2\t4\t*\t0\t0\t*\t*\t0\t0\tNTGCGCGTGCAGCCCCGGACATCTAAGGGCATCACAGACCNGTNATTGNT\t#AAAFJJJJJJJJJJJJJJJJJFJJJJJFJJFJJJJJJJJ#JJ#JJJJ#J\tYT:Z:UU\n",
      "SRR5454079.3\t4\t*\t0\t0\t*\t*\t0\t0\tNAAGATAATTGCTTTGGTCATCTGTAAGTCACTTTAGCCANTGNGTCTNC\t#AAFFJJJJJJJJJJJJJJFJJJJJJJJJJJJJJJJJJJJ#JJ#JJJJ#J\tYT:Z:UU\n",
      "SRR5454079.4\t4\t*\t0\t0\t*\t*\t0\t0\tNTGGATTGCCTGAGGTCAGGAATTCGAGGCCAGTCTGGCCNACNTGATN\t#AAFFJJJJJJJJJJJJJJJJJJJJJJJJJJJJJJJJJJJ#JJ#JJJJ#\tYT:Z:UU\n",
      "SRR5454079.5\t4\t*\t0\t0\t*\t*\t0\t0\tNGGCAATGCAAACAGCAATCCTACATAATGTAGAATAATTNTTNTTCTNT\t#AAFFJJJJJJJJJJJJJJJJJJJJJJJJJJJJJJJJJJJ#JJ#JJJJ#J\tYT:Z:UU\n",
      "SRR5454079.6\t4\t*\t0\t0\t*\t*\t0\t0\tNTCCGGATGCGTTGCTCATTTGTCATTTTCATAGGCAGCTNGANTCTTNC\t#AAFFJJJJJJJJJJJJJJJJJJJJJJJJJJJJJJJJJJJ#JJ#JJJJ#J\tYT:Z:UU\n",
      "SRR5454079.7\t4\t*\t0\t0\t*\t*\t0\t0\tNAATAATATAAAACAGAAAGCTGAACACAACATGTGTGTGNGTNTGTG\t#AAFFJJJJJJJJJJJJJJJJJJJJJJJJJJJJJJJJJJJ#JJ#JJJJ\tYT:Z:UU\n",
      "SRR5454079.8\t4\t*\t0\t0\t*\t*\t0\t0\tNCTATATACACACGTCCAGAACTGAGGGTCAACCTGGACTNACNGGAGNC\t#AAFFJJJJJJJJJJJJJJJJJJJJJJJAFJJJJJJJJJJ#JJ#JJJJ#J\tYT:Z:UU\n",
      "SRR5454079.9\t4\t*\t0\t0\t*\t*\t0\t0\tNAGCTGTTGAGTTTGACGATTCTTCTGCATGACTAGGTCANCTNTTTANT\t#AAFFJJJJJJJJJJJJJJJJJJJJJJJJJJJJJJJJJJJ#JJ#JJJJ#J\tYT:Z:UU\n",
      "SRR5454079.10\t4\t*\t0\t0\t*\t*\t0\t0\tNAGGCAAGTAGGTCAGGGAAAAGACAAGGAGATCTCGCTANGTNGAGAN\t#<AFFAFJJJJJJJJJJJJFFFFJJFJJJFJJJJJJJJFF#JJ#JJJA#\tYT:Z:UU\n"
     ]
    }
   ],
   "source": [
    "%%bash\n",
    "cd ~//downloads/hisat_out\n",
    "awk '/^SRR/' SRR5454079.sam | head"
   ]
  },
  {
   "cell_type": "markdown",
   "metadata": {},
   "source": [
    "**Print the first few reads that aligned to the mitochondrial genome**  \n",
    "```bash\n",
    "%%bash  \n",
    "cd ../Downloads/hisat_out  \n",
    "awk '{if ($3 == \"MT\") {print}}' SRR5454079.sam | head\n",
    "```"
   ]
  },
  {
   "cell_type": "code",
   "execution_count": 8,
   "metadata": {},
   "outputs": [
    {
     "name": "stdout",
     "output_type": "stream",
     "text": [
      "SRR5454079.34\t16\tMT\t1502\t60\t50M\t*\t0\t0\tAGTATACTTCAAAGGACATTTAACTAAAACCCCTACGCATTTATATAGAN\tJJJJJJJJJJJJJJJJJJJJJJJJJJJJJJJJJJJJJJJJJJJJJFFAA#\tAS:i:-2\tZS:i:-2\tXN:i:0\tXM:i:1\tXO:i:0\tXG:i:0\tNM:i:1\tMD:Z:49G0\tYT:Z:UU\tNH:i:1\n",
      "SRR5454079.122\t16\tMT\t13112\t60\t49M\t*\t0\t0\tTACTCATCCGCTTCCACCCCCTAGCAGAAAATAGCCCACTAATCCAAAN\tJJJJJJJJJJJJJJJJJJJJJFJJJJJJJJJJJJJJJJJJJJFJFFAA#\tAS:i:-2\tZS:i:-2\tXN:i:0\tXM:i:1\tXO:i:0\tXG:i:0\tNM:i:1\tMD:Z:48C0\tYT:Z:UU\tNH:i:1\n",
      "SRR5454079.126\t16\tMT\t13031\t60\t50M\t*\t0\t0\tGACTCCCCTCAGCCATAGAAGGCCCCACCCCAGTCTCAGCCCTACTCCAN\tJJJJJJJJFJJJJJJJJJJJJJJJJJJJJJJJJFJJJJJJJJJJJFFAA#\tAS:i:-2\tZS:i:-2\tXN:i:0\tXM:i:1\tXO:i:0\tXG:i:0\tNM:i:1\tMD:Z:49C0\tYT:Z:UU\tNH:i:1\n",
      "SRR5454079.137\t16\tMT\t7212\t60\t50M\t*\t0\t0\tCCCCGACGTTACTCGGACTACCCCGATGCATACACCACATGAAACATCCN\tJJFF<AA7JJJ<JA<FAJF<7FJFJFJFJFJJFA7JJFJAJFJFAA<AA#\tAS:i:-2\tZS:i:-2\tXN:i:0\tXM:i:1\tXO:i:0\tXG:i:0\tNM:i:1\tMD:Z:49T0\tYT:Z:UU\tNH:i:1\n",
      "SRR5454079.178\t16\tMT\t8920\t60\t50M\t*\t0\t0\tGGCACACCTACACCCCTTATCCCCATACTAGTTATTATCGAAACCATCAN\tJJJJJJJJJJJFJJJJJJJJJJJJJJJJJJJJJJJJJJJJJJJJJFAAA#\tAS:i:-2\tZS:i:-2\tXN:i:0\tXM:i:1\tXO:i:0\tXG:i:0\tNM:i:1\tMD:Z:49G0\tYT:Z:UU\tNH:i:1\n",
      "SRR5454079.196\t16\tMT\t13406\t60\t2S47M1S\t*\t0\t0\tAAGAAAAATAGGAGGACTACTCAAAACCATACCTCTCACTTCAACCTCCN\t---JJJJJJJJJJJJJJJJJJJJJJJJJJJJJJJJJJJJJJJJJJFFAA#\tAS:i:-3\tZS:i:-4\tXN:i:0\tXM:i:0\tXO:i:0\tXG:i:0\tNM:i:0\tMD:Z:47\tYT:Z:UU\tNH:i:1\n",
      "SRR5454079.249\t16\tMT\t2039\t60\t50M\t*\t0\t0\tAGTTCAACTTTAAATTTGCCCACAGAACCCTCTAAATCCCCTTGTAAATT\tJJJJJJJJJJJJJJJJJJJJJJJJJJJJJJJJJJJJJJJJJJJJJFFFAA\tAS:i:0\tXN:i:0\tXM:i:0\tXO:i:0\tXG:i:0\tNM:i:0\tMD:Z:50\tYT:Z:UU\tNH:i:1\n",
      "SRR5454079.282\t272\tMT\t6587\t1\t50M\t*\t0\t0\tCATTCTATACCAACACCTATTCTGATTTTTCGGTCACCCTGAAGTTTATA\tJJJJJJJJJJJJJJFJJJJJJJJJJJJJJJJJJJJJJJJJJJJJJFFAAA\tAS:i:0\tZS:i:0\tXN:i:0\tXM:i:0\tXO:i:0\tXG:i:0\tNM:i:0\tMD:Z:50\tYT:Z:UU\tNH:i:2\n",
      "SRR5454079.297\t16\tMT\t7246\t60\t50M\t*\t0\t0\tCCACATGAAACATCCTATCATCTGTAGGCTCATTCATTTCTCTAACAGCA\tJJJJJJJJJJJJJJJJJJJJJJJJJJJJJJJJFJJJJJJJJJJJJFFFAA\tAS:i:0\tXN:i:0\tXM:i:0\tXO:i:0\tXG:i:0\tNM:i:0\tMD:Z:50\tYT:Z:UU\tNH:i:1\n",
      "SRR5454079.320\t16\tMT\t6195\t60\t50M\t*\t0\t0\tAACAACATAAGCTTCTGACTCTTACCTCCCTCTCTCCTACTCCTGCCCGC\tJFJJJJJFAJJFJJJJJJJJJJJJJJFJJJJJJJJJJFAFJJJFJFFFAA\tAS:i:-5\tZS:i:-7\tXN:i:0\tXM:i:1\tXO:i:0\tXG:i:0\tNM:i:1\tMD:Z:46T3\tYT:Z:UU\tNH:i:1\n"
     ]
    }
   ],
   "source": [
    "%%bash  \n",
    "cd ~/downloads/hisat_out  \n",
    "awk '{if ($3 == \"MT\") {print}}' SRR5454079.sam | head"
   ]
  },
  {
   "cell_type": "markdown",
   "metadata": {},
   "source": [
    "**Exercises**   \n",
    "1) How many reads mapped to chromosome 20?  \n",
    "2) Find the 76th read in the SAM file. Where did it map in the human genome? Now use blastn to map the read. Do the results agree with each other?  \n",
    "3) Inspect the reference genome details in the SAM header. Beyond chromosomes, what else is included in the reference?"
   ]
  },
  {
   "cell_type": "code",
   "execution_count": 9,
   "metadata": {},
   "outputs": [
    {
     "name": "stdout",
     "output_type": "stream",
     "text": [
      "SRR5454079.76\t16\t20\t327964\t60\t50M\t*\t0\t0\tATACAGCGGGAAAAACTGAGGCACTTTGGTGCTAGGGGTTTGGGACTGAN\tJJJJJJJJJJJJJJJJJJJJJJJJJJJJJJJJJJJJJJJJJJJJJFFAA#\tAS:i:-2\tZS:i:-2\tXN:i:0\tXM:i:1\tXO:i:0\tXG:i:0\tNM:i:1\tMD:Z:49G0\tYT:Z:UU\tNH:i:1\n",
      "SRR5454079.206\t0\t20\t36046870\t60\t1S49M\t*\t0\t0\tNCCAATGAATAGTCTGCATTCGCTCCTAAGCATCAAGTTTTAACAATTCC\t#AAFFJJJJJJJJJJJJJJJJJJJJJJJJJJJJJJJJJJJJJJJJJJJJJ\tAS:i:-1\tXN:i:0\tXM:i:0\tXO:i:0\tXG:i:0\tNM:i:0\tMD:Z:49\tYT:Z:UU\tNH:i:1\n",
      "SRR5454079.228\t256\t20\t64319067\t1\t50M\t*\t0\t0\tGTATTTATCATGCACCTTCTAGGTGTTGAGTTTGACTCTCATCTCCCATC\tAAFFFJJJJJJJJJJJJJJJJJJJJJJJJJFJJJ7FFFFJJJJJJJJAJJ\tAS:i:0\tZS:i:0\tXN:i:0\tXM:i:0\tXO:i:0\tXG:i:0\tNM:i:0\tMD:Z:50\tYT:Z:UU\tNH:i:2\n",
      "SRR5454079.265\t0\t20\t62314345\t60\t50M\t*\t0\t0\tATCGATGCTTAGGACTGCAGGGCCCGCCTCACCCAGCTGATACACCCAGT\tAAFFFJJJJJJJJJJJJJJJJJJJJJJJJJJJJJJJJJJJJJJJJJJJJJ\tAS:i:0\tXN:i:0\tXM:i:0\tXO:i:0\tXG:i:0\tNM:i:0\tMD:Z:50\tYT:Z:UU\tNH:i:1\n",
      "SRR5454079.322\t16\t20\t32848932\t60\t50M\t*\t0\t0\tGTATTAACACCTAGTTGGTTCACCTGGAAAACAGAGAGGCTGACCGTGGG\tJJJJJJJJJJJJJJJJJJJJJJJJJJJJJJJJJJJJJJJJJJJJJFFFAA\tAS:i:0\tXN:i:0\tXM:i:0\tXO:i:0\tXG:i:0\tNM:i:0\tMD:Z:50\tYT:Z:UU\tNH:i:1\n",
      "SRR5454079.329\t16\t20\t36497502\t60\t50M\t*\t0\t0\tATAGACGCTGTTGGGCCAGGGGCCCAGGACCCAGGGCCCTTGAGCCATGG\tJJJJJJJJJJJJJJJJJJJJJJJJJJJJJJJJJJJJJJJJJJJJJFFFAA\tAS:i:0\tXN:i:0\tXM:i:0\tXO:i:0\tXG:i:0\tNM:i:0\tMD:Z:50\tYT:Z:UU\tNH:i:1\n",
      "SRR5454079.489\t16\t20\t33646289\t60\t50M\t*\t0\t0\tCATGCCCGGCCTGTCTTTTTGGTTTTGATGGGAGTCTGAGGACCCCGACC\tJJJJJJJJJJJJJJJJJJJJJJJJJJJJJJJJJJJJJJJJJJJJJFFFAA\tAS:i:0\tXN:i:0\tXM:i:0\tXO:i:0\tXG:i:0\tNM:i:0\tMD:Z:50\tYT:Z:UU\tNH:i:1\n",
      "SRR5454079.528\t16\t20\t45812772\t60\t25M640N25M\t*\t0\t0\tCCGCCCGGGGTCCGGTGGGCAAAAGGCTACAGCAGGAGCTGATGACCCTC\tJJJJJJJJJJJJJJJJJJJJJJJJJJJJJJJJJJJJJJJJJJJJJFFFAA\tAS:i:0\tXN:i:0\tXM:i:0\tXO:i:0\tXG:i:0\tNM:i:0\tMD:Z:50\tYT:Z:UU\tXS:A:+\tNH:i:1\n",
      "SRR5454079.532\t16\t20\t56638403\t60\t49M1S\t*\t0\t0\tGATCAACAATACCTTTTTTTTCAGTGTTAAGGTAATGGTTGGTTTTTGTA\tJJJJJJJJJJJJJJJJJJJJJJFJJJJJJJJFJJJJJJJJJJJJJFFFAA\tAS:i:-2\tXN:i:0\tXM:i:0\tXO:i:0\tXG:i:0\tNM:i:0\tMD:Z:49\tYT:Z:UU\tNH:i:1\n",
      "SRR5454079.561\t16\t20\t64214482\t60\t50M\t*\t0\t0\tAGTAAGTGCCACAAATAAGGCCAGAGGCTCAGAGAGTTGCCCAAGGCCAC\tJJJJJJJJJJJJJJJJJJJJJJJJJJJJJJJJJJJJJJJJJJJJJFFFAA\tAS:i:0\tXN:i:0\tXM:i:0\tXO:i:0\tXG:i:0\tNM:i:0\tMD:Z:50\tYT:Z:UU\tNH:i:1\n"
     ]
    }
   ],
   "source": [
    "%%bash  \n",
    "cd ~/downloads/hisat_out  \n",
    "awk '{if ($3 == \"20\") {print}}' SRR5454079.sam | head"
   ]
  },
  {
   "cell_type": "code",
   "execution_count": 10,
   "metadata": {},
   "outputs": [
    {
     "name": "stdout",
     "output_type": "stream",
     "text": [
      "SRR5454079.76\t16\t20\t327964\t60\t50M\t*\t0\t0\tATACAGCGGGAAAAACTGAGGCACTTTGGTGCTAGGGGTTTGGGACTGAN\tJJJJJJJJJJJJJJJJJJJJJJJJJJJJJJJJJJJJJJJJJJJJJFFAA#\tAS:i:-2\tZS:i:-2\tXN:i:0\tXM:i:1\tXO:i:0\tXG:i:0\tNM:i:1\tMD:Z:49G0\tYT:Z:UU\tNH:i:1\n"
     ]
    },
    {
     "name": "stderr",
     "output_type": "stream",
     "text": [
      "grep: write error: Broken pipe\n"
     ]
    }
   ],
   "source": [
    "%%bash  \n",
    "cd ~/downloads/hisat_out  \n",
    "grep SRR5454079.76 ./SRR5454079.sam | head -n 1"
   ]
  },
  {
   "cell_type": "markdown",
   "metadata": {},
   "source": [
    "Mapped to 20 chromosome"
   ]
  },
  {
   "cell_type": "code",
   "execution_count": 12,
   "metadata": {},
   "outputs": [
    {
     "name": "stdout",
     "output_type": "stream",
     "text": [
      "@HD\tVN:1.0\tSO:unsorted\n",
      "@SQ\tSN:1\tLN:248956422\n",
      "@SQ\tSN:10\tLN:133797422\n",
      "@SQ\tSN:11\tLN:135086622\n",
      "@SQ\tSN:12\tLN:133275309\n",
      "@SQ\tSN:13\tLN:114364328\n",
      "@SQ\tSN:14\tLN:107043718\n",
      "@SQ\tSN:15\tLN:101991189\n",
      "@SQ\tSN:16\tLN:90338345\n",
      "@SQ\tSN:17\tLN:83257441\n",
      "@SQ\tSN:18\tLN:80373285\n",
      "@SQ\tSN:19\tLN:58617616\n",
      "@SQ\tSN:2\tLN:242193529\n",
      "@SQ\tSN:20\tLN:64444167\n",
      "@SQ\tSN:21\tLN:46709983\n",
      "@SQ\tSN:22\tLN:50818468\n",
      "@SQ\tSN:3\tLN:198295559\n",
      "@SQ\tSN:4\tLN:190214555\n",
      "@SQ\tSN:5\tLN:181538259\n",
      "@SQ\tSN:6\tLN:170805979\n",
      "@SQ\tSN:7\tLN:159345973\n",
      "@SQ\tSN:8\tLN:145138636\n",
      "@SQ\tSN:9\tLN:138394717\n",
      "@SQ\tSN:MT\tLN:16569\n",
      "@SQ\tSN:X\tLN:156040895\n",
      "@SQ\tSN:Y\tLN:57227415\n",
      "@SQ\tSN:KI270728.1\tLN:1872759\n",
      "@SQ\tSN:KI270727.1\tLN:448248\n",
      "@SQ\tSN:KI270442.1\tLN:392061\n",
      "@SQ\tSN:KI270729.1\tLN:280839\n",
      "@SQ\tSN:GL000225.1\tLN:211173\n",
      "@SQ\tSN:KI270743.1\tLN:210658\n",
      "@SQ\tSN:GL000008.2\tLN:209709\n",
      "@SQ\tSN:GL000009.2\tLN:201709\n",
      "@SQ\tSN:KI270747.1\tLN:198735\n",
      "@SQ\tSN:KI270722.1\tLN:194050\n",
      "@SQ\tSN:GL000194.1\tLN:191469\n",
      "@SQ\tSN:KI270742.1\tLN:186739\n",
      "@SQ\tSN:GL000205.2\tLN:185591\n",
      "@SQ\tSN:GL000195.1\tLN:182896\n",
      "@SQ\tSN:KI270736.1\tLN:181920\n",
      "@SQ\tSN:KI270733.1\tLN:179772\n",
      "@SQ\tSN:GL000224.1\tLN:179693\n",
      "@SQ\tSN:GL000219.1\tLN:179198\n",
      "@SQ\tSN:KI270719.1\tLN:176845\n",
      "@SQ\tSN:GL000216.2\tLN:176608\n",
      "@SQ\tSN:KI270712.1\tLN:176043\n",
      "@SQ\tSN:KI270706.1\tLN:175055\n",
      "@SQ\tSN:KI270725.1\tLN:172810\n",
      "@SQ\tSN:KI270744.1\tLN:168472\n"
     ]
    }
   ],
   "source": [
    "%%bash\n",
    "cd ~/downloads/hisat_out  \n",
    "head SRR5454079.sam -n 50"
   ]
  },
  {
   "cell_type": "markdown",
   "metadata": {},
   "source": [
    "Also referenced to unlocalized genomic contig"
   ]
  },
  {
   "cell_type": "markdown",
   "metadata": {},
   "source": [
    "**Check how many reads were uncounted due to multimapping (alignment not unique)**\n",
    "```bash\n",
    "%%bash\n",
    "cd Unit2-RNAseq/data\n",
    "tail SRR5454102_genecounts.txt\n",
    "```"
   ]
  },
  {
   "cell_type": "code",
   "execution_count": 16,
   "metadata": {},
   "outputs": [
    {
     "name": "stdout",
     "output_type": "stream",
     "text": [
      "ENSG00000285990\t0\n",
      "ENSG00000285991\t1\n",
      "ENSG00000285992\t0\n",
      "ENSG00000285993\t0\n",
      "ENSG00000285994\t2\n",
      "__no_feature\t3712490\n",
      "__ambiguous\t589511\n",
      "__too_low_aQual\t0\n",
      "__not_aligned\t1202625\n",
      "__alignment_not_unique\t7178464\n"
     ]
    }
   ],
   "source": [
    "\n",
    "%%bash\n",
    "cd ~/ABABhwk/Unit2-RNAseq/data\n",
    "tail SRR5454102_genecounts.txt\n"
   ]
  },
  {
   "cell_type": "markdown",
   "metadata": {},
   "source": [
    "**Check how many Ensembl genes have zero expression**  \n",
    "Spot and correct the mistake\n",
    "```bash\n",
    "%%bash\n",
    "cd Unit2-RNAseq/data\n",
    "awk '{if ($2 == 0) print }' SRR5454102_genecounts.txt  | wc -l\n",
    "```"
   ]
  },
  {
   "cell_type": "code",
   "execution_count": 17,
   "metadata": {},
   "outputs": [
    {
     "name": "stdout",
     "output_type": "stream",
     "text": [
      "31132\n"
     ]
    }
   ],
   "source": [
    "%%bash\n",
    "cd ~/ABABhwk/Unit2-RNAseq/data\n",
    "awk '{if ($2 == 0) print }' SRR5454102_genecounts.txt  | wc -l"
   ]
  },
  {
   "cell_type": "markdown",
   "metadata": {},
   "source": [
    "**HOMEWORK**  \n",
    "1) Use awk to check the number of columns in the SAM file for all rows and print only the unique column counts. *HINT*: revisit Unit 1   \n",
    "2) Count how many reads from SRR5454079 mapped to chromosome 20 with 2 soft-clipped bases at the start of the read. *HINT*: Consult the SAM documentation on CIGAR strings.  \n",
    "3) Using the human transcriptome annotations by Ensembl, calculate counts per gene in the bam file for SRR5454079 and print the first 10 lines (use -s reverse)"
   ]
  },
  {
   "cell_type": "code",
   "execution_count": 1,
   "metadata": {},
   "outputs": [
    {
     "name": "stdout",
     "output_type": "stream",
     "text": [
      " 810879 12\n",
      "  22859 13\n",
      "13316252 20\n",
      "9549841 21\n",
      " 443098 22\n",
      "    195 3\n",
      "      1 5\n"
     ]
    }
   ],
   "source": [
    "%%bash\n",
    "cd ~/downloads/hisat_out \n",
    "awk 'BEGIN{FS=\"\\t\"}{print NF}' SRR5454079.sam | sort | uniq -c"
   ]
  },
  {
   "cell_type": "code",
   "execution_count": 8,
   "metadata": {},
   "outputs": [
    {
     "name": "stdout",
     "output_type": "stream",
     "text": [
      "5725\n"
     ]
    }
   ],
   "source": [
    "%%bash  \n",
    "cd ~/downloads/hisat_out  \n",
    "awk '{if ($3 == \"20\") {print}}' SRR5454079.sam | awk '{if ($6 ~ /^2S/) {print}}' | wc -l"
   ]
  },
  {
   "cell_type": "code",
   "execution_count": 13,
   "metadata": {},
   "outputs": [
    {
     "name": "stderr",
     "output_type": "stream",
     "text": [
      "100000 GFF lines processed.\n",
      "200000 GFF lines processed.\n",
      "300000 GFF lines processed.\n",
      "400000 GFF lines processed.\n",
      "500000 GFF lines processed.\n",
      "600000 GFF lines processed.\n",
      "700000 GFF lines processed.\n",
      "800000 GFF lines processed.\n",
      "900000 GFF lines processed.\n",
      "1000000 GFF lines processed.\n",
      "1100000 GFF lines processed.\n",
      "1200000 GFF lines processed.\n",
      "1300000 GFF lines processed.\n",
      "1400000 GFF lines processed.\n",
      "1500000 GFF lines processed.\n",
      "1600000 GFF lines processed.\n",
      "1700000 GFF lines processed.\n",
      "1800000 GFF lines processed.\n",
      "1900000 GFF lines processed.\n",
      "2000000 GFF lines processed.\n",
      "2100000 GFF lines processed.\n",
      "2200000 GFF lines processed.\n",
      "2300000 GFF lines processed.\n",
      "2400000 GFF lines processed.\n",
      "2500000 GFF lines processed.\n",
      "2600000 GFF lines processed.\n",
      "2700000 GFF lines processed.\n",
      "2737559 GFF lines processed.\n",
      "100000 SAM alignment records processed.\n",
      "200000 SAM alignment records processed.\n",
      "300000 SAM alignment records processed.\n",
      "400000 SAM alignment records processed.\n",
      "500000 SAM alignment records processed.\n",
      "600000 SAM alignment records processed.\n",
      "700000 SAM alignment records processed.\n",
      "800000 SAM alignment records processed.\n",
      "900000 SAM alignment records processed.\n",
      "1000000 SAM alignment records processed.\n",
      "1100000 SAM alignment records processed.\n",
      "1200000 SAM alignment records processed.\n",
      "1300000 SAM alignment records processed.\n",
      "1400000 SAM alignment records processed.\n",
      "1500000 SAM alignment records processed.\n",
      "1600000 SAM alignment records processed.\n",
      "1700000 SAM alignment records processed.\n",
      "1800000 SAM alignment records processed.\n",
      "1900000 SAM alignment records processed.\n",
      "2000000 SAM alignment records processed.\n",
      "2100000 SAM alignment records processed.\n",
      "2200000 SAM alignment records processed.\n",
      "2300000 SAM alignment records processed.\n",
      "2400000 SAM alignment records processed.\n",
      "2500000 SAM alignment records processed.\n",
      "2600000 SAM alignment records processed.\n",
      "2700000 SAM alignment records processed.\n",
      "2800000 SAM alignment records processed.\n",
      "2900000 SAM alignment records processed.\n",
      "3000000 SAM alignment records processed.\n",
      "3100000 SAM alignment records processed.\n",
      "3200000 SAM alignment records processed.\n",
      "3300000 SAM alignment records processed.\n",
      "3400000 SAM alignment records processed.\n",
      "3500000 SAM alignment records processed.\n",
      "3600000 SAM alignment records processed.\n",
      "3700000 SAM alignment records processed.\n",
      "3800000 SAM alignment records processed.\n",
      "3900000 SAM alignment records processed.\n",
      "4000000 SAM alignment records processed.\n",
      "4100000 SAM alignment records processed.\n",
      "4200000 SAM alignment records processed.\n",
      "4300000 SAM alignment records processed.\n",
      "4400000 SAM alignment records processed.\n",
      "4500000 SAM alignment records processed.\n",
      "4600000 SAM alignment records processed.\n",
      "4700000 SAM alignment records processed.\n",
      "4800000 SAM alignment records processed.\n",
      "4900000 SAM alignment records processed.\n",
      "5000000 SAM alignment records processed.\n",
      "5100000 SAM alignment records processed.\n",
      "5200000 SAM alignment records processed.\n",
      "5300000 SAM alignment records processed.\n",
      "5400000 SAM alignment records processed.\n",
      "5500000 SAM alignment records processed.\n",
      "5600000 SAM alignment records processed.\n",
      "5700000 SAM alignment records processed.\n",
      "5800000 SAM alignment records processed.\n",
      "5900000 SAM alignment records processed.\n",
      "6000000 SAM alignment records processed.\n",
      "6100000 SAM alignment records processed.\n",
      "6200000 SAM alignment records processed.\n",
      "6300000 SAM alignment records processed.\n",
      "6400000 SAM alignment records processed.\n",
      "6500000 SAM alignment records processed.\n",
      "6600000 SAM alignment records processed.\n",
      "6700000 SAM alignment records processed.\n",
      "6800000 SAM alignment records processed.\n",
      "6900000 SAM alignment records processed.\n",
      "7000000 SAM alignment records processed.\n",
      "7100000 SAM alignment records processed.\n",
      "7200000 SAM alignment records processed.\n",
      "7300000 SAM alignment records processed.\n",
      "7400000 SAM alignment records processed.\n",
      "7500000 SAM alignment records processed.\n",
      "7600000 SAM alignment records processed.\n",
      "7700000 SAM alignment records processed.\n",
      "7800000 SAM alignment records processed.\n",
      "7900000 SAM alignment records processed.\n",
      "8000000 SAM alignment records processed.\n",
      "8100000 SAM alignment records processed.\n",
      "8200000 SAM alignment records processed.\n",
      "8300000 SAM alignment records processed.\n",
      "8400000 SAM alignment records processed.\n",
      "8500000 SAM alignment records processed.\n",
      "8600000 SAM alignment records processed.\n",
      "8700000 SAM alignment records processed.\n",
      "8800000 SAM alignment records processed.\n",
      "8900000 SAM alignment records processed.\n",
      "9000000 SAM alignment records processed.\n",
      "9100000 SAM alignment records processed.\n",
      "9200000 SAM alignment records processed.\n",
      "9300000 SAM alignment records processed.\n",
      "9400000 SAM alignment records processed.\n",
      "9500000 SAM alignment records processed.\n",
      "9600000 SAM alignment records processed.\n",
      "9700000 SAM alignment records processed.\n",
      "9800000 SAM alignment records processed.\n",
      "9900000 SAM alignment records processed.\n",
      "10000000 SAM alignment records processed.\n",
      "10100000 SAM alignment records processed.\n",
      "10200000 SAM alignment records processed.\n",
      "10300000 SAM alignment records processed.\n",
      "10400000 SAM alignment records processed.\n",
      "10500000 SAM alignment records processed.\n",
      "10600000 SAM alignment records processed.\n",
      "10700000 SAM alignment records processed.\n",
      "10800000 SAM alignment records processed.\n",
      "10900000 SAM alignment records processed.\n",
      "11000000 SAM alignment records processed.\n",
      "11100000 SAM alignment records processed.\n",
      "11200000 SAM alignment records processed.\n",
      "11300000 SAM alignment records processed.\n",
      "11400000 SAM alignment records processed.\n",
      "11500000 SAM alignment records processed.\n",
      "11600000 SAM alignment records processed.\n",
      "11700000 SAM alignment records processed.\n",
      "11800000 SAM alignment records processed.\n",
      "11900000 SAM alignment records processed.\n",
      "12000000 SAM alignment records processed.\n",
      "12100000 SAM alignment records processed.\n",
      "12200000 SAM alignment records processed.\n",
      "12300000 SAM alignment records processed.\n",
      "12400000 SAM alignment records processed.\n",
      "12500000 SAM alignment records processed.\n",
      "12600000 SAM alignment records processed.\n",
      "12700000 SAM alignment records processed.\n",
      "12800000 SAM alignment records processed.\n",
      "12900000 SAM alignment records processed.\n",
      "13000000 SAM alignment records processed.\n",
      "13100000 SAM alignment records processed.\n",
      "13200000 SAM alignment records processed.\n",
      "13300000 SAM alignment records processed.\n",
      "13400000 SAM alignment records processed.\n",
      "13500000 SAM alignment records processed.\n",
      "13600000 SAM alignment records processed.\n",
      "13700000 SAM alignment records processed.\n",
      "13800000 SAM alignment records processed.\n",
      "13900000 SAM alignment records processed.\n",
      "14000000 SAM alignment records processed.\n",
      "14100000 SAM alignment records processed.\n",
      "14200000 SAM alignment records processed.\n",
      "14300000 SAM alignment records processed.\n",
      "14400000 SAM alignment records processed.\n",
      "14500000 SAM alignment records processed.\n",
      "14600000 SAM alignment records processed.\n",
      "14700000 SAM alignment records processed.\n",
      "14800000 SAM alignment records processed.\n",
      "14900000 SAM alignment records processed.\n",
      "15000000 SAM alignment records processed.\n",
      "15100000 SAM alignment records processed.\n",
      "15200000 SAM alignment records processed.\n",
      "15300000 SAM alignment records processed.\n",
      "15400000 SAM alignment records processed.\n",
      "15500000 SAM alignment records processed.\n",
      "15600000 SAM alignment records processed.\n",
      "15700000 SAM alignment records processed.\n",
      "15800000 SAM alignment records processed.\n",
      "15900000 SAM alignment records processed.\n",
      "16000000 SAM alignment records processed.\n",
      "16100000 SAM alignment records processed.\n",
      "16200000 SAM alignment records processed.\n",
      "16300000 SAM alignment records processed.\n",
      "16400000 SAM alignment records processed.\n",
      "16500000 SAM alignment records processed.\n",
      "16600000 SAM alignment records processed.\n",
      "16700000 SAM alignment records processed.\n",
      "16800000 SAM alignment records processed.\n",
      "16900000 SAM alignment records processed.\n",
      "17000000 SAM alignment records processed.\n",
      "17100000 SAM alignment records processed.\n",
      "17200000 SAM alignment records processed.\n",
      "17300000 SAM alignment records processed.\n",
      "17400000 SAM alignment records processed.\n",
      "17500000 SAM alignment records processed.\n",
      "17600000 SAM alignment records processed.\n",
      "17700000 SAM alignment records processed.\n",
      "17800000 SAM alignment records processed.\n",
      "17900000 SAM alignment records processed.\n",
      "18000000 SAM alignment records processed.\n",
      "18100000 SAM alignment records processed.\n",
      "18200000 SAM alignment records processed.\n",
      "18300000 SAM alignment records processed.\n",
      "18400000 SAM alignment records processed.\n",
      "18500000 SAM alignment records processed.\n",
      "18600000 SAM alignment records processed.\n",
      "18700000 SAM alignment records processed.\n",
      "18800000 SAM alignment records processed.\n",
      "18900000 SAM alignment records processed.\n",
      "19000000 SAM alignment records processed.\n",
      "19100000 SAM alignment records processed.\n",
      "19200000 SAM alignment records processed.\n",
      "19300000 SAM alignment records processed.\n",
      "19400000 SAM alignment records processed.\n",
      "19500000 SAM alignment records processed.\n",
      "19600000 SAM alignment records processed.\n",
      "19700000 SAM alignment records processed.\n",
      "19800000 SAM alignment records processed.\n",
      "19900000 SAM alignment records processed.\n",
      "20000000 SAM alignment records processed.\n",
      "20100000 SAM alignment records processed.\n",
      "20200000 SAM alignment records processed.\n",
      "20300000 SAM alignment records processed.\n",
      "20400000 SAM alignment records processed.\n",
      "20500000 SAM alignment records processed.\n",
      "20600000 SAM alignment records processed.\n",
      "20700000 SAM alignment records processed.\n",
      "20800000 SAM alignment records processed.\n",
      "20900000 SAM alignment records processed.\n",
      "21000000 SAM alignment records processed.\n",
      "21100000 SAM alignment records processed.\n",
      "21200000 SAM alignment records processed.\n",
      "21300000 SAM alignment records processed.\n",
      "21400000 SAM alignment records processed.\n",
      "21500000 SAM alignment records processed.\n",
      "21600000 SAM alignment records processed.\n",
      "21700000 SAM alignment records processed.\n",
      "21800000 SAM alignment records processed.\n",
      "21900000 SAM alignment records processed.\n",
      "22000000 SAM alignment records processed.\n",
      "22100000 SAM alignment records processed.\n",
      "22200000 SAM alignment records processed.\n",
      "22300000 SAM alignment records processed.\n",
      "22400000 SAM alignment records processed.\n",
      "22500000 SAM alignment records processed.\n",
      "22600000 SAM alignment records processed.\n",
      "22700000 SAM alignment records processed.\n",
      "22800000 SAM alignment records processed.\n",
      "22900000 SAM alignment records processed.\n",
      "23000000 SAM alignment records processed.\n",
      "23100000 SAM alignment records processed.\n",
      "23200000 SAM alignment records processed.\n",
      "23300000 SAM alignment records processed.\n",
      "23400000 SAM alignment records processed.\n",
      "23500000 SAM alignment records processed.\n",
      "23600000 SAM alignment records processed.\n",
      "23700000 SAM alignment records processed.\n",
      "23800000 SAM alignment records processed.\n",
      "23900000 SAM alignment records processed.\n",
      "24000000 SAM alignment records processed.\n",
      "24100000 SAM alignment records processed.\n",
      "24142929 SAM alignments  processed.\n"
     ]
    }
   ],
   "source": [
    "%%bash\n",
    "htseq-count -f bam -s reverse /home/yuwang/downloads/hisat_out/SRR5454079.bam /home/yuwang/downloads/Homo_sapiens.GRCh38.94.gtf > /home/yuwang/downloads/hisat_out/SRR5454079_count.txt"
   ]
  },
  {
   "cell_type": "code",
   "execution_count": 15,
   "metadata": {},
   "outputs": [
    {
     "name": "stdout",
     "output_type": "stream",
     "text": [
      "ENSG00000000003\t433\n",
      "ENSG00000000005\t1\n",
      "ENSG00000000419\t247\n",
      "ENSG00000000457\t194\n",
      "ENSG00000000460\t168\n",
      "ENSG00000000938\t5\n",
      "ENSG00000000971\t1\n",
      "ENSG00000001036\t224\n",
      "ENSG00000001084\t427\n",
      "ENSG00000001167\t1040\n"
     ]
    }
   ],
   "source": [
    "%%bash\n",
    "head -n 10 /home/yuwang/downloads/hisat_out/SRR5454079_count.txt"
   ]
  }
 ],
 "metadata": {
  "kernelspec": {
   "display_name": "Python 3",
   "language": "python",
   "name": "python3"
  },
  "language_info": {
   "codemirror_mode": {
    "name": "ipython",
    "version": 2
   },
   "file_extension": ".py",
   "mimetype": "text/x-python",
   "name": "python",
   "nbconvert_exporter": "python",
   "pygments_lexer": "ipython2",
   "version": "2.7.15rc1"
  }
 },
 "nbformat": 4,
 "nbformat_minor": 2
}
