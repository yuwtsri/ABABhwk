{
 "cells": [
  {
   "cell_type": "markdown",
   "metadata": {},
   "source": [
    "## Applied Bioinformatics Unit 2 Module 1: RNA-seq\n",
    "### Notebook 3.1: Raw data"
   ]
  },
  {
   "cell_type": "markdown",
   "metadata": {},
   "source": [
    "### Using the SRA toolkit to sample a raw file\n",
    "Use `fastq-dump` to print the first 5 'spots' of a run archive SRR5830139\n",
    "```\n",
    "# cd into directory containing the sratoolkit folder\n",
    "cd /mnt/c/Users/Jerry/Downloads\n",
    "\n",
    "sratoolkit.2.9.2-ubuntu64/bin/fastq-dump --split-files -X 5 -Z SRR5830139\n",
    "```"
   ]
  },
  {
   "cell_type": "code",
   "execution_count": 1,
   "metadata": {},
   "outputs": [
    {
     "name": "stdout",
     "output_type": "stream",
     "text": [
      "@SRR5454079.1 1 length=49\n",
      "NTCTTTCAGGTTTAGTTAGACGTCCTCCAAAAAGAGGCCANAANTCACC\n",
      "+SRR5454079.1 1 length=49\n",
      "#AAAFFJJJJJFAF-FAFAJJJ7JJFJJJJJJJJJJ<FJJ#JJ#JJJJJ\n",
      "@SRR5454079.2 2 length=50\n",
      "NTGCGCGTGCAGCCCCGGACATCTAAGGGCATCACAGACCNGTNATTGNT\n",
      "+SRR5454079.2 2 length=50\n",
      "#AAAFJJJJJJJJJJJJJJJJJFJJJJJFJJFJJJJJJJJ#JJ#JJJJ#J\n",
      "@SRR5454079.3 3 length=50\n",
      "NAAGATAATTGCTTTGGTCATCTGTAAGTCACTTTAGCCANTGNGTCTNC\n",
      "+SRR5454079.3 3 length=50\n",
      "#AAFFJJJJJJJJJJJJJJFJJJJJJJJJJJJJJJJJJJJ#JJ#JJJJ#J\n",
      "@SRR5454079.4 4 length=49\n",
      "NTGGATTGCCTGAGGTCAGGAATTCGAGGCCAGTCTGGCCNACNTGATN\n",
      "+SRR5454079.4 4 length=49\n",
      "#AAFFJJJJJJJJJJJJJJJJJJJJJJJJJJJJJJJJJJJ#JJ#JJJJ#\n",
      "@SRR5454079.5 5 length=50\n",
      "NGGCAATGCAAACAGCAATCCTACATAATGTAGAATAATTNTTNTTCTNT\n",
      "+SRR5454079.5 5 length=50\n",
      "#AAFFJJJJJJJJJJJJJJJJJJJJJJJJJJJJJJJJJJJ#JJ#JJJJ#J\n",
      "@SRR5454079.6 6 length=50\n",
      "NTCCGGATGCGTTGCTCATTTGTCATTTTCATAGGCAGCTNGANTCTTNC\n",
      "+SRR5454079.6 6 length=50\n",
      "#AAFFJJJJJJJJJJJJJJJJJJJJJJJJJJJJJJJJJJJ#JJ#JJJJ#J\n"
     ]
    },
    {
     "name": "stderr",
     "output_type": "stream",
     "text": [
      "2018-10-30T06:25:18 fastq-dump.2.9.2 warn: stdout mode is set, some options are ignored\n",
      "Rejected 6 READS because READLEN < 1\n",
      "Read 6 spots for SRR5454079\n",
      "Written 6 spots for SRR5454079\n"
     ]
    }
   ],
   "source": [
    "%%bash\n",
    "cd\n",
    "./downloads/sratoolkit.2.9.2-ubuntu64/bin/fastq-dump --split-files -X 6 -Z SRR5454079 -O ~/data/hw3.1"
   ]
  },
  {
   "cell_type": "markdown",
   "metadata": {},
   "source": [
    "### Writing to FASTQ from the SRA archive\n",
    "`fastq-dump` automatically downloads the .sra file and then writes out the reads in FASTQ format. \n",
    "NB: Watch out for the build up of .sra files on your HD!  \n",
    "\n",
    "Write the first 5 spots of SRR5454080 to FASTQ instead of standard out."
   ]
  },
  {
   "cell_type": "markdown",
   "metadata": {},
   "source": [
    "```\n",
    "%%bash\n",
    "cd /mnt/c/Users/Jerry/Downloads/\n",
    "sratoolkit.2.9.2-ubuntu64/bin/fastq-dump --split-files -X 5 SRR5454080\n",
    "ls -l SRR*\n",
    "```"
   ]
  },
  {
   "cell_type": "code",
   "execution_count": 2,
   "metadata": {},
   "outputs": [
    {
     "name": "stdout",
     "output_type": "stream",
     "text": [
      "Rejected 5 READS because READLEN < 1\n",
      "Read 5 spots for SRR5454080\n",
      "Written 5 spots for SRR5454080\n",
      "-rw-rw-r-- 1 yuwang yuwang 3341124508 Oct 29 21:06 SRR5454079_1.fastq\n"
     ]
    }
   ],
   "source": [
    "%%bash\n",
    "cd\n",
    "./downloads/sratoolkit.2.9.2-ubuntu64/bin/fastq-dump --split-files -X 5 SRR5454080 -O ~/data/hw3.1\n",
    "ls -l SRR*"
   ]
  },
  {
   "cell_type": "markdown",
   "metadata": {},
   "source": [
    "### Why are we using `--split-files`?\n",
    "Try printing the first 5 spots of this run (to std out): SRR7167720  \n",
    "What do you notice about the reads?  "
   ]
  },
  {
   "cell_type": "markdown",
   "metadata": {},
   "source": [
    "```\n",
    "%%bash  \n",
    "cd /mnt/c/Users/Jerry/Downloads  \n",
    "sratoolkit.2.9.2-ubuntu64/bin/fastq-dump --split-files -X 5 -Z SRR7167720\n",
    "```"
   ]
  },
  {
   "cell_type": "code",
   "execution_count": 3,
   "metadata": {},
   "outputs": [
    {
     "name": "stdout",
     "output_type": "stream",
     "text": [
      "Read 5 spots for SRR7167720\n",
      "Written 5 spots for SRR7167720\n"
     ]
    }
   ],
   "source": [
    "%%bash\n",
    "cd\n",
    "./downloads/sratoolkit.2.9.2-ubuntu64/bin/fastq-dump --split-files -X 5 SRR7167720 -O ~/data/hw3.1"
   ]
  },
  {
   "cell_type": "markdown",
   "metadata": {},
   "source": [
    "Now repeat without using --split-files. What is the difference?"
   ]
  },
  {
   "cell_type": "markdown",
   "metadata": {},
   "source": [
    "```\n",
    "%%bash  \n",
    "cd /mnt/c/Users/Jerry/Downloads  \n",
    "sratoolkit.2.9.2-ubuntu64/bin/fastq-dump -X 5 -Z SRR7167720\n",
    "```"
   ]
  },
  {
   "cell_type": "code",
   "execution_count": 4,
   "metadata": {},
   "outputs": [
    {
     "name": "stdout",
     "output_type": "stream",
     "text": [
      "Read 5 spots for SRR7167720\n",
      "Written 5 spots for SRR7167720\n"
     ]
    }
   ],
   "source": [
    "%%bash\n",
    "cd\n",
    "./downloads/sratoolkit.2.9.2-ubuntu64/bin/fastq-dump -X 5 SRR7167720 -O ~/data/hw3.1"
   ]
  },
  {
   "cell_type": "markdown",
   "metadata": {},
   "source": [
    "### Exercises I:\n",
    "1) What read length was used in the sequencing study _A Distinct Population of Thirst-Associated Preoptic Neurons Encodes an Aversive Motivational Drive_?\n",
    "\n",
    "2) Using bash, print the first 5 ‘spots’ of the first RNA-seq run from the study above"
   ]
  },
  {
   "cell_type": "markdown",
   "metadata": {},
   "source": [
    "1) Average read length 76"
   ]
  },
  {
   "cell_type": "code",
   "execution_count": 5,
   "metadata": {},
   "outputs": [
    {
     "name": "stdout",
     "output_type": "stream",
     "text": [
      "Read 5 spots for SRR5830640\n",
      "Written 5 spots for SRR5830640\n",
      "@SRR5830640.1 1 length=76\n",
      "GTAGCCCAGTAATCATCTTACCTCAGGCTCCCCTATCTGGCTTCATGGTACTTCCCTGATGTATTTCAGAGAAATG\n",
      "+SRR5830640.1 1 length=76\n",
      "AAAAAEEAEEEEEEEAEEEE6EE6EEEEEEEAEEEEEEEEEE/EEEEEAEEE6EA6EEAEEE/EAAA/AAE//AE/\n",
      "@SRR5830640.2 2 length=76\n",
      "ATACTATGTAGCCCACAGATTGACTCCTTCACCATCGTGTACTTGGATTGCTTCCTTGCTTCCTTCTCCTGGCAGT\n",
      "+SRR5830640.2 2 length=76\n",
      "AAAAAEEEEEEEEEEEEEEEEEEEEEEEEEAEEEEEEEEEEEEEEEEEEEEEEEEEEEEEEEEEEEEEEEEEE/EA\n",
      "@SRR5830640.3 3 length=76\n",
      "ATGCACGCATATGCTCACACACAAACTCAGACTCTGAAGTCTGGTAGCCTGTGAATGTTCCTTTTGTAAAATGCTT\n",
      "+SRR5830640.3 3 length=76\n",
      "AAAAAEEEEEEEEEEEAEEEEEEEEEEEEEAEEEEEEEEEEEEEEEEEEEEEEEEEEEEEEEEEEEA6EEEEEEEE\n",
      "@SRR5830640.4 4 length=76\n",
      "GTGCAGAGTAATGCCATCACTGCCCACTGGGAATGCAGCCCGAATAATTAATAGCCACCCCTCAGACGGAGGACCA\n",
      "+SRR5830640.4 4 length=76\n",
      "A/AAAEEEEEEEEEEEEEEEEEEEAAE<EEEEEEAEEE/EEEAEAEEEEEEEEEAAEEEEEEE/AEEEE/EEAEEE\n",
      "@SRR5830640.5 5 length=76\n",
      "CTTTAATATACGCTATTGGAGCTGGAATTACCGCGGCTGCTGGCACCAGACTTTCCCTCCAATCGATCCTCGATAA\n",
      "+SRR5830640.5 5 length=76\n",
      "AAAAA/E</EEEE<E/EEEEEEEEEEEEE//A<///EA/EEE///EEE/E<EE/A///6AEEE///EEAEEE/6</\n",
      "@SRR5830640.1 1 length=76\n",
      "ACACTGAAGATGTAAGAATTTCACCGGATATTAACAGTGCCTGAAGTTAAAACACTACCACACTTTAGCTAGATGT\n",
      "+SRR5830640.1 1 length=76\n",
      "/AAAAE/AE/AEE6<AE6EAEAAEEEE/E/A//AEAEAEE666/AA6A///E666A6A//EE//A//66//A/<A/\n",
      "@SRR5830640.2 2 length=76\n",
      "CCTCTGGGCCACGGTGGACTCGCCCTCTATAACCCTAAGCCCAAATAAACTCTCTGGCCTGTAAATTACTGGTCAT\n",
      "+SRR5830640.2 2 length=76\n",
      "AAAAAEEEEEEEEEEEEEEEEEEEEEEEEEEEEEEEEEEEEEEAAEAEEEEEEEEEEEEEEE//AEEEAAEEEEAE\n",
      "@SRR5830640.3 3 length=76\n",
      "CCTTAACCGTTTCTTTGGGGTTTCTGATGGTTAGGACAGGGTTGGAGCAAAGAGGCTTTTGGAAGCATTTTACAAA\n",
      "+SRR5830640.3 3 length=76\n",
      "AAAAAAEEEAE6AEAAAEEEEE6EEE/AEEAA6AE/A6E/EA<EA/E/666A/AEA6AA/E<//A//AA<//A///\n",
      "@SRR5830640.4 4 length=76\n",
      "CCTTGGAGGTGGAGCCCAGTGACACCATCGAGAATGTGAAGGCCAAGATCCAGGATAAAGAGGGCATCCCCCCTGA\n",
      "+SRR5830640.4 4 length=76\n",
      "AAAAAEEEEEEE6EEEEAEEEEEEEEAEEE6EEEEEEEEEEEEEAEE6EEEEEA//AEE6AEEEAEEAEEAA/<A/\n",
      "@SRR5830640.5 5 length=76\n",
      "CATCCAAGGAAGGCAGCAGGCGCGCAAATTACCCACTCCCGACCCGGGGAGGTAGTGACGAAAAATAACAAAACAG\n",
      "+SRR5830640.5 5 length=76\n",
      "/A/A//E///EEA6EE//<<<E/EE666E66///<66/E/EAAAA/E/A/</E/E//<///<A//////////E/6\n"
     ]
    }
   ],
   "source": [
    "%%bash\n",
    "cd\n",
    "./downloads/sratoolkit.2.9.2-ubuntu64/bin/fastq-dump --split-files -X 5 SRR5830640 -O ~/data/ex1\n",
    "cat ~/data/ex1/SRR*"
   ]
  },
  {
   "cell_type": "markdown",
   "metadata": {},
   "source": [
    "#### HW0"
   ]
  },
  {
   "cell_type": "markdown",
   "metadata": {},
   "source": [
    "__HW0__ Now print the first 100 ‘spots’ of the first 5 runs (alphabetically) of the study each into a separate file and quantify how many times the nucleotide adenine occurs in each one. How does this compare to the other nucleotides? What are the possible reasons?"
   ]
  },
  {
   "cell_type": "code",
   "execution_count": 27,
   "metadata": {
    "scrolled": false
   },
   "outputs": [
    {
     "name": "stdout",
     "output_type": "stream",
     "text": [
      "Read 100 spots for SRR5830640\n",
      "Written 100 spots for SRR5830640\n",
      "Read 100 spots for SRR5830639\n",
      "Written 100 spots for SRR5830639\n",
      "Read 100 spots for SRR5830638\n",
      "Written 100 spots for SRR5830638\n",
      "Read 100 spots for SRR5830637\n",
      "Written 100 spots for SRR5830637\n",
      "Read 100 spots for SRR5830636\n",
      "Written 100 spots for SRR5830636\n"
     ]
    }
   ],
   "source": [
    "%%bash\n",
    "cd\n",
    "for i in SRR5830640 SRR5830639 SRR5830638 SRR5830637 SRR5830636\n",
    "do\n",
    "    ./downloads/sratoolkit.2.9.2-ubuntu64/bin/fastq-dump --split-files -X 100 $i -O ~/data/hw0/\n",
    "    f1=~/data/hw0/\"$i\"_1.fastq\n",
    "    f2=~/data/hw0/\"$i\"_2.fastq\n",
    "    for t in $f1 $f2\n",
    "    do\n",
    "        tmp=`awk 'NR%4==2' $t`\n",
    "        echo $t >> ~/data/hw0/count.txt\n",
    "        for l in A T C G\n",
    "        do\n",
    "            echo $l >> ~/data/hw0/count.txt\n",
    "            grep -o $l <<< \"$tmp\" | grep -c . >> ~/data/hw0/count.txt\n",
    "        done\n",
    "    done            \n",
    "done"
   ]
  },
  {
   "cell_type": "code",
   "execution_count": 28,
   "metadata": {},
   "outputs": [
    {
     "name": "stdout",
     "output_type": "stream",
     "text": [
      "/home/yuwang/data/hw0/SRR5830640_1.fastq\n",
      "A\n",
      "1902\n",
      "T\n",
      "1950\n",
      "C\n",
      "1861\n",
      "G\n",
      "1887\n",
      "/home/yuwang/data/hw0/SRR5830640_2.fastq\n",
      "A\n",
      "2053\n",
      "T\n",
      "1868\n",
      "C\n",
      "1792\n",
      "G\n",
      "1887\n",
      "/home/yuwang/data/hw0/SRR5830639_1.fastq\n",
      "A\n",
      "1950\n",
      "T\n",
      "1973\n",
      "C\n",
      "1864\n",
      "G\n",
      "1813\n",
      "/home/yuwang/data/hw0/SRR5830639_2.fastq\n",
      "A\n",
      "2059\n",
      "T\n",
      "1946\n",
      "C\n",
      "1774\n",
      "G\n",
      "1821\n",
      "/home/yuwang/data/hw0/SRR5830638_1.fastq\n",
      "A\n",
      "1875\n",
      "T\n",
      "1880\n",
      "C\n",
      "1863\n",
      "G\n",
      "1982\n",
      "/home/yuwang/data/hw0/SRR5830638_2.fastq\n",
      "A\n",
      "1860\n",
      "T\n",
      "1849\n",
      "C\n",
      "2022\n",
      "G\n",
      "1869\n",
      "/home/yuwang/data/hw0/SRR5830637_1.fastq\n",
      "A\n",
      "1922\n",
      "T\n",
      "1893\n",
      "C\n",
      "1848\n",
      "G\n",
      "1937\n",
      "/home/yuwang/data/hw0/SRR5830637_2.fastq\n",
      "A\n",
      "1868\n",
      "T\n",
      "1905\n",
      "C\n",
      "1924\n",
      "G\n",
      "1903\n",
      "/home/yuwang/data/hw0/SRR5830636_1.fastq\n",
      "A\n",
      "2035\n",
      "T\n",
      "2027\n",
      "C\n",
      "1817\n",
      "G\n",
      "1721\n",
      "/home/yuwang/data/hw0/SRR5830636_2.fastq\n",
      "A\n",
      "2134\n",
      "T\n",
      "1958\n",
      "C\n",
      "1768\n",
      "G\n",
      "1740\n"
     ]
    }
   ],
   "source": [
    "%%bash\n",
    "cat ~/data/hw0/count.txt"
   ]
  },
  {
   "cell_type": "markdown",
   "metadata": {},
   "source": [
    "As we can see, Adenine doesn't occur at same frequency as other nucleotides. From the result of first five runs, it seems that Adenine is usually more frequent than other nucleotides.\n",
    "Possible reasons causing base bias include:\n",
    "1. DNA fragments are usually prepared by sonication for HTS, which tends to break A-T due to weak affinity\n",
    "2. DNA fragments are then ligated to adapters for sequencing, which is supposed to be blunt ligation. But there might be slight nucleotide-biased ligation.\n",
    "3. Some procedures in other sequencing methods may also introduce nucleotide bias, such as nucleotide specificity of DNase digestion in DNase-seq."
   ]
  },
  {
   "cell_type": "markdown",
   "metadata": {},
   "source": [
    "### Exercises II:\n",
    "1) It is common for RNA-seq reads to be contaminated with leftover adapter sequences. Test if the file SRR5454079_1.fastq contains any i7 adapter sequences ATCACGAC or ACAGTGGT.  \n",
    "1-2) What would be a proper way to determine if there is significant barcode contamination?\n"
   ]
  },
  {
   "cell_type": "markdown",
   "metadata": {},
   "source": [
    "__HW1__: Map SRR5454079 to the human genome using HISAT2 (or chromosome 20 if you have <8GB RAM).  \n"
   ]
  },
  {
   "cell_type": "code",
   "execution_count": 23,
   "metadata": {},
   "outputs": [
    {
     "name": "stdout",
     "output_type": "stream",
     "text": [
      "Rejected 18699038 READS because READLEN < 1\n",
      "Read 18699038 spots for SRR5454079\n",
      "Written 18699038 spots for SRR5454079\n"
     ]
    }
   ],
   "source": [
    "%%bash\n",
    "cd\n",
    "./downloads/sratoolkit.2.9.2-ubuntu64/bin/fastq-dump --split-files SRR5454079"
   ]
  },
  {
   "cell_type": "code",
   "execution_count": 24,
   "metadata": {},
   "outputs": [
    {
     "name": "stderr",
     "output_type": "stream",
     "text": [
      "18699038 reads; of these:\n",
      "  18699038 (100.00%) were unpaired; of these:\n",
      "    833738 (4.46%) aligned 0 times\n",
      "    15806483 (84.53%) aligned exactly 1 time\n",
      "    2058817 (11.01%) aligned >1 times\n",
      "95.54% overall alignment rate\n"
     ]
    }
   ],
   "source": [
    "%%bash\n",
    "cd\n",
    "./downloads/hisat2-2.1.0/hisat2 -x ./downloads/HISAT_indices/grch38/genome -U ./SRR5454079_1.fastq -S ./downloads/hisat_out/SRR5454079.sam"
   ]
  },
  {
   "cell_type": "markdown",
   "metadata": {},
   "source": [
    "__HW2__: Check the first 5 reads contained in the FASTQ files. Which chromosome did they align to?  \n"
   ]
  },
  {
   "cell_type": "code",
   "execution_count": 33,
   "metadata": {},
   "outputs": [
    {
     "name": "stdout",
     "output_type": "stream",
     "text": [
      "SRR5454079.1\t4\t*\t0\t0\t*\t*\t0\t0\tNTCTTTCAGGTTTAGTTAGACGTCCTCCAAAAAGAGGCCANAANTCACC\t#AAAFFJJJJJFAF-FAFAJJJ7JJFJJJJJJJJJJ<FJJ#JJ#JJJJJ\tYT:Z:UU\n",
      "SRR5454079.2\t4\t*\t0\t0\t*\t*\t0\t0\tNTGCGCGTGCAGCCCCGGACATCTAAGGGCATCACAGACCNGTNATTGNT\t#AAAFJJJJJJJJJJJJJJJJJFJJJJJFJJFJJJJJJJJ#JJ#JJJJ#J\tYT:Z:UU\n",
      "SRR5454079.3\t4\t*\t0\t0\t*\t*\t0\t0\tNAAGATAATTGCTTTGGTCATCTGTAAGTCACTTTAGCCANTGNGTCTNC\t#AAFFJJJJJJJJJJJJJJFJJJJJJJJJJJJJJJJJJJJ#JJ#JJJJ#J\tYT:Z:UU\n",
      "SRR5454079.4\t4\t*\t0\t0\t*\t*\t0\t0\tNTGGATTGCCTGAGGTCAGGAATTCGAGGCCAGTCTGGCCNACNTGATN\t#AAFFJJJJJJJJJJJJJJJJJJJJJJJJJJJJJJJJJJJ#JJ#JJJJ#\tYT:Z:UU\n",
      "SRR5454079.5\t4\t*\t0\t0\t*\t*\t0\t0\tNGGCAATGCAAACAGCAATCCTACATAATGTAGAATAATTNTTNTTCTNT\t#AAFFJJJJJJJJJJJJJJJJJJJJJJJJJJJJJJJJJJJ#JJ#JJJJ#J\tYT:Z:UU\n",
      "SRR5454079.6\t4\t*\t0\t0\t*\t*\t0\t0\tNTCCGGATGCGTTGCTCATTTGTCATTTTCATAGGCAGCTNGANTCTTNC\t#AAFFJJJJJJJJJJJJJJJJJJJJJJJJJJJJJJJJJJJ#JJ#JJJJ#J\tYT:Z:UU\n",
      "SRR5454079.7\t4\t*\t0\t0\t*\t*\t0\t0\tNAATAATATAAAACAGAAAGCTGAACACAACATGTGTGTGNGTNTGTG\t#AAFFJJJJJJJJJJJJJJJJJJJJJJJJJJJJJJJJJJJ#JJ#JJJJ\tYT:Z:UU\n",
      "SRR5454079.8\t4\t*\t0\t0\t*\t*\t0\t0\tNCTATATACACACGTCCAGAACTGAGGGTCAACCTGGACTNACNGGAGNC\t#AAFFJJJJJJJJJJJJJJJJJJJJJJJAFJJJJJJJJJJ#JJ#JJJJ#J\tYT:Z:UU\n",
      "SRR5454079.9\t4\t*\t0\t0\t*\t*\t0\t0\tNAGCTGTTGAGTTTGACGATTCTTCTGCATGACTAGGTCANCTNTTTANT\t#AAFFJJJJJJJJJJJJJJJJJJJJJJJJJJJJJJJJJJJ#JJ#JJJJ#J\tYT:Z:UU\n",
      "SRR5454079.10\t4\t*\t0\t0\t*\t*\t0\t0\tNAGGCAAGTAGGTCAGGGAAAAGACAAGGAGATCTCGCTANGTNGAGAN\t#<AFFAFJJJJJJJJJJJJFFFFJJFJJJFJJJJJJJJFF#JJ#JJJA#\tYT:Z:UU\n"
     ]
    }
   ],
   "source": [
    "%%bash\n",
    "cd ~//downloads/hisat_out\n",
    "awk '/^SRR/' SRR5454079.sam | head"
   ]
  },
  {
   "cell_type": "markdown",
   "metadata": {},
   "source": [
    "The first 5 reads didn't align to any chromsome (Show * in reference name)"
   ]
  },
  {
   "cell_type": "markdown",
   "metadata": {},
   "source": [
    "__HW3__: Consult the samtools documentation then convert the output sam file into a sorted bam file."
   ]
  },
  {
   "cell_type": "code",
   "execution_count": 30,
   "metadata": {},
   "outputs": [
    {
     "name": "stderr",
     "output_type": "stream",
     "text": [
      "[bam_sort_core] merging from 6 files and 1 in-memory blocks...\n"
     ]
    }
   ],
   "source": [
    "%%bash\n",
    "cd   \n",
    "samtools view -bS ~/downloads/hisat_out/SRR5454079.sam | samtools sort -o ~/downloads/hisat_out/SRR5454079.bam"
   ]
  }
 ],
 "metadata": {
  "kernelspec": {
   "display_name": "Python 3",
   "language": "python",
   "name": "python3"
  },
  "language_info": {
   "codemirror_mode": {
    "name": "ipython",
    "version": 2
   },
   "file_extension": ".py",
   "mimetype": "text/x-python",
   "name": "python",
   "nbconvert_exporter": "python",
   "pygments_lexer": "ipython2",
   "version": "2.7.15rc1"
  }
 },
 "nbformat": 4,
 "nbformat_minor": 2
}
