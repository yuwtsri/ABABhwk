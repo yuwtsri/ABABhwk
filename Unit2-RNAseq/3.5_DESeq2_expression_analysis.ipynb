{
 "cells": [
  {
   "cell_type": "markdown",
   "metadata": {},
   "source": [
    "## 3.5 Gene expression analysis using DESeq2\n",
    "\n",
    "#### First use `git` to retrieve the gene counts files (total n=6). The path to files on the Github repo is:\n",
    "`Applied-Bioinformatics/Unit2-RNAseq/data/htseq_out/day5/`  \n",
    "  \n",
    "Then copy to a directory where you can find it (e.g. your homework folder).\n",
    "#### Locate counts files \n",
    "```R\n",
    "dir_counts <- \"/mnt/c/Users/Jerry/Applied-Bioinformatics-HW/data/htseq_out/day5\"\n",
    "counts_files <- list.files(dir_counts)\n",
    "counts_files\n",
    "```"
   ]
  },
  {
   "cell_type": "code",
   "execution_count": 4,
   "metadata": {},
   "outputs": [
    {
     "data": {
      "text/html": [
       "<ol class=list-inline>\n",
       "\t<li>'GSM2580321_counts.txt'</li>\n",
       "\t<li>'GSM2580322_counts.txt'</li>\n",
       "\t<li>'GSM2580325_counts.txt'</li>\n",
       "\t<li>'GSM2580326_counts.txt'</li>\n",
       "\t<li>'GSM2580329_counts.txt'</li>\n",
       "\t<li>'GSM2580330_counts.txt'</li>\n",
       "</ol>\n"
      ],
      "text/latex": [
       "\\begin{enumerate*}\n",
       "\\item 'GSM2580321\\_counts.txt'\n",
       "\\item 'GSM2580322\\_counts.txt'\n",
       "\\item 'GSM2580325\\_counts.txt'\n",
       "\\item 'GSM2580326\\_counts.txt'\n",
       "\\item 'GSM2580329\\_counts.txt'\n",
       "\\item 'GSM2580330\\_counts.txt'\n",
       "\\end{enumerate*}\n"
      ],
      "text/markdown": [
       "1. 'GSM2580321_counts.txt'\n",
       "2. 'GSM2580322_counts.txt'\n",
       "3. 'GSM2580325_counts.txt'\n",
       "4. 'GSM2580326_counts.txt'\n",
       "5. 'GSM2580329_counts.txt'\n",
       "6. 'GSM2580330_counts.txt'\n",
       "\n",
       "\n"
      ],
      "text/plain": [
       "[1] \"GSM2580321_counts.txt\" \"GSM2580322_counts.txt\" \"GSM2580325_counts.txt\"\n",
       "[4] \"GSM2580326_counts.txt\" \"GSM2580329_counts.txt\" \"GSM2580330_counts.txt\""
      ]
     },
     "metadata": {},
     "output_type": "display_data"
    }
   ],
   "source": [
    "dir_counts <- \"~/ABABhwk/Unit2-RNAseq/data/htseq_out/day5\"\n",
    "counts_files <- list.files(dir_counts)\n",
    "counts_files"
   ]
  },
  {
   "cell_type": "markdown",
   "metadata": {},
   "source": [
    "#### Prepare a sample table in the format required by DESeq2\n",
    "Here we specify the group assignment manually. It is also possible to parse the sample data matrix from GEO, which can be found by following a link on the data series page: https://www.ncbi.nlm.nih.gov/geo/query/acc.cgi?acc=GSE97919\n",
    "```\n",
    "samplesInfo <- as.data.frame(matrix(ncol=2, nrow=length(counts_files)))  \n",
    "samplesInfo$samplename <- counts_files  \n",
    "samplesInfo$filename <- counts_files  \n",
    "samplesInfo$group <- c(\"mock\", \"ZIKV\", \"mock\", \"ZIKV\", \"mock\", \"ZIKV\") \n",
    "#Remove the blank columns\n",
    "samplesInfo <- samplesInfo[,-c(1:2)]\n",
    "```"
   ]
  },
  {
   "cell_type": "code",
   "execution_count": 5,
   "metadata": {},
   "outputs": [],
   "source": [
    "samplesInfo <- as.data.frame(matrix(ncol=2, nrow=length(counts_files)))  \n",
    "samplesInfo$samplename <- counts_files  \n",
    "samplesInfo$filename <- counts_files  \n",
    "samplesInfo$group <- c(\"mock\", \"ZIKV\", \"mock\", \"ZIKV\", \"mock\", \"ZIKV\") \n",
    "#Remove the blank columns\n",
    "samplesInfo <- samplesInfo[,-c(1:2)]"
   ]
  },
  {
   "cell_type": "markdown",
   "metadata": {},
   "source": [
    "#### Check the sample table and make any corrections above if necessary"
   ]
  },
  {
   "cell_type": "code",
   "execution_count": 6,
   "metadata": {},
   "outputs": [
    {
     "data": {
      "text/html": [
       "<table>\n",
       "<thead><tr><th scope=col>samplename</th><th scope=col>filename</th><th scope=col>group</th></tr></thead>\n",
       "<tbody>\n",
       "\t<tr><td>GSM2580321_counts.txt</td><td>GSM2580321_counts.txt</td><td>mock                 </td></tr>\n",
       "\t<tr><td>GSM2580322_counts.txt</td><td>GSM2580322_counts.txt</td><td>ZIKV                 </td></tr>\n",
       "\t<tr><td>GSM2580325_counts.txt</td><td>GSM2580325_counts.txt</td><td>mock                 </td></tr>\n",
       "\t<tr><td>GSM2580326_counts.txt</td><td>GSM2580326_counts.txt</td><td>ZIKV                 </td></tr>\n",
       "\t<tr><td>GSM2580329_counts.txt</td><td>GSM2580329_counts.txt</td><td>mock                 </td></tr>\n",
       "\t<tr><td>GSM2580330_counts.txt</td><td>GSM2580330_counts.txt</td><td>ZIKV                 </td></tr>\n",
       "</tbody>\n",
       "</table>\n"
      ],
      "text/latex": [
       "\\begin{tabular}{r|lll}\n",
       " samplename & filename & group\\\\\n",
       "\\hline\n",
       "\t GSM2580321\\_counts.txt & GSM2580321\\_counts.txt & mock                   \\\\\n",
       "\t GSM2580322\\_counts.txt & GSM2580322\\_counts.txt & ZIKV                   \\\\\n",
       "\t GSM2580325\\_counts.txt & GSM2580325\\_counts.txt & mock                   \\\\\n",
       "\t GSM2580326\\_counts.txt & GSM2580326\\_counts.txt & ZIKV                   \\\\\n",
       "\t GSM2580329\\_counts.txt & GSM2580329\\_counts.txt & mock                   \\\\\n",
       "\t GSM2580330\\_counts.txt & GSM2580330\\_counts.txt & ZIKV                   \\\\\n",
       "\\end{tabular}\n"
      ],
      "text/markdown": [
       "\n",
       "samplename | filename | group | \n",
       "|---|---|---|---|---|---|\n",
       "| GSM2580321_counts.txt | GSM2580321_counts.txt | mock                  | \n",
       "| GSM2580322_counts.txt | GSM2580322_counts.txt | ZIKV                  | \n",
       "| GSM2580325_counts.txt | GSM2580325_counts.txt | mock                  | \n",
       "| GSM2580326_counts.txt | GSM2580326_counts.txt | ZIKV                  | \n",
       "| GSM2580329_counts.txt | GSM2580329_counts.txt | mock                  | \n",
       "| GSM2580330_counts.txt | GSM2580330_counts.txt | ZIKV                  | \n",
       "\n",
       "\n"
      ],
      "text/plain": [
       "  samplename            filename              group\n",
       "1 GSM2580321_counts.txt GSM2580321_counts.txt mock \n",
       "2 GSM2580322_counts.txt GSM2580322_counts.txt ZIKV \n",
       "3 GSM2580325_counts.txt GSM2580325_counts.txt mock \n",
       "4 GSM2580326_counts.txt GSM2580326_counts.txt ZIKV \n",
       "5 GSM2580329_counts.txt GSM2580329_counts.txt mock \n",
       "6 GSM2580330_counts.txt GSM2580330_counts.txt ZIKV "
      ]
     },
     "metadata": {},
     "output_type": "display_data"
    }
   ],
   "source": [
    "samplesInfo"
   ]
  },
  {
   "cell_type": "markdown",
   "metadata": {},
   "source": [
    "#### Load DESeq2 package\n",
    "```\n",
    "library(\"DESeq2\")\n",
    "```"
   ]
  },
  {
   "cell_type": "code",
   "execution_count": 7,
   "metadata": {},
   "outputs": [
    {
     "name": "stderr",
     "output_type": "stream",
     "text": [
      "Loading required package: S4Vectors\n",
      "Loading required package: stats4\n",
      "Loading required package: BiocGenerics\n",
      "Loading required package: parallel\n",
      "\n",
      "Attaching package: ‘BiocGenerics’\n",
      "\n",
      "The following objects are masked from ‘package:parallel’:\n",
      "\n",
      "    clusterApply, clusterApplyLB, clusterCall, clusterEvalQ,\n",
      "    clusterExport, clusterMap, parApply, parCapply, parLapply,\n",
      "    parLapplyLB, parRapply, parSapply, parSapplyLB\n",
      "\n",
      "The following objects are masked from ‘package:stats’:\n",
      "\n",
      "    IQR, mad, sd, var, xtabs\n",
      "\n",
      "The following objects are masked from ‘package:base’:\n",
      "\n",
      "    anyDuplicated, append, as.data.frame, cbind, colMeans, colnames,\n",
      "    colSums, do.call, duplicated, eval, evalq, Filter, Find, get, grep,\n",
      "    grepl, intersect, is.unsorted, lapply, lengths, Map, mapply, match,\n",
      "    mget, order, paste, pmax, pmax.int, pmin, pmin.int, Position, rank,\n",
      "    rbind, Reduce, rowMeans, rownames, rowSums, sapply, setdiff, sort,\n",
      "    table, tapply, union, unique, unsplit, which, which.max, which.min\n",
      "\n",
      "\n",
      "Attaching package: ‘S4Vectors’\n",
      "\n",
      "The following object is masked from ‘package:base’:\n",
      "\n",
      "    expand.grid\n",
      "\n",
      "Loading required package: IRanges\n",
      "Loading required package: GenomicRanges\n",
      "Loading required package: GenomeInfoDb\n",
      "Loading required package: SummarizedExperiment\n",
      "Loading required package: Biobase\n",
      "Welcome to Bioconductor\n",
      "\n",
      "    Vignettes contain introductory material; view with\n",
      "    'browseVignettes()'. To cite Bioconductor, see\n",
      "    'citation(\"Biobase\")', and for packages 'citation(\"pkgname\")'.\n",
      "\n",
      "Loading required package: DelayedArray\n",
      "Loading required package: matrixStats\n",
      "\n",
      "Attaching package: ‘matrixStats’\n",
      "\n",
      "The following objects are masked from ‘package:Biobase’:\n",
      "\n",
      "    anyMissing, rowMedians\n",
      "\n",
      "\n",
      "Attaching package: ‘DelayedArray’\n",
      "\n",
      "The following objects are masked from ‘package:matrixStats’:\n",
      "\n",
      "    colMaxs, colMins, colRanges, rowMaxs, rowMins, rowRanges\n",
      "\n",
      "The following object is masked from ‘package:base’:\n",
      "\n",
      "    apply\n",
      "\n",
      "Warning message in DESeqDataSet(se, design = design, ignoreRank):\n",
      "“some variables in design formula are characters, converting to factors”"
     ]
    }
   ],
   "source": [
    "library(\"DESeq2\")\n",
    "dds1 <- DESeqDataSetFromHTSeqCount(sampleTable = samplesInfo, \n",
    "                                           directory = dir_counts, \n",
    "                                           design = ~ group)"
   ]
  },
  {
   "cell_type": "markdown",
   "metadata": {},
   "source": [
    "#### Import data into R\n",
    "```\n",
    "dds1 <- DESeqDataSetFromHTSeqCount(sampleTable = samplesInfo, \n",
    "                                           directory = dir_counts, \n",
    "                                           design = ~ group)\n",
    "```"
   ]
  },
  {
   "cell_type": "markdown",
   "metadata": {},
   "source": [
    "#### Check the data imported correctly\n",
    "```R\n",
    "colData(dds1)\n",
    "```"
   ]
  },
  {
   "cell_type": "code",
   "execution_count": 8,
   "metadata": {},
   "outputs": [
    {
     "data": {
      "text/plain": [
       "DataFrame with 6 rows and 1 column\n",
       "                         group\n",
       "                      <factor>\n",
       "GSM2580321_counts.txt     mock\n",
       "GSM2580322_counts.txt     ZIKV\n",
       "GSM2580325_counts.txt     mock\n",
       "GSM2580326_counts.txt     ZIKV\n",
       "GSM2580329_counts.txt     mock\n",
       "GSM2580330_counts.txt     ZIKV"
      ]
     },
     "metadata": {},
     "output_type": "display_data"
    }
   ],
   "source": [
    "colData(dds1)"
   ]
  },
  {
   "cell_type": "code",
   "execution_count": 9,
   "metadata": {},
   "outputs": [
    {
     "name": "stderr",
     "output_type": "stream",
     "text": [
      "estimating size factors\n",
      "estimating dispersions\n",
      "gene-wise dispersion estimates\n",
      "mean-dispersion relationship\n",
      "final dispersion estimates\n",
      "fitting model and testing\n"
     ]
    }
   ],
   "source": [
    "#### Run the main DESeq normalization and analysis function\n",
    "dds1_deseq <- DESeq(dds1)"
   ]
  },
  {
   "cell_type": "markdown",
   "metadata": {},
   "source": [
    "#### Run additional DESeq2 normalization functions\n",
    "```\n",
    "rld <- rlog(dds1_deseq)\n",
    "vsd <- varianceStabilizingTransformation(dds1_deseq)\n",
    "```"
   ]
  },
  {
   "cell_type": "code",
   "execution_count": 10,
   "metadata": {},
   "outputs": [],
   "source": [
    "rld <- rlog(dds1_deseq)\n",
    "vsd <- varianceStabilizingTransformation(dds1_deseq)"
   ]
  },
  {
   "cell_type": "markdown",
   "metadata": {},
   "source": [
    "#### Plot a dendrogram of sample transcriptomes\n",
    "```\n",
    "sampleDists <- dist(t(assay(vsd)))\n",
    "plot(hclust(sampleDists))\n",
    "```"
   ]
  },
  {
   "cell_type": "code",
   "execution_count": 13,
   "metadata": {},
   "outputs": [
    {
     "data": {
      "image/png": "[encoded data removed]",
      "text/plain": [
       "Plot with title “Cluster Dendrogram”"
      ]
     },
     "metadata": {},
     "output_type": "display_data"
    }
   ],
   "source": [
    "sampleDists <- dist(t(assay(vsd)))\n",
    "plot(hclust(sampleDists))"
   ]
  },
  {
   "cell_type": "markdown",
   "metadata": {},
   "source": [
    "#### Principal component plot\n",
    "```\n",
    "plotPCA(rld, intgroup=\"group\")\n",
    "```"
   ]
  },
  {
   "cell_type": "code",
   "execution_count": 14,
   "metadata": {},
   "outputs": [
    {
     "data": {},
     "metadata": {},
     "output_type": "display_data"
    },
    {
     "data": {
      "image/png": "[encoded data removed]",
      "text/plain": [
       "plot without title"
      ]
     },
     "metadata": {},
     "output_type": "display_data"
    }
   ],
   "source": [
    "plotPCA(rld, intgroup=\"group\")"
   ]
  },
  {
   "cell_type": "markdown",
   "metadata": {},
   "source": [
    "#### Exercises\n",
    "1) Repeat the hierarchical clustering using rlog-normalized counts instead of vsd.  \n",
    "2) Examine the normalized counts using `head(assay(vsd))` and `head(assay(rld))`. Now find the corresponding raw counts and plot raw vs normalized counts for the first 6 genes of the first sample. HINT: It is possible to extract elements from `dds1`, including raw counts. "
   ]
  },
  {
   "cell_type": "markdown",
   "metadata": {},
   "source": [
    "__Ex1__"
   ]
  },
  {
   "cell_type": "code",
   "execution_count": 11,
   "metadata": {},
   "outputs": [
    {
     "data": {
      "image/png": "[encoded data removed]",
      "text/plain": [
       "Plot with title “Cluster Dendrogram”"
      ]
     },
     "metadata": {},
     "output_type": "display_data"
    }
   ],
   "source": [
    "sampleDists <- dist(t(assay(rld)))\n",
    "plot(hclust(sampleDists),  sub=\"\", xlab=\"rlog-normalized counts\")"
   ]
  },
  {
   "cell_type": "markdown",
   "metadata": {},
   "source": [
    "__Ex2__"
   ]
  },
  {
   "cell_type": "code",
   "execution_count": 12,
   "metadata": {},
   "outputs": [
    {
     "data": {
      "text/html": [
       "<table>\n",
       "<thead><tr><th></th><th scope=col>GSM2580321_counts.txt</th><th scope=col>GSM2580322_counts.txt</th><th scope=col>GSM2580325_counts.txt</th><th scope=col>GSM2580326_counts.txt</th><th scope=col>GSM2580329_counts.txt</th><th scope=col>GSM2580330_counts.txt</th></tr></thead>\n",
       "<tbody>\n",
       "\t<tr><th scope=row>ENSG00000000003</th><td>10.196400</td><td>10.023089</td><td>10.174652</td><td>9.993077 </td><td>10.083330</td><td>9.907646 </td></tr>\n",
       "\t<tr><th scope=row>ENSG00000000005</th><td> 2.676528</td><td> 2.660318</td><td> 2.676352</td><td>2.673159 </td><td> 2.684178</td><td>2.683126 </td></tr>\n",
       "\t<tr><th scope=row>ENSG00000000419</th><td> 9.678357</td><td> 9.642043</td><td> 9.723210</td><td>9.718201 </td><td> 9.595488</td><td>9.637684 </td></tr>\n",
       "\t<tr><th scope=row>ENSG00000000457</th><td> 8.948427</td><td> 8.944546</td><td> 8.971803</td><td>8.925087 </td><td> 8.976021</td><td>9.020144 </td></tr>\n",
       "\t<tr><th scope=row>ENSG00000000460</th><td> 8.804478</td><td> 8.736000</td><td> 8.796664</td><td>8.673613 </td><td> 8.718284</td><td>8.741717 </td></tr>\n",
       "\t<tr><th scope=row>ENSG00000000938</th><td> 3.406843</td><td> 3.427683</td><td> 3.407161</td><td>3.483110 </td><td> 3.382641</td><td>3.507155 </td></tr>\n",
       "</tbody>\n",
       "</table>\n"
      ],
      "text/latex": [
       "\\begin{tabular}{r|llllll}\n",
       "  & GSM2580321\\_counts.txt & GSM2580322\\_counts.txt & GSM2580325\\_counts.txt & GSM2580326\\_counts.txt & GSM2580329\\_counts.txt & GSM2580330\\_counts.txt\\\\\n",
       "\\hline\n",
       "\tENSG00000000003 & 10.196400 & 10.023089 & 10.174652 & 9.993077  & 10.083330 & 9.907646 \\\\\n",
       "\tENSG00000000005 &  2.676528 &  2.660318 &  2.676352 & 2.673159  &  2.684178 & 2.683126 \\\\\n",
       "\tENSG00000000419 &  9.678357 &  9.642043 &  9.723210 & 9.718201  &  9.595488 & 9.637684 \\\\\n",
       "\tENSG00000000457 &  8.948427 &  8.944546 &  8.971803 & 8.925087  &  8.976021 & 9.020144 \\\\\n",
       "\tENSG00000000460 &  8.804478 &  8.736000 &  8.796664 & 8.673613  &  8.718284 & 8.741717 \\\\\n",
       "\tENSG00000000938 &  3.406843 &  3.427683 &  3.407161 & 3.483110  &  3.382641 & 3.507155 \\\\\n",
       "\\end{tabular}\n"
      ],
      "text/markdown": [
       "\n",
       "| <!--/--> | GSM2580321_counts.txt | GSM2580322_counts.txt | GSM2580325_counts.txt | GSM2580326_counts.txt | GSM2580329_counts.txt | GSM2580330_counts.txt | \n",
       "|---|---|---|---|---|---|\n",
       "| ENSG00000000003 | 10.196400 | 10.023089 | 10.174652 | 9.993077  | 10.083330 | 9.907646  | \n",
       "| ENSG00000000005 |  2.676528 |  2.660318 |  2.676352 | 2.673159  |  2.684178 | 2.683126  | \n",
       "| ENSG00000000419 |  9.678357 |  9.642043 |  9.723210 | 9.718201  |  9.595488 | 9.637684  | \n",
       "| ENSG00000000457 |  8.948427 |  8.944546 |  8.971803 | 8.925087  |  8.976021 | 9.020144  | \n",
       "| ENSG00000000460 |  8.804478 |  8.736000 |  8.796664 | 8.673613  |  8.718284 | 8.741717  | \n",
       "| ENSG00000000938 |  3.406843 |  3.427683 |  3.407161 | 3.483110  |  3.382641 | 3.507155  | \n",
       "\n",
       "\n"
      ],
      "text/plain": [
       "                GSM2580321_counts.txt GSM2580322_counts.txt\n",
       "ENSG00000000003 10.196400             10.023089            \n",
       "ENSG00000000005  2.676528              2.660318            \n",
       "ENSG00000000419  9.678357              9.642043            \n",
       "ENSG00000000457  8.948427              8.944546            \n",
       "ENSG00000000460  8.804478              8.736000            \n",
       "ENSG00000000938  3.406843              3.427683            \n",
       "                GSM2580325_counts.txt GSM2580326_counts.txt\n",
       "ENSG00000000003 10.174652             9.993077             \n",
       "ENSG00000000005  2.676352             2.673159             \n",
       "ENSG00000000419  9.723210             9.718201             \n",
       "ENSG00000000457  8.971803             8.925087             \n",
       "ENSG00000000460  8.796664             8.673613             \n",
       "ENSG00000000938  3.407161             3.483110             \n",
       "                GSM2580329_counts.txt GSM2580330_counts.txt\n",
       "ENSG00000000003 10.083330             9.907646             \n",
       "ENSG00000000005  2.684178             2.683126             \n",
       "ENSG00000000419  9.595488             9.637684             \n",
       "ENSG00000000457  8.976021             9.020144             \n",
       "ENSG00000000460  8.718284             8.741717             \n",
       "ENSG00000000938  3.382641             3.507155             "
      ]
     },
     "metadata": {},
     "output_type": "display_data"
    }
   ],
   "source": [
    "head(assay(rld))"
   ]
  },
  {
   "cell_type": "code",
   "execution_count": 13,
   "metadata": {},
   "outputs": [
    {
     "data": {
      "text/html": [
       "<table>\n",
       "<thead><tr><th></th><th scope=col>GSM2580321_counts.txt</th><th scope=col>GSM2580322_counts.txt</th><th scope=col>GSM2580325_counts.txt</th><th scope=col>GSM2580326_counts.txt</th><th scope=col>GSM2580329_counts.txt</th><th scope=col>GSM2580330_counts.txt</th></tr></thead>\n",
       "<tbody>\n",
       "\t<tr><th scope=row>ENSG00000000003</th><td>10.581357</td><td>10.351161</td><td>10.553683</td><td>10.310977</td><td>10.430818</td><td>10.198426</td></tr>\n",
       "\t<tr><th scope=row>ENSG00000000005</th><td> 7.540721</td><td> 7.459429</td><td> 7.540137</td><td> 7.525655</td><td> 7.567040</td><td> 7.566943</td></tr>\n",
       "\t<tr><th scope=row>ENSG00000000419</th><td>10.111723</td><td>10.063724</td><td>10.171572</td><td>10.164507</td><td>10.005112</td><td>10.058310</td></tr>\n",
       "\t<tr><th scope=row>ENSG00000000457</th><td> 9.572357</td><td> 9.567153</td><td> 9.603058</td><td> 9.541456</td><td> 9.607789</td><td> 9.665374</td></tr>\n",
       "\t<tr><th scope=row>ENSG00000000460</th><td> 9.526257</td><td> 9.436839</td><td> 9.517174</td><td> 9.354339</td><td> 9.415392</td><td> 9.444421</td></tr>\n",
       "\t<tr><th scope=row>ENSG00000000938</th><td> 7.514667</td><td> 7.597282</td><td> 7.508626</td><td> 7.764065</td><td> 7.429404</td><td> 7.814814</td></tr>\n",
       "</tbody>\n",
       "</table>\n"
      ],
      "text/latex": [
       "\\begin{tabular}{r|llllll}\n",
       "  & GSM2580321\\_counts.txt & GSM2580322\\_counts.txt & GSM2580325\\_counts.txt & GSM2580326\\_counts.txt & GSM2580329\\_counts.txt & GSM2580330\\_counts.txt\\\\\n",
       "\\hline\n",
       "\tENSG00000000003 & 10.581357 & 10.351161 & 10.553683 & 10.310977 & 10.430818 & 10.198426\\\\\n",
       "\tENSG00000000005 &  7.540721 &  7.459429 &  7.540137 &  7.525655 &  7.567040 &  7.566943\\\\\n",
       "\tENSG00000000419 & 10.111723 & 10.063724 & 10.171572 & 10.164507 & 10.005112 & 10.058310\\\\\n",
       "\tENSG00000000457 &  9.572357 &  9.567153 &  9.603058 &  9.541456 &  9.607789 &  9.665374\\\\\n",
       "\tENSG00000000460 &  9.526257 &  9.436839 &  9.517174 &  9.354339 &  9.415392 &  9.444421\\\\\n",
       "\tENSG00000000938 &  7.514667 &  7.597282 &  7.508626 &  7.764065 &  7.429404 &  7.814814\\\\\n",
       "\\end{tabular}\n"
      ],
      "text/markdown": [
       "\n",
       "| <!--/--> | GSM2580321_counts.txt | GSM2580322_counts.txt | GSM2580325_counts.txt | GSM2580326_counts.txt | GSM2580329_counts.txt | GSM2580330_counts.txt | \n",
       "|---|---|---|---|---|---|\n",
       "| ENSG00000000003 | 10.581357 | 10.351161 | 10.553683 | 10.310977 | 10.430818 | 10.198426 | \n",
       "| ENSG00000000005 |  7.540721 |  7.459429 |  7.540137 |  7.525655 |  7.567040 |  7.566943 | \n",
       "| ENSG00000000419 | 10.111723 | 10.063724 | 10.171572 | 10.164507 | 10.005112 | 10.058310 | \n",
       "| ENSG00000000457 |  9.572357 |  9.567153 |  9.603058 |  9.541456 |  9.607789 |  9.665374 | \n",
       "| ENSG00000000460 |  9.526257 |  9.436839 |  9.517174 |  9.354339 |  9.415392 |  9.444421 | \n",
       "| ENSG00000000938 |  7.514667 |  7.597282 |  7.508626 |  7.764065 |  7.429404 |  7.814814 | \n",
       "\n",
       "\n"
      ],
      "text/plain": [
       "                GSM2580321_counts.txt GSM2580322_counts.txt\n",
       "ENSG00000000003 10.581357             10.351161            \n",
       "ENSG00000000005  7.540721              7.459429            \n",
       "ENSG00000000419 10.111723             10.063724            \n",
       "ENSG00000000457  9.572357              9.567153            \n",
       "ENSG00000000460  9.526257              9.436839            \n",
       "ENSG00000000938  7.514667              7.597282            \n",
       "                GSM2580325_counts.txt GSM2580326_counts.txt\n",
       "ENSG00000000003 10.553683             10.310977            \n",
       "ENSG00000000005  7.540137              7.525655            \n",
       "ENSG00000000419 10.171572             10.164507            \n",
       "ENSG00000000457  9.603058              9.541456            \n",
       "ENSG00000000460  9.517174              9.354339            \n",
       "ENSG00000000938  7.508626              7.764065            \n",
       "                GSM2580329_counts.txt GSM2580330_counts.txt\n",
       "ENSG00000000003 10.430818             10.198426            \n",
       "ENSG00000000005  7.567040              7.566943            \n",
       "ENSG00000000419 10.005112             10.058310            \n",
       "ENSG00000000457  9.607789              9.665374            \n",
       "ENSG00000000460  9.415392              9.444421            \n",
       "ENSG00000000938  7.429404              7.814814            "
      ]
     },
     "metadata": {},
     "output_type": "display_data"
    }
   ],
   "source": [
    "head(assay(vsd))"
   ]
  },
  {
   "cell_type": "code",
   "execution_count": 21,
   "metadata": {},
   "outputs": [
    {
     "data": {
      "text/html": [
       "<table>\n",
       "<thead><tr><th></th><th scope=col>GSM2580321_counts.txt</th><th scope=col>GSM2580322_counts.txt</th><th scope=col>GSM2580325_counts.txt</th><th scope=col>GSM2580326_counts.txt</th><th scope=col>GSM2580329_counts.txt</th><th scope=col>GSM2580330_counts.txt</th></tr></thead>\n",
       "<tbody>\n",
       "\t<tr><th scope=row>ENSG00000000003</th><td>1138</td><td>880 </td><td>930 </td><td>833 </td><td>2113</td><td>919 </td></tr>\n",
       "\t<tr><th scope=row>ENSG00000000005</th><td>   6</td><td>  3 </td><td>  5 </td><td>  5 </td><td>  15</td><td>  8 </td></tr>\n",
       "\t<tr><th scope=row>ENSG00000000419</th><td> 754</td><td>680 </td><td>666 </td><td>731 </td><td>1443</td><td>809 </td></tr>\n",
       "\t<tr><th scope=row>ENSG00000000457</th><td> 447</td><td>419 </td><td>386 </td><td>400 </td><td> 979</td><td>554 </td></tr>\n",
       "\t<tr><th scope=row>ENSG00000000460</th><td> 426</td><td>365 </td><td>353 </td><td>327 </td><td> 799</td><td>440 </td></tr>\n",
       "\t<tr><th scope=row>ENSG00000000938</th><td>   5</td><td>  8 </td><td>  4 </td><td> 17 </td><td>   5</td><td> 25 </td></tr>\n",
       "</tbody>\n",
       "</table>\n"
      ],
      "text/latex": [
       "\\begin{tabular}{r|llllll}\n",
       "  & GSM2580321\\_counts.txt & GSM2580322\\_counts.txt & GSM2580325\\_counts.txt & GSM2580326\\_counts.txt & GSM2580329\\_counts.txt & GSM2580330\\_counts.txt\\\\\n",
       "\\hline\n",
       "\tENSG00000000003 & 1138 & 880  & 930  & 833  & 2113 & 919 \\\\\n",
       "\tENSG00000000005 &    6 &   3  &   5  &   5  &   15 &   8 \\\\\n",
       "\tENSG00000000419 &  754 & 680  & 666  & 731  & 1443 & 809 \\\\\n",
       "\tENSG00000000457 &  447 & 419  & 386  & 400  &  979 & 554 \\\\\n",
       "\tENSG00000000460 &  426 & 365  & 353  & 327  &  799 & 440 \\\\\n",
       "\tENSG00000000938 &    5 &   8  &   4  &  17  &    5 &  25 \\\\\n",
       "\\end{tabular}\n"
      ],
      "text/markdown": [
       "\n",
       "| <!--/--> | GSM2580321_counts.txt | GSM2580322_counts.txt | GSM2580325_counts.txt | GSM2580326_counts.txt | GSM2580329_counts.txt | GSM2580330_counts.txt | \n",
       "|---|---|---|---|---|---|\n",
       "| ENSG00000000003 | 1138 | 880  | 930  | 833  | 2113 | 919  | \n",
       "| ENSG00000000005 |    6 |   3  |   5  |   5  |   15 |   8  | \n",
       "| ENSG00000000419 |  754 | 680  | 666  | 731  | 1443 | 809  | \n",
       "| ENSG00000000457 |  447 | 419  | 386  | 400  |  979 | 554  | \n",
       "| ENSG00000000460 |  426 | 365  | 353  | 327  |  799 | 440  | \n",
       "| ENSG00000000938 |    5 |   8  |   4  |  17  |    5 |  25  | \n",
       "\n",
       "\n"
      ],
      "text/plain": [
       "                GSM2580321_counts.txt GSM2580322_counts.txt\n",
       "ENSG00000000003 1138                  880                  \n",
       "ENSG00000000005    6                    3                  \n",
       "ENSG00000000419  754                  680                  \n",
       "ENSG00000000457  447                  419                  \n",
       "ENSG00000000460  426                  365                  \n",
       "ENSG00000000938    5                    8                  \n",
       "                GSM2580325_counts.txt GSM2580326_counts.txt\n",
       "ENSG00000000003 930                   833                  \n",
       "ENSG00000000005   5                     5                  \n",
       "ENSG00000000419 666                   731                  \n",
       "ENSG00000000457 386                   400                  \n",
       "ENSG00000000460 353                   327                  \n",
       "ENSG00000000938   4                    17                  \n",
       "                GSM2580329_counts.txt GSM2580330_counts.txt\n",
       "ENSG00000000003 2113                  919                  \n",
       "ENSG00000000005   15                    8                  \n",
       "ENSG00000000419 1443                  809                  \n",
       "ENSG00000000457  979                  554                  \n",
       "ENSG00000000460  799                  440                  \n",
       "ENSG00000000938    5                   25                  "
      ]
     },
     "metadata": {},
     "output_type": "display_data"
    }
   ],
   "source": [
    "head(assay(dds1))"
   ]
  },
  {
   "cell_type": "code",
   "execution_count": 14,
   "metadata": {},
   "outputs": [],
   "source": [
    "raw=data.frame(head(assay(dds1)))\n",
    "normvsd=data.frame(head(assay(vsd)))\n",
    "normlog=data.frame(head(assay(rld)))"
   ]
  },
  {
   "cell_type": "code",
   "execution_count": 36,
   "metadata": {},
   "outputs": [
    {
     "data": {
      "image/png": "[encoded data removed]",
      "text/plain": [
       "Plot with title “GSM2580330”"
      ]
     },
     "metadata": {},
     "output_type": "display_data"
    }
   ],
   "source": [
    "par(mfrow=c(2,3))\n",
    "matplot(main=\"GSM2580321\", raw$GSM2580321_counts.txt, \n",
    "        cbind(normvsd$GSM2580321_counts.txt, normlog$GSM2580321_counts.txt), \n",
    "        col=c(\"red\", \"blue\"), pch=c(17,19),  \n",
    "        xlab=\"Raw reads\", ylab=\"Normalized reads\")\n",
    "legend(\"bottomright\", legend = c(\"Vsd\", \"Rlg\"), col = c(\"red\", \"blue\"), pch = c(17,19), bty = \"n\", pt.cex = 1,   cex = 1, \n",
    "  text.col = \"black\", horiz = F , inset = c(0.1, 0.1))\n",
    "matplot(main=\"GSM2580322\", raw$GSM2580322_counts.txt, \n",
    "        cbind(normvsd$GSM2580322_counts.txt, normlog$GSM2580322_counts.txt), \n",
    "        col=c(\"red\", \"blue\"), pch=c(17,19),  \n",
    "        xlab=\"Raw reads\", ylab=\"Normalized reads\")\n",
    "legend(\"bottomright\", legend = c(\"Vsd\", \"Rlg\"), col = c(\"red\", \"blue\"), pch = c(17,19), bty = \"n\", pt.cex = 1,   cex = 1, \n",
    "  text.col = \"black\", horiz = F , inset = c(0.1, 0.1))\n",
    "matplot(main=\"GSM2580325\", raw$GSM2580325_counts.txt, \n",
    "        cbind(normvsd$GSM2580325_counts.txt, normlog$GSM2580325_counts.txt), \n",
    "        col=c(\"red\", \"blue\"), pch=c(17,19),  \n",
    "        xlab=\"Raw reads\", ylab=\"Normalized reads\")\n",
    "legend(\"bottomright\", legend = c(\"Vsd\", \"Rlg\"), col = c(\"red\", \"blue\"), pch = c(17,19), bty = \"n\", pt.cex = 1,   cex = 1, \n",
    "  text.col = \"black\", horiz = F , inset = c(0.1, 0.1))\n",
    "matplot(main=\"GSM2580326\", raw$GSM2580326_counts.txt, \n",
    "        cbind(normvsd$GSM2580326_counts.txt, normlog$GSM2580326_counts.txt), \n",
    "        col=c(\"red\", \"blue\"), pch=c(17,19),  \n",
    "        xlab=\"Raw reads\", ylab=\"Normalized reads\")\n",
    "legend(\"bottomright\", legend = c(\"Vsd\", \"Rlg\"), col = c(\"red\", \"blue\"), pch = c(17,19), bty = \"n\", pt.cex = 1,   cex = 1, \n",
    "  text.col = \"black\", horiz = F , inset = c(0.1, 0.1))\n",
    "matplot(main=\"GSM2580329\", raw$GSM2580329_counts.txt, \n",
    "        cbind(normvsd$GSM2580329_counts.txt, normlog$GSM2580329_counts.txt), \n",
    "        col=c(\"red\", \"blue\"), pch=c(17,19),  \n",
    "        xlab=\"Raw reads\", ylab=\"Normalized reads\")\n",
    "legend(\"bottomright\", legend = c(\"Vsd\", \"Rlg\"), col = c(\"red\", \"blue\"), pch = c(17,19), bty = \"n\", pt.cex = 1,   cex = 1, \n",
    "  text.col = \"black\", horiz = F , inset = c(0.1, 0.1))\n",
    "matplot(main=\"GSM2580330\", raw$GSM2580330_counts.txt, \n",
    "        cbind(normvsd$GSM2580330_counts.txt, normlog$GSM2580330_counts.txt), \n",
    "        col=c(\"red\", \"blue\"), pch=c(17,19),  \n",
    "        xlab=\"Raw reads\", ylab=\"Normalized reads\")\n",
    "legend(\"bottomright\", legend = c(\"Vsd\", \"Rlg\"), col = c(\"red\", \"blue\"), pch = c(17,19), bty = \"n\", pt.cex = 1,   cex = 1, \n",
    "  text.col = \"black\", horiz = F , inset = c(0.1, 0.1))"
   ]
  },
  {
   "cell_type": "code",
   "execution_count": null,
   "metadata": {},
   "outputs": [],
   "source": []
  }
 ],
 "metadata": {
  "kernelspec": {
   "display_name": "R",
   "language": "R",
   "name": "ir"
  },
  "language_info": {
   "codemirror_mode": "r",
   "file_extension": ".r",
   "mimetype": "text/x-r-source",
   "name": "R",
   "pygments_lexer": "r",
   "version": "3.4.4"
  }
 },
 "nbformat": 4,
 "nbformat_minor": 2
}
