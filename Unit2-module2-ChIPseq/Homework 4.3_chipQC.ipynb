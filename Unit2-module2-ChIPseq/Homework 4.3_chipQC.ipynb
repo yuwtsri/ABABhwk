{
 "cells": [
  {
   "cell_type": "markdown",
   "metadata": {},
   "source": [
    "# Homework 4.3 - ChIPQC"
   ]
  },
  {
   "cell_type": "markdown",
   "metadata": {},
   "source": [
    "Run ChIPQC for:\n",
    "https://drive.google.com/open?id=1dKLt_m_vnHjNVo-1qoACu9GZZC9OBa9v (Links to an external site.)Links to an external site.\n",
    "EFF_H3K4Me1_1_srt_dupr_chr11.bam\n",
    "EFF_H3K4Me1_2_srt_dupr_chr11.bam\n",
    "EFF_Input_srt_dupr_chr11.bam (Control)\n",
    "- Sort and index bam file\n",
    "- Run MACS2\n",
    "- Create sample sheet\n",
    "- ChIPQC\n",
    "\n",
    "Use Homer to search for TF motifs in broadPeak file (from Q1, EFF_H3K4Me1_1_srt_dupr_chr11.bam)\n",
    "genome reference: genome_chr11.fa\n",
    "- What are the top 5 knownResults?\n",
    "- What is the difference between knownResults and homerResults?"
   ]
  },
  {
   "cell_type": "markdown",
   "metadata": {},
   "source": [
    "## ChIPQC"
   ]
  },
  {
   "cell_type": "code",
   "execution_count": 2,
   "metadata": {},
   "outputs": [
    {
     "name": "stderr",
     "output_type": "stream",
     "text": [
      "Loading required package: ggplot2\n",
      "Loading required package: DiffBind\n",
      "Loading required package: GenomicRanges\n",
      "Loading required package: stats4\n",
      "Loading required package: BiocGenerics\n",
      "Loading required package: parallel\n",
      "\n",
      "Attaching package: ‘BiocGenerics’\n",
      "\n",
      "The following objects are masked from ‘package:parallel’:\n",
      "\n",
      "    clusterApply, clusterApplyLB, clusterCall, clusterEvalQ,\n",
      "    clusterExport, clusterMap, parApply, parCapply, parLapply,\n",
      "    parLapplyLB, parRapply, parSapply, parSapplyLB\n",
      "\n",
      "The following objects are masked from ‘package:stats’:\n",
      "\n",
      "    IQR, mad, sd, var, xtabs\n",
      "\n",
      "The following objects are masked from ‘package:base’:\n",
      "\n",
      "    anyDuplicated, append, as.data.frame, basename, cbind, colMeans,\n",
      "    colnames, colSums, dirname, do.call, duplicated, eval, evalq,\n",
      "    Filter, Find, get, grep, grepl, intersect, is.unsorted, lapply,\n",
      "    lengths, Map, mapply, match, mget, order, paste, pmax, pmax.int,\n",
      "    pmin, pmin.int, Position, rank, rbind, Reduce, rowMeans, rownames,\n",
      "    rowSums, sapply, setdiff, sort, table, tapply, union, unique,\n",
      "    unsplit, which, which.max, which.min\n",
      "\n",
      "Loading required package: S4Vectors\n",
      "\n",
      "Attaching package: ‘S4Vectors’\n",
      "\n",
      "The following object is masked from ‘package:base’:\n",
      "\n",
      "    expand.grid\n",
      "\n",
      "Loading required package: IRanges\n",
      "Loading required package: GenomeInfoDb\n",
      "Loading required package: SummarizedExperiment\n",
      "Loading required package: Biobase\n",
      "Welcome to Bioconductor\n",
      "\n",
      "    Vignettes contain introductory material; view with\n",
      "    'browseVignettes()'. To cite Bioconductor, see\n",
      "    'citation(\"Biobase\")', and for packages 'citation(\"pkgname\")'.\n",
      "\n",
      "Loading required package: DelayedArray\n",
      "Loading required package: matrixStats\n",
      "\n",
      "Attaching package: ‘matrixStats’\n",
      "\n",
      "The following objects are masked from ‘package:Biobase’:\n",
      "\n",
      "    anyMissing, rowMedians\n",
      "\n",
      "Loading required package: BiocParallel\n",
      "\n",
      "Attaching package: ‘DelayedArray’\n",
      "\n",
      "The following objects are masked from ‘package:matrixStats’:\n",
      "\n",
      "    colMaxs, colMins, colRanges, rowMaxs, rowMins, rowRanges\n",
      "\n",
      "The following objects are masked from ‘package:base’:\n",
      "\n",
      "    aperm, apply\n",
      "\n",
      "\n"
     ]
    }
   ],
   "source": [
    "setwd(\"~/ABABhwk/Unit2-module2-ChIPseq/hw4.3/\")\n",
    "\n",
    "# Load ChIPQC package\n",
    "library(ChIPQC)"
   ]
  },
  {
   "cell_type": "code",
   "execution_count": 3,
   "metadata": {},
   "outputs": [
    {
     "data": {
      "text/html": [
       "<table>\n",
       "<thead><tr><th scope=col>SampleID</th><th scope=col>Tissue</th><th scope=col>Factor</th><th scope=col>Condition</th><th scope=col>Replicate</th><th scope=col>bamReads</th><th scope=col>ControlID</th><th scope=col>bamControl</th><th scope=col>Peaks</th><th scope=col>PeakCaller</th></tr></thead>\n",
       "<tbody>\n",
       "\t<tr><td>EFF_H3K4Me1_1                                   </td><td>NA                                              </td><td>NA                                              </td><td>H3K4Me1                                         </td><td>NA                                              </td><td>EFF_H3K4Me1_1_srt_dupr_chr11.srt.bam            </td><td>NA                                              </td><td>NA                                              </td><td>EFF_H3K4Me1_1_srt_dupr_chr11.srt_peaks.broadPeak</td><td>NA                                              </td></tr>\n",
       "\t<tr><td>EFF_H3K4Me1_2                                   </td><td>NA                                              </td><td>NA                                              </td><td>H3K4Me1                                         </td><td>NA                                              </td><td>EFF_H3K4Me1_2_srt_dupr_chr11.srt.bam            </td><td>NA                                              </td><td>NA                                              </td><td>EFF_H3K4Me1_2_srt_dupr_chr11.srt_peaks.broadPeak</td><td>NA                                              </td></tr>\n",
       "\t<tr><td>EFF_Input                                       </td><td>NA                                              </td><td>NA                                              </td><td>Control                                         </td><td>NA                                              </td><td>EFF_Input_srt_dupr_chr11.srt.bam                </td><td>NA                                              </td><td>NA                                              </td><td>EFF_Input_srt_dupr_chr11.srt_peaks.broadPeak    </td><td>NA                                              </td></tr>\n",
       "</tbody>\n",
       "</table>\n"
      ],
      "text/latex": [
       "\\begin{tabular}{r|llllllllll}\n",
       " SampleID & Tissue & Factor & Condition & Replicate & bamReads & ControlID & bamControl & Peaks & PeakCaller\\\\\n",
       "\\hline\n",
       "\t EFF\\_H3K4Me1\\_1                                            & NA                                                           & NA                                                           & H3K4Me1                                                      & NA                                                           & EFF\\_H3K4Me1\\_1\\_srt\\_dupr\\_chr11.srt.bam               & NA                                                           & NA                                                           & EFF\\_H3K4Me1\\_1\\_srt\\_dupr\\_chr11.srt\\_peaks.broadPeak & NA                                                          \\\\\n",
       "\t EFF\\_H3K4Me1\\_2                                            & NA                                                           & NA                                                           & H3K4Me1                                                      & NA                                                           & EFF\\_H3K4Me1\\_2\\_srt\\_dupr\\_chr11.srt.bam               & NA                                                           & NA                                                           & EFF\\_H3K4Me1\\_2\\_srt\\_dupr\\_chr11.srt\\_peaks.broadPeak & NA                                                          \\\\\n",
       "\t EFF\\_Input                                                & NA                                                         & NA                                                         & Control                                                    & NA                                                         & EFF\\_Input\\_srt\\_dupr\\_chr11.srt.bam                   & NA                                                         & NA                                                         & EFF\\_Input\\_srt\\_dupr\\_chr11.srt\\_peaks.broadPeak     & NA                                                        \\\\\n",
       "\\end{tabular}\n"
      ],
      "text/markdown": [
       "\n",
       "SampleID | Tissue | Factor | Condition | Replicate | bamReads | ControlID | bamControl | Peaks | PeakCaller | \n",
       "|---|---|---|\n",
       "| EFF_H3K4Me1_1                                    | NA                                               | NA                                               | H3K4Me1                                          | NA                                               | EFF_H3K4Me1_1_srt_dupr_chr11.srt.bam             | NA                                               | NA                                               | EFF_H3K4Me1_1_srt_dupr_chr11.srt_peaks.broadPeak | NA                                               | \n",
       "| EFF_H3K4Me1_2                                    | NA                                               | NA                                               | H3K4Me1                                          | NA                                               | EFF_H3K4Me1_2_srt_dupr_chr11.srt.bam             | NA                                               | NA                                               | EFF_H3K4Me1_2_srt_dupr_chr11.srt_peaks.broadPeak | NA                                               | \n",
       "| EFF_Input                                        | NA                                               | NA                                               | Control                                          | NA                                               | EFF_Input_srt_dupr_chr11.srt.bam                 | NA                                               | NA                                               | EFF_Input_srt_dupr_chr11.srt_peaks.broadPeak     | NA                                               | \n",
       "\n",
       "\n"
      ],
      "text/plain": [
       "  SampleID      Tissue Factor Condition Replicate\n",
       "1 EFF_H3K4Me1_1 NA     NA     H3K4Me1   NA       \n",
       "2 EFF_H3K4Me1_2 NA     NA     H3K4Me1   NA       \n",
       "3 EFF_Input     NA     NA     Control   NA       \n",
       "  bamReads                             ControlID bamControl\n",
       "1 EFF_H3K4Me1_1_srt_dupr_chr11.srt.bam NA        NA        \n",
       "2 EFF_H3K4Me1_2_srt_dupr_chr11.srt.bam NA        NA        \n",
       "3 EFF_Input_srt_dupr_chr11.srt.bam     NA        NA        \n",
       "  Peaks                                            PeakCaller\n",
       "1 EFF_H3K4Me1_1_srt_dupr_chr11.srt_peaks.broadPeak NA        \n",
       "2 EFF_H3K4Me1_2_srt_dupr_chr11.srt_peaks.broadPeak NA        \n",
       "3 EFF_Input_srt_dupr_chr11.srt_peaks.broadPeak     NA        "
      ]
     },
     "metadata": {},
     "output_type": "display_data"
    }
   ],
   "source": [
    "samples <- read.csv(\"chipqc_samplesheet_hw4.3.csv\")\n",
    "head(samples)"
   ]
  },
  {
   "cell_type": "code",
   "execution_count": null,
   "metadata": {},
   "outputs": [
    {
     "name": "stderr",
     "output_type": "stream",
     "text": [
      "EFF_H3K4Me1_1   H3K4Me1  NA bed\n",
      "EFF_H3K4Me1_2   H3K4Me1  NA bed\n",
      "EFF_Input   Control  NA bed\n",
      "Checking chromosomes:\n"
     ]
    },
    {
     "name": "stdout",
     "output_type": "stream",
     "text": [
      "[1] \"chr11\"\n"
     ]
    },
    {
     "name": "stderr",
     "output_type": "stream",
     "text": [
      "Compiling annotation...\n",
      "Computing metrics for 3 samples...\n"
     ]
    }
   ],
   "source": [
    "## Create ChIPQC object\n",
    "chipObj <- ChIPQC(samples, annotation=\"mm10\") "
   ]
  },
  {
   "cell_type": "code",
   "execution_count": 1,
   "metadata": {},
   "outputs": [],
   "source": [
    "## Kernel died, ran on HPC\n",
    "## outpout"
   ]
  },
  {
   "cell_type": "raw",
   "metadata": {},
   "source": [
    "EFF_H3K4Me1_1   H3K4Me1  NA bed\n",
    "EFF_H3K4Me1_2   H3K4Me1  NA bed\n",
    "EFF_Input   Control  NA bed\n",
    "Checking chromosomes:\n",
    "[1] \"chr11\"\n",
    "Compiling annotation...\n",
    "Computing metrics for 3 samples...\n",
    "list\n",
    "Bam file has 22 contigs\n",
    "Calculating coverage histogram for chr11\n",
    "\n",
    "Calculating SSD for chr11\n",
    "\n",
    "Calculating unique positions per strand for chr11\n",
    "\n",
    "Calculating shift for chr11\n",
    "\n",
    " 300 / 300\n",
    "Counting reads in features for chr11\n",
    "\n",
    "Signal over peaks for chr11\n",
    "\n",
    "done\n",
    "Calculating coverage\n",
    "Calculating Summits on  chr11  ..[1] 1\n",
    "list\n",
    "Bam file has 22 contigs\n",
    "Calculating coverage histogram for chr11\n",
    "\n",
    "Calculating SSD for chr11\n",
    "\n",
    "Calculating unique positions per strand for chr11\n",
    "\n",
    "Calculating shift for chr11\n",
    "\n",
    " 300 / 300\n",
    "Counting reads in features for chr11\n",
    "\n",
    "Signal over peaks for chr11\n",
    "\n",
    "done\n",
    "Calculating coverage\n",
    "Calculating Summits on  chr11  ..[1] 1\n",
    "list\n",
    "Bam file has 22 contigs\n",
    "Calculating coverage histogram for chr11\n",
    "\n",
    "Calculating SSD for chr11\n",
    "\n",
    "Calculating unique positions per strand for chr11\n",
    "\n",
    "Calculating shift for chr11\n",
    "\n",
    " 300 / 300\n",
    "Counting reads in features for chr11\n",
    "\n",
    "Signal over peaks for chr11\n",
    "\n",
    "done\n",
    "Calculating coverage\n",
    "Calculating Summits on  chr11  ..[1] 1"
   ]
  },
  {
   "cell_type": "code",
   "execution_count": null,
   "metadata": {},
   "outputs": [],
   "source": [
    "## Kernel died, ran on HPC\n",
    "## Create ChIPQC report\n",
    "ChIPQCreport(chipObj, reportName=\"ChIP QC report - chr10\", reportFolder=\"ChIPQCreportChr10\")"
   ]
  },
  {
   "cell_type": "raw",
   "metadata": {},
   "source": [
    "Saving 7 x 7 in image\n",
    "Saving 7 x 7 in image\n",
    "Saving 7 x 7 in image\n",
    "Using Sample as id variables\n",
    "Saving 7 x 7 in image\n",
    "Saving 7 x 7 in image"
   ]
  },
  {
   "cell_type": "markdown",
   "metadata": {},
   "source": [
    "https://github.com/yuwtsri/ABABhwk/blob/master/Unit2-module2-ChIPseq/hw4.3/ChIPQCreportChr10/CCPlot.png"
   ]
  },
  {
   "cell_type": "code",
   "execution_count": null,
   "metadata": {},
   "outputs": [],
   "source": []
  }
 ],
 "metadata": {
  "kernelspec": {
   "display_name": "R",
   "language": "R",
   "name": "ir"
  },
  "language_info": {
   "codemirror_mode": "r",
   "file_extension": ".r",
   "mimetype": "text/x-r-source",
   "name": "R",
   "pygments_lexer": "r",
   "version": "3.5.1"
  }
 },
 "nbformat": 4,
 "nbformat_minor": 2
}
